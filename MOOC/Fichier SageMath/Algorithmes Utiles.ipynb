{
 "cells": [
  {
   "cell_type": "code",
   "execution_count": 1,
   "metadata": {
    "collapsed": true,
    "deletable": true,
    "editable": true
   },
   "outputs": [],
   "source": [
    "def exprapide(x,n):\n",
    "    y=1;\n",
    "    while n!=1 :\n",
    "        if n%2==0 :\n",
    "            x=x^2\n",
    "            n=n/2\n",
    "        else :\n",
    "            y=y*x\n",
    "            x=x^2\n",
    "            n=(n-1)/2\n",
    "    return(y*x)  \n",
    "       "
   ]
  },
  {
   "cell_type": "code",
   "execution_count": 2,
   "metadata": {
    "collapsed": true,
    "deletable": true,
    "editable": true
   },
   "outputs": [],
   "source": [
    "def euclide(a,b) :\n",
    "    while b != 0 :\n",
    "        r=a%b\n",
    "        a=b\n",
    "        b=r\n",
    "    return(a)"
   ]
  },
  {
   "cell_type": "code",
   "execution_count": 3,
   "metadata": {
    "collapsed": true,
    "deletable": true,
    "editable": true
   },
   "outputs": [],
   "source": [
    "def euclide2(a,b) :\n",
    "    c1=0\n",
    "    c2=1\n",
    "    while b!=0 :\n",
    "        r=a%b\n",
    "        s=c1-a//b*c2\n",
    "        c1=c2\n",
    "        c2=s\n",
    "        a=b\n",
    "        b=r\n",
    "    return(a,c1)\n",
    "        "
   ]
  },
  {
   "cell_type": "code",
   "execution_count": 4,
   "metadata": {
    "collapsed": true,
    "deletable": true,
    "editable": true
   },
   "outputs": [],
   "source": [
    "def indiEulernaif(n):\n",
    "    k=0\n",
    "    for j in [1..n]:\n",
    "        if gcd(j,n)==1:\n",
    "            k=k+1\n",
    "    return(k)     "
   ]
  },
  {
   "cell_type": "code",
   "execution_count": 5,
   "metadata": {
    "collapsed": true,
    "deletable": true,
    "editable": true
   },
   "outputs": [],
   "source": [
    "def fermat(n):\n",
    "    for j in [2..n-1]:\n",
    "        if j^(n-1).mod(n)!=1:\n",
    "            return(j)\n",
    "    return()"
   ]
  },
  {
   "cell_type": "code",
   "execution_count": 6,
   "metadata": {
    "collapsed": true,
    "deletable": true,
    "editable": true
   },
   "outputs": [],
   "source": [
    "def chinois(u,v):\n",
    "    n=1\n",
    "    e=0\n",
    "    for j in range(len(u)):\n",
    "        n=n*u[j]\n",
    "    for b in range(len(u)):\n",
    "        o=n/u[b]\n",
    "        e=o*xgcd(o,u[b])[1]*v[b]+e\n",
    "    return(mod(e,n))"
   ]
  },
  {
   "cell_type": "code",
   "execution_count": 7,
   "metadata": {
    "collapsed": true,
    "deletable": true,
    "editable": true
   },
   "outputs": [],
   "source": [
    "def horner(p,a,R):\n",
    "    x=polygen(R,'x')\n",
    "    u=zero_vector(p.degree()+1)\n",
    "    u[p.degree()]=p[p.degree()]\n",
    "    for j in [1..p.degree()]:\n",
    "        u[p.degree()-j]=a*u[p.degree()+1-j]+p[p.degree()-j]\n",
    "    return(u[0])"
   ]
  },
  {
   "cell_type": "code",
   "execution_count": null,
   "metadata": {
    "collapsed": true,
    "deletable": true,
    "editable": true
   },
   "outputs": [],
   "source": []
  }
 ],
 "metadata": {
  "kernelspec": {
   "display_name": "SageMath 8.0",
   "language": "",
   "name": "sagemath"
  },
  "language_info": {
   "codemirror_mode": {
    "name": "ipython",
    "version": 2
   },
   "file_extension": ".py",
   "mimetype": "text/x-python",
   "name": "python",
   "nbconvert_exporter": "python",
   "pygments_lexer": "ipython2",
   "version": "2.7.13"
  }
 },
 "nbformat": 4,
 "nbformat_minor": 2
}
