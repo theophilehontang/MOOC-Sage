{
 "cells": [
  {
   "cell_type": "code",
   "execution_count": 23,
   "metadata": {
    "collapsed": true,
    "deletable": true,
    "editable": true
   },
   "outputs": [],
   "source": [
    "def frac(coef):\n",
    "    n=len(coef)\n",
    "    u=coef[n-1]\n",
    "    for i in range(n-1):\n",
    "        u=coef[n-2-i]+1/u\n",
    "    return(u)\n",
    "        \n",
    "        "
   ]
  },
  {
   "cell_type": "code",
   "execution_count": 25,
   "metadata": {
    "collapsed": false,
    "deletable": true,
    "editable": true
   },
   "outputs": [
    {
     "data": {
      "text/plain": [
       "43/30"
      ]
     },
     "execution_count": 25,
     "metadata": {},
     "output_type": "execute_result"
    }
   ],
   "source": [
    "frac([1,2,3,4])"
   ]
  },
  {
   "cell_type": "code",
   "execution_count": 49,
   "metadata": {
    "collapsed": false,
    "deletable": true,
    "editable": true
   },
   "outputs": [],
   "source": [
    "def quo(coef,n):\n",
    "    p2=0\n",
    "    q2=1\n",
    "    p1=1\n",
    "    q1=0\n",
    "    p=[]\n",
    "    q=[]\n",
    "    p.append(p2)\n",
    "    p.append(p1)\n",
    "    q.append(q2)\n",
    "    q.append(q1)\n",
    "    for i in range(2,len(coef)):\n",
    "        p.append(coef[i-2]*p[i-1]+p[i-2])\n",
    "        q.append(coef[i-2]*q[i-1]+q[i-2])\n",
    "    return(p[n+2]/q[n+2])"
   ]
  },
  {
   "cell_type": "code",
   "execution_count": 56,
   "metadata": {
    "collapsed": false,
    "deletable": true,
    "editable": true
   },
   "outputs": [
    {
     "data": {
      "text/plain": [
       "1.61803398874989"
      ]
     },
     "execution_count": 56,
     "metadata": {},
     "output_type": "execute_result"
    }
   ],
   "source": [
    "numerical_approx(quo([1 for k in range(100)],85))"
   ]
  },
  {
   "cell_type": "code",
   "execution_count": 38,
   "metadata": {
    "collapsed": true,
    "deletable": true,
    "editable": true
   },
   "outputs": [],
   "source": [
    "k=[1,2]"
   ]
  },
  {
   "cell_type": "code",
   "execution_count": 39,
   "metadata": {
    "collapsed": true,
    "deletable": true,
    "editable": true
   },
   "outputs": [],
   "source": [
    "k.append(3)"
   ]
  },
  {
   "cell_type": "code",
   "execution_count": 40,
   "metadata": {
    "collapsed": false,
    "deletable": true,
    "editable": true
   },
   "outputs": [
    {
     "data": {
      "text/html": [
       "<html><script type=\"math/tex; mode=display\">\\newcommand{\\Bold}[1]{\\mathbf{#1}}\\left[1, 2, 3\\right]</script></html>"
      ],
      "text/plain": [
       "[1, 2, 3]"
      ]
     },
     "metadata": {},
     "output_type": "display_data"
    }
   ],
   "source": [
    "show(k)"
   ]
  },
  {
   "cell_type": "code",
   "execution_count": 58,
   "metadata": {
    "collapsed": false,
    "deletable": true,
    "editable": true
   },
   "outputs": [
    {
     "data": {
      "text/plain": [
       "1.61803398874989"
      ]
     },
     "execution_count": 58,
     "metadata": {},
     "output_type": "execute_result"
    }
   ],
   "source": [
    "numerical_approx((sqrt(5)+1)/2)"
   ]
  },
  {
   "cell_type": "code",
   "execution_count": 78,
   "metadata": {
    "collapsed": false,
    "deletable": true,
    "editable": true
   },
   "outputs": [],
   "source": [
    "def approx(x,n):\n",
    "    y=[];a=[]\n",
    "    y.append(x);\n",
    "    i=0;\n",
    "    while(isinstance(y[i],numbers.Integral)==False and i<n):\n",
    "        a.append(floor(y[i]))\n",
    "        y.append(1/((y[i]-a[i]).simplify_rational()))\n",
    "        i=i+1\n",
    "    return(a[n-1])\n",
    "        \n",
    "    "
   ]
  },
  {
   "cell_type": "code",
   "execution_count": 79,
   "metadata": {
    "collapsed": false,
    "deletable": true,
    "editable": true
   },
   "outputs": [
    {
     "data": {
      "text/plain": [
       "59"
      ]
     },
     "execution_count": 79,
     "metadata": {},
     "output_type": "execute_result"
    }
   ],
   "source": [
    "approx(sqrt(pi),1287)"
   ]
  },
  {
   "cell_type": "code",
   "execution_count": 72,
   "metadata": {
    "collapsed": false,
    "deletable": true,
    "editable": true
   },
   "outputs": [
    {
     "data": {
      "text/plain": [
       "False"
      ]
     },
     "execution_count": 72,
     "metadata": {},
     "output_type": "execute_result"
    }
   ],
   "source": [
    "isinstance(8.5,numbers.Integral)"
   ]
  },
  {
   "cell_type": "code",
   "execution_count": 61,
   "metadata": {
    "collapsed": true,
    "deletable": true,
    "editable": true
   },
   "outputs": [],
   "source": [
    "import numbers"
   ]
  },
  {
   "cell_type": "code",
   "execution_count": 55,
   "metadata": {
    "collapsed": true,
    "deletable": true,
    "editable": true
   },
   "outputs": [],
   "source": [
    "def enigme1(x):\n",
    "    y=[];a=[]\n",
    "    y.append(x);\n",
    "    a.append(floor(y[0]))\n",
    "    y.append(1/(y[0]-a[0]))\n",
    "    i=0\n",
    "    while(a[i]!=59):\n",
    "        a.append(floor(y[i+1]))\n",
    "        y.append(1/((y[i+1]-a[i+1]).simplify_rational()))\n",
    "        i=i+1\n",
    "    return(i)"
   ]
  },
  {
   "cell_type": "code",
   "execution_count": 56,
   "metadata": {
    "collapsed": false,
    "deletable": true,
    "editable": true
   },
   "outputs": [
    {
     "data": {
      "text/plain": [
       "1286"
      ]
     },
     "execution_count": 56,
     "metadata": {},
     "output_type": "execute_result"
    }
   ],
   "source": [
    "enigme1(sqrt(pi))"
   ]
  },
  {
   "cell_type": "code",
   "execution_count": 2,
   "metadata": {
    "collapsed": false,
    "deletable": true,
    "editable": true
   },
   "outputs": [],
   "source": [
    "f(x)=2*x*sqrt(1-x^2)"
   ]
  },
  {
   "cell_type": "code",
   "execution_count": 93,
   "metadata": {
    "collapsed": true,
    "deletable": true,
    "editable": true
   },
   "outputs": [],
   "source": [
    "def dessin(f):\n",
    "    g=plot(f,(x,0,1))+plot(x,(x,0,1))+plot(1,(x,0,1))\n",
    "    show(g)"
   ]
  },
  {
   "cell_type": "code",
   "execution_count": 140,
   "metadata": {
    "collapsed": true,
    "deletable": true,
    "editable": true
   },
   "outputs": [],
   "source": [
    "def points(f,a,n):\n",
    "    begin=[(un(f,a,n)[0],0)]\n",
    "    for k in range(n-1):\n",
    "        begin.append((un(f,a,n)[k],un(f,a,n)[k+1]))\n",
    "        begin.append((un(f,a,n)[k+1],un(f,a,n)[k+1]))\n",
    "    return begin"
   ]
  },
  {
   "cell_type": "code",
   "execution_count": 143,
   "metadata": {
    "collapsed": true,
    "deletable": true,
    "editable": true
   },
   "outputs": [],
   "source": [
    "def dessin2(f,a,n):\n",
    "    g=plot(f,(x,0,1))+plot(x,(x,0,1))+line(points(f,a,n))\n",
    "    g.show()"
   ]
  },
  {
   "cell_type": "code",
   "execution_count": 94,
   "metadata": {
    "collapsed": false,
    "deletable": true,
    "editable": true
   },
   "outputs": [
    {
     "data": {
      "image/png": "[encoded data removed]",
      "text/plain": [
       "Graphics object consisting of 3 graphics primitives"
      ]
     },
     "metadata": {},
     "output_type": "display_data"
    }
   ],
   "source": [
    "dessin(f)"
   ]
  },
  {
   "cell_type": "code",
   "execution_count": 145,
   "metadata": {
    "collapsed": false,
    "deletable": true,
    "editable": true
   },
   "outputs": [
    {
     "data": {
      "image/png": "[encoded data removed]",
      "text/plain": [
       "Graphics object consisting of 3 graphics primitives"
      ]
     },
     "metadata": {},
     "output_type": "display_data"
    }
   ],
   "source": [
    "dessin2(f,0.95,100)"
   ]
  },
  {
   "cell_type": "code",
   "execution_count": 31,
   "metadata": {
    "collapsed": true,
    "deletable": true,
    "editable": true
   },
   "outputs": [],
   "source": [
    "def un(f,a,n):\n",
    "    liste=[]\n",
    "    for k in range(n):\n",
    "        liste.append(numerical_approx(a))\n",
    "        a=numerical_approx(f(a))\n",
    "    return liste"
   ]
  },
  {
   "cell_type": "code",
   "execution_count": 177,
   "metadata": {
    "collapsed": false,
    "deletable": true,
    "editable": true
   },
   "outputs": [
    {
     "data": {
      "text/plain": [
       "[0.866025403784439, 0.866025403784439, 0.866025403784439]"
      ]
     },
     "execution_count": 177,
     "metadata": {},
     "output_type": "execute_result"
    }
   ],
   "source": [
    "un(f,sqrt(3)/2,3)"
   ]
  },
  {
   "cell_type": "code",
   "execution_count": 178,
   "metadata": {
    "collapsed": false,
    "deletable": true,
    "editable": true
   },
   "outputs": [
    {
     "data": {
      "text/plain": [
       "[0.587785252292473,\n",
       " 0.951056516295154,\n",
       " 0.587785252292473,\n",
       " 0.951056516295153,\n",
       " 0.587785252292475,\n",
       " 0.951056516295155,\n",
       " 0.587785252292468,\n",
       " 0.951056516295149,\n",
       " 0.587785252292495,\n",
       " 0.951056516295171,\n",
       " 0.587785252292385,\n",
       " 0.951056516295086,\n",
       " 0.587785252292827,\n",
       " 0.951056516295424,\n",
       " 0.587785252291056]"
      ]
     },
     "execution_count": 178,
     "metadata": {},
     "output_type": "execute_result"
    }
   ],
   "source": [
    "un(f,sqrt(10-2*sqrt(5))/4,15)"
   ]
  },
  {
   "cell_type": "code",
   "execution_count": 120,
   "metadata": {
    "collapsed": false,
    "deletable": true,
    "editable": true
   },
   "outputs": [
    {
     "data": {
      "text/plain": [
       "[x == 1/2*sqrt(3)]"
      ]
     },
     "execution_count": 120,
     "metadata": {},
     "output_type": "execute_result"
    }
   ],
   "source": [
    "solve(f(x)==x,x)"
   ]
  },
  {
   "cell_type": "code",
   "execution_count": 125,
   "metadata": {
    "collapsed": false,
    "deletable": true,
    "editable": true
   },
   "outputs": [],
   "source": [
    "numerical_approx(sqrt(3)/2)\n",
    "a=sqrt(3)/2"
   ]
  },
  {
   "cell_type": "code",
   "execution_count": 20,
   "metadata": {
    "collapsed": true,
    "deletable": true,
    "editable": true
   },
   "outputs": [],
   "source": [
    "g(x)=f(f(x))"
   ]
  },
  {
   "cell_type": "code",
   "execution_count": 22,
   "metadata": {
    "collapsed": false,
    "deletable": true,
    "editable": true
   },
   "outputs": [
    {
     "data": {
      "text/plain": [
       "0.951056516295154"
      ]
     },
     "execution_count": 22,
     "metadata": {},
     "output_type": "execute_result"
    }
   ],
   "source": [
    "\n",
    "g(0.6)\n",
    "numerical_approx(sqrt(10+2*sqrt(5))/4)"
   ]
  },
  {
   "cell_type": "code",
   "execution_count": 25,
   "metadata": {
    "collapsed": false,
    "deletable": true,
    "editable": true
   },
   "outputs": [
    {
     "data": {
      "text/plain": [
       "-3.61803398874982 + 1267.09863909773*I"
      ]
     },
     "execution_count": 25,
     "metadata": {},
     "output_type": "execute_result"
    }
   ],
   "source": [
    "numerical_approx(g(1/2*sqrt(5) + 5/2)-(1/2*sqrt(5) + 5/2))"
   ]
  },
  {
   "cell_type": "code",
   "execution_count": 27,
   "metadata": {
    "collapsed": false,
    "deletable": true,
    "editable": true
   },
   "outputs": [
    {
     "data": {
      "text/plain": [
       "[y == 0, y == 1, y == 2, y == 3, y == 4, y == 5]"
      ]
     },
     "execution_count": 27,
     "metadata": {},
     "output_type": "execute_result"
    }
   ],
   "source": [
    "solve(y*(y-1)*(y-2)*(y-3)*(y-4)*(y-5)==0,y)"
   ]
  },
  {
   "cell_type": "code",
   "execution_count": 151,
   "metadata": {
    "collapsed": false,
    "deletable": true,
    "editable": true
   },
   "outputs": [
    {
     "data": {
      "image/png": "[encoded data removed]",
      "text/plain": [
       "Graphics object consisting of 3 graphics primitives"
      ]
     },
     "execution_count": 151,
     "metadata": {},
     "output_type": "execute_result"
    }
   ],
   "source": [
    "plot(g,(x,0,1))+plot(x,(x,0,1))+line([(0.95,g(0.95)),(0.95,0)])"
   ]
  },
  {
   "cell_type": "code",
   "execution_count": 199,
   "metadata": {
    "collapsed": false,
    "deletable": true,
    "editable": true
   },
   "outputs": [
    {
     "data": {
      "text/plain": [
       "[x == -1/4*(4*(1/128*I*sqrt(3) + 1/128)^(1/3) + 1)/(1/128*I*sqrt(3) + 1/128)^(1/6), x == 1/4*(4*(1/128*I*sqrt(3) + 1/128)^(1/3) + 1)/(1/128*I*sqrt(3) + 1/128)^(1/6), x == 1/2*sqrt(3)]"
      ]
     },
     "execution_count": 199,
     "metadata": {},
     "output_type": "execute_result"
    }
   ],
   "source": [
    "solve(h(x)^2==x^2,x)"
   ]
  },
  {
   "cell_type": "code",
   "execution_count": 201,
   "metadata": {
    "collapsed": false,
    "deletable": true,
    "editable": true
   },
   "outputs": [
    {
     "data": {
      "text/plain": [
       "0.984807753012208"
      ]
     },
     "execution_count": 201,
     "metadata": {},
     "output_type": "execute_result"
    }
   ],
   "source": [
    "numerical_approx(1/4*(4*(1/128*I*sqrt(3) + 1/128)^(1/3) + 1)/(1/128*I*sqrt(3) + 1/128)^(1/6))"
   ]
  },
  {
   "cell_type": "code",
   "execution_count": 15,
   "metadata": {
    "collapsed": false,
    "deletable": true,
    "editable": true
   },
   "outputs": [
    {
     "data": {
      "text/html": [
       "<html><script type=\"math/tex; mode=display\">\\newcommand{\\Bold}[1]{\\mathbf{#1}}x \\ {\\mapsto}\\ -64 \\, {\\left(16 \\, {\\left(4 \\, {\\left(x^{2} - 1\\right)} x^{2} + 1\\right)} {\\left(x^{2} - 1\\right)} x^{2} + 1\\right)} {\\left(4 \\, {\\left(x^{2} - 1\\right)} x^{2} + 1\\right)} {\\left(x^{2} - 1\\right)} x^{2}</script></html>"
      ],
      "text/plain": [
       "x |--> -64*(16*(4*(x^2 - 1)*x^2 + 1)*(x^2 - 1)*x^2 + 1)*(4*(x^2 - 1)*x^2 + 1)*(x^2 - 1)*x^2"
      ]
     },
     "metadata": {},
     "output_type": "display_data"
    }
   ],
   "source": [
    "h(x)=f(f(f(x)))\n",
    "show(h^2)\n",
    "assume(1>x>0)"
   ]
  },
  {
   "cell_type": "code",
   "execution_count": 30,
   "metadata": {
    "collapsed": false,
    "deletable": true,
    "editable": true
   },
   "outputs": [
    {
     "data": {
      "image/png": "[encoded data removed]",
      "text/plain": [
       "Graphics object consisting of 9 graphics primitives"
      ]
     },
     "execution_count": 30,
     "metadata": {},
     "output_type": "execute_result"
    }
   ],
   "source": [
    "plot(h,(x,0,1))+plot(x,(x,0,1))+line([(0.342020,0),(0.342020,h(0.342020))])+line([(0.4338837,0),(0.4338837,h(0.4338837))])+line([(0.6427876,0),(0.6427876,h(0.6427876))])+line([(0.7818314825,0),(0.7818314825,h(0.7818314825))])+line([(0.86602540,0),(0.86602540,h(0.86602540))])+line([(0.9749279122,0),(0.97492791220,h(0.9749279122))])+line([(0.9848077530,0),(0.9848077530,h(0.9848077530))])"
   ]
  },
  {
   "cell_type": "code",
   "execution_count": 42,
   "metadata": {
    "collapsed": false,
    "deletable": true,
    "editable": true
   },
   "outputs": [
    {
     "data": {
      "text/plain": [
       "[0.866025403800000,\n",
       " 0.866025403753316,\n",
       " 0.866025403846684,\n",
       " 0.866025403659948,\n",
       " 0.866025404033420,\n",
       " 0.866025403286475,\n",
       " 0.866025404780365,\n",
       " 0.866025401792585,\n",
       " 0.866025407768146,\n",
       " 0.866025395817024,\n",
       " 0.866025419719267,\n",
       " 0.866025371914779,\n",
       " 0.866025467523747,\n",
       " 0.866025276305781,\n",
       " 0.866025658741586,\n",
       " 0.866024893869468,\n",
       " 0.866026423611677,\n",
       " 0.866023364119153,\n",
       " 0.866029483071775,\n",
       " 0.866017245036829,\n",
       " 0.866041720587910,\n",
       " 0.865992767410530,\n",
       " 0.866090665464182,\n",
       " 0.865894836154325,\n",
       " 0.866286361948817,\n",
       " 0.865502779179097,\n",
       " 0.867067819035197,\n",
       " 0.863929244285834,\n",
       " 0.870172352275050,\n",
       " 0.857550464478183]"
      ]
     },
     "execution_count": 42,
     "metadata": {},
     "output_type": "execute_result"
    }
   ],
   "source": [
    "un(f,0.8660254038,30)"
   ]
  },
  {
   "cell_type": "code",
   "execution_count": 12,
   "metadata": {
    "collapsed": false,
    "deletable": true,
    "editable": true
   },
   "outputs": [
    {
     "data": {
      "text/plain": [
       "0.342021289930732"
      ]
     },
     "execution_count": 12,
     "metadata": {},
     "output_type": "execute_result"
    }
   ],
   "source": [
    "p(0.342020)"
   ]
  },
  {
   "cell_type": "code",
   "execution_count": 11,
   "metadata": {
    "collapsed": false,
    "deletable": true,
    "editable": true
   },
   "outputs": [
    {
     "data": {
      "text/plain": [
       "0.984807753012208"
      ]
     },
     "execution_count": 11,
     "metadata": {},
     "output_type": "execute_result"
    }
   ],
   "source": [
    "numerical_approx(1/4*(4*(1/128*I*sqrt(3) + 1/128)^(1/3) + 1)/(1/128*I*sqrt(3) + 1/128)^(1/6))"
   ]
  },
  {
   "cell_type": "code",
   "execution_count": 14,
   "metadata": {
    "collapsed": true,
    "deletable": true,
    "editable": true
   },
   "outputs": [],
   "source": [
    "y=var('y')"
   ]
  },
  {
   "cell_type": "code",
   "execution_count": 53,
   "metadata": {
    "collapsed": true,
    "deletable": true,
    "editable": true
   },
   "outputs": [],
   "source": []
  },
  {
   "cell_type": "code",
   "execution_count": null,
   "metadata": {
    "collapsed": false,
    "deletable": true,
    "editable": true
   },
   "outputs": [],
   "source": []
  },
  {
   "cell_type": "code",
   "execution_count": 7,
   "metadata": {
    "collapsed": false,
    "deletable": true,
    "editable": true
   },
   "outputs": [],
   "source": [
    "assume(x,'real')"
   ]
  },
  {
   "cell_type": "code",
   "execution_count": 198,
   "metadata": {
    "collapsed": false,
    "deletable": true,
    "editable": true
   },
   "outputs": [
    {
     "data": {
      "text/plain": [
       "[]"
      ]
     },
     "execution_count": 198,
     "metadata": {},
     "output_type": "execute_result"
    }
   ],
   "source": [
    "solve(x^2-1==0,x)"
   ]
  },
  {
   "cell_type": "code",
   "execution_count": 266,
   "metadata": {
    "collapsed": false,
    "deletable": true,
    "editable": true
   },
   "outputs": [],
   "source": [
    "def google(m,n):\n",
    "    p0=[]\n",
    "    liste0=[1,2,3]\n",
    "    liste1=[2,3,4]\n",
    "    liste2=[3,4]\n",
    "    liste3=[1,5,7,9]\n",
    "    liste4=[0]\n",
    "    liste5=[1,3,7,9]\n",
    "    liste6=[4,8]\n",
    "    liste7=[1,3,5,9]\n",
    "    liste8=[0,9]\n",
    "    liste9=[6,7,8]\n",
    "    N0=len(liste0)\n",
    "    N1=len(liste1)\n",
    "    N2=len(liste2)\n",
    "    N3=len(liste3)\n",
    "    N4=len(liste4)\n",
    "    N5=len(liste5)\n",
    "    N6=len(liste6)\n",
    "    N7=len(liste7)\n",
    "    N8=len(liste8)\n",
    "    N9=len(liste9)\n",
    "    p0.append(1); p0.append(1);p0.append(1); p0.append(1); p0.append(1); p0.append(1); p0.append(1); p0.append(1); p0.append(1); p0.append(1);\n",
    "    for j in range(10):\n",
    "        A=0\n",
    "        for i in range(3):\n",
    "            if liste0[i]==j:\n",
    "                A=A+p0[0]/N0\n",
    "            if liste1[i]==j:\n",
    "                A=A+p0[0]/N1\n",
    "            if liste9[i]==j:\n",
    "                A=A+p0[0]/N9\n",
    "        for i in range(2):\n",
    "            if liste2[i]==j:\n",
    "                A=A+p0[0]/N2\n",
    "            if liste6[i]==j:\n",
    "                A=A+p0[0]/N6\n",
    "            if liste8[i]==j:\n",
    "                A=A+p0[0]/N8\n",
    "        for i in range(4):\n",
    "            if liste3[i]==j:\n",
    "                A=A+p0[0]/N3\n",
    "            if liste5[i]==j:\n",
    "                A=A+p0[0]/N5\n",
    "            if liste7[i]==j:\n",
    "                A=A+p0[0]/N7\n",
    "        for i in range(1):\n",
    "            if liste4[i]==j:\n",
    "                A=A+p0[0]/N4\n",
    "        p0.append(A)\n",
    "    for k in range(1,n):\n",
    "        for j in range(10):\n",
    "            A=0\n",
    "            for i in range(3):\n",
    "                if liste0[i]==j:\n",
    "                    A=A+p0[10*k]/N0\n",
    "                if liste1[i]==j:\n",
    "                    A=A+p0[10*k+1]/N1\n",
    "                if liste9[i]==j:\n",
    "                        A=A+p0[10*k+9]/N9\n",
    "            for i in range(2):\n",
    "                if liste2[i]==j:\n",
    "                    A=A+p0[10*k+2]/N2\n",
    "                if liste6[i]==j:\n",
    "                    A=A+p0[10*k+6]/N6\n",
    "                if liste8[i]==j:\n",
    "                    A=A+p0[10*k+8]/N8\n",
    "            for i in range(4):\n",
    "                if liste3[i]==j:\n",
    "                    A=A+p0[10*k+3]/N3\n",
    "                if liste5[i]==j:\n",
    "                    A=A+p0[10*k+5]/N5\n",
    "                if liste7[i]==j:\n",
    "                    A=A+p0[10*k+7]/N7\n",
    "            for i in range(1):\n",
    "                if liste4[i]==j:\n",
    "                    A=A+p0[10*k+4]/N4\n",
    "            p0.append(A)\n",
    "    p1=[];\n",
    "    for l in range(n):\n",
    "        p1.append(p0[10*l+m])\n",
    "    return(numerical_approx(p1[n-1]))\n",
    "    \n",
    "        \n",
    "    \n",
    "        \n",
    "        \n",
    "            \n",
    "        \n",
    "    "
   ]
  },
  {
   "cell_type": "code",
   "execution_count": 284,
   "metadata": {
    "collapsed": false,
    "deletable": true,
    "editable": true,
    "scrolled": true
   },
   "outputs": [
    {
     "data": {
      "text/plain": [
       "1.72634870992963"
      ]
     },
     "execution_count": 284,
     "metadata": {},
     "output_type": "execute_result"
    }
   ],
   "source": [
    "google(3,100)"
   ]
  },
  {
   "cell_type": "code",
   "execution_count": 258,
   "metadata": {
    "collapsed": false,
    "deletable": true,
    "editable": true
   },
   "outputs": [
    {
     "data": {
      "text/plain": [
       "427/432"
      ]
     },
     "execution_count": 258,
     "metadata": {},
     "output_type": "execute_result"
    }
   ],
   "source": [
    "55/(36*3)+23/48"
   ]
  },
  {
   "cell_type": "code",
   "execution_count": 264,
   "metadata": {
    "collapsed": false,
    "deletable": true,
    "editable": true
   },
   "outputs": [
    {
     "data": {
      "text/plain": [
       "1.33698201720094"
      ]
     },
     "execution_count": 264,
     "metadata": {},
     "output_type": "execute_result"
    }
   ],
   "source": [
    "numerical_approx(242479033698106434816447661256367860732992486340570757862901/181362973157823467913261946736749829635710408998523129298944)"
   ]
  },
  {
   "cell_type": "code",
   "execution_count": 265,
   "metadata": {
    "collapsed": false,
    "deletable": true,
    "editable": true
   },
   "outputs": [
    {
     "data": {
      "text/plain": [
       "1.33698201720094"
      ]
     },
     "execution_count": 265,
     "metadata": {},
     "output_type": "execute_result"
    }
   ],
   "source": [
    "numerical_approx(13093867819697747480156721544180379326459844820987566284317511/9793600550522467267316145123784490800328362085920248982142976)"
   ]
  },
  {
   "cell_type": "code",
   "execution_count": 75,
   "metadata": {
    "collapsed": false,
    "deletable": true,
    "editable": true
   },
   "outputs": [],
   "source": [
    "def H(x,y):\n",
    "    return y+1-alpha*x^2, beta*x"
   ]
  },
  {
   "cell_type": "code",
   "execution_count": 31,
   "metadata": {
    "collapsed": false,
    "deletable": true,
    "editable": true
   },
   "outputs": [
    {
     "data": {
      "text/plain": [
       "(-alpha + 2, beta)"
      ]
     },
     "execution_count": 31,
     "metadata": {},
     "output_type": "execute_result"
    }
   ],
   "source": [
    "H(1,1)"
   ]
  },
  {
   "cell_type": "code",
   "execution_count": 2,
   "metadata": {
    "collapsed": false,
    "deletable": true,
    "editable": true
   },
   "outputs": [],
   "source": [
    "def henon(x0,y0,n,alpha,beta):\n",
    "    A=[]\n",
    "    A.append(x0);\n",
    "    A.append(y0);\n",
    "    g=plot(point((A[x0],A[y0])))\n",
    "    for i in range(n):\n",
    "        x=x0;\n",
    "        y=y0;\n",
    "        A.append(y+1-alpha*x^2)\n",
    "        A.append(beta*x)\n",
    "        x0=y+1-alpha*x^2\n",
    "        y0=beta*x\n",
    "    for j in range(1,n):\n",
    "        g=g+plot(point((A[2*j],A[2*j+1])))\n",
    "    return(g)\n",
    "        "
   ]
  },
  {
   "cell_type": "code",
   "execution_count": 4,
   "metadata": {
    "collapsed": false,
    "deletable": true,
    "editable": true
   },
   "outputs": [
    {
     "data": {
      "text/html": [
       "<html><script type=\"math/tex; mode=display\">\\newcommand{\\Bold}[1]{\\mathbf{#1}}464</script></html>"
      ],
      "text/plain": [
       "464"
      ]
     },
     "metadata": {},
     "output_type": "display_data"
    },
    {
     "data": {
      "image/png": "[encoded data removed]",
      "text/plain": [
       "Graphics object consisting of 464 graphics primitives"
      ]
     },
     "execution_count": 4,
     "metadata": {},
     "output_type": "execute_result"
    }
   ],
   "source": [
    "zoomhenon(0,0,10000,1.4,0.3,0,0.5,0.20,0.22)"
   ]
  },
  {
   "cell_type": "code",
   "execution_count": null,
   "metadata": {
    "collapsed": false,
    "deletable": true,
    "editable": true
   },
   "outputs": [],
   "source": [
    "henon(0,0,1000,14/10,3/10)"
   ]
  },
  {
   "cell_type": "code",
   "execution_count": 1,
   "metadata": {
    "collapsed": false,
    "deletable": true,
    "editable": true
   },
   "outputs": [],
   "source": [
    "def zoomhenon(x0,y0,n,alpha,beta,xmin,xmax,ymin,ymax):\n",
    "    A=[]\n",
    "    A.append(x0);\n",
    "    A.append(y0);\n",
    "    for i in range(n):\n",
    "        x=x0;\n",
    "        y=y0;\n",
    "        A.append(y+1-alpha*x^2)\n",
    "        A.append(beta*x)\n",
    "        x0=y+1-alpha*x^2\n",
    "        y0=beta*x\n",
    "    o=0\n",
    "    while  xmin>A[2*o] or xmax<A[2*o] or ymin>A[2*o+1] or ymax<A[2*o+1]:\n",
    "        o=o+1\n",
    "    g=plot(point((A[2*o],A[2*o+1])))\n",
    "    h=1\n",
    "    for j in range(o+1,n):\n",
    "        if xmin<=A[2*j] and xmax>=A[2*j] and ymin<=A[2*j+1] and ymax>=A[2*j+1]:\n",
    "            g=g+plot(point((A[2*j],A[2*j+1])))\n",
    "            h=h+1\n",
    "    show(h)\n",
    "    return(g)"
   ]
  },
  {
   "cell_type": "code",
   "execution_count": 74,
   "metadata": {
    "collapsed": false,
    "deletable": true,
    "editable": true
   },
   "outputs": [],
   "source": [
    "alpha=1.4\n",
    "beta=0.3"
   ]
  },
  {
   "cell_type": "code",
   "execution_count": null,
   "metadata": {
    "collapsed": false,
    "deletable": true,
    "editable": true
   },
   "outputs": [],
   "source": []
  },
  {
   "cell_type": "code",
   "execution_count": 79,
   "metadata": {
    "collapsed": false,
    "deletable": true,
    "editable": true
   },
   "outputs": [
    {
     "data": {
      "text/plain": [
       "(-0.400000000000000, 0.300000000000000)"
      ]
     },
     "execution_count": 79,
     "metadata": {},
     "output_type": "execute_result"
    }
   ],
   "source": [
    "H(1,0)"
   ]
  },
  {
   "cell_type": "code",
   "execution_count": 80,
   "metadata": {
    "collapsed": false,
    "deletable": true,
    "editable": true
   },
   "outputs": [
    {
     "data": {
      "text/plain": [
       "(1.07600000000000, -0.120000000000000)"
      ]
     },
     "execution_count": 80,
     "metadata": {},
     "output_type": "execute_result"
    }
   ],
   "source": [
    "H(-0.4,0.3)"
   ]
  },
  {
   "cell_type": "code",
   "execution_count": 43,
   "metadata": {
    "collapsed": false,
    "deletable": true,
    "editable": true
   },
   "outputs": [
    {
     "data": {
      "text/plain": [
       "4160"
      ]
     },
     "execution_count": 43,
     "metadata": {},
     "output_type": "execute_result"
    }
   ],
   "source": [
    "floor((0.3420201433+0.4338837391+0.6427876097+0.7818314825+0.9749279122+0.9848077530)*1000)"
   ]
  },
  {
   "cell_type": "code",
   "execution_count": null,
   "metadata": {
    "collapsed": true
   },
   "outputs": [],
   "source": []
  }
 ],
 "metadata": {
  "kernelspec": {
   "display_name": "SageMath 8.0",
   "language": "",
   "name": "sagemath"
  },
  "language_info": {
   "codemirror_mode": {
    "name": "ipython",
    "version": 2
   },
   "file_extension": ".py",
   "mimetype": "text/x-python",
   "name": "python",
   "nbconvert_exporter": "python",
   "pygments_lexer": "ipython2",
   "version": "2.7.13"
  }
 },
 "nbformat": 4,
 "nbformat_minor": 2
}
