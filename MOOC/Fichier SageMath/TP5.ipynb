{
 "cells": [
  {
   "cell_type": "code",
   "execution_count": 3,
   "metadata": {
    "collapsed": false,
    "deletable": true,
    "editable": true
   },
   "outputs": [
    {
     "data": {
      "text/plain": [
       "3"
      ]
     },
     "execution_count": 3,
     "metadata": {},
     "output_type": "execute_result"
    }
   ],
   "source": [
    "len(range(3))"
   ]
  },
  {
   "cell_type": "code",
   "execution_count": 4,
   "metadata": {
    "collapsed": false,
    "deletable": true,
    "editable": true
   },
   "outputs": [],
   "source": [
    "def circulante(liste):\n",
    "    n=len(liste)\n",
    "    A=identity_matrix(n)\n",
    "    for i in range(n):\n",
    "        for j in range(n):\n",
    "            A[i,j]=liste[j]\n",
    "        liste=permutation(liste)\n",
    "    return(A)"
   ]
  },
  {
   "cell_type": "code",
   "execution_count": 13,
   "metadata": {
    "collapsed": false,
    "deletable": true,
    "editable": true
   },
   "outputs": [
    {
     "data": {
      "text/plain": [
       "1"
      ]
     },
     "execution_count": 13,
     "metadata": {},
     "output_type": "execute_result"
    }
   ],
   "source": [
    "circulante([1,2,3,4,5])[0,0]"
   ]
  },
  {
   "cell_type": "code",
   "execution_count": 6,
   "metadata": {
    "collapsed": true,
    "deletable": true,
    "editable": true
   },
   "outputs": [],
   "source": [
    "def permutation(liste):\n",
    "    n=len(liste)\n",
    "    c=liste[0]\n",
    "    liste[0]=liste[n-1]\n",
    "    for k in range(n-2):\n",
    "        liste[n-(k+1)]=liste[n-(k+2)]\n",
    "    liste[1]=c\n",
    "    return(liste)"
   ]
  },
  {
   "cell_type": "code",
   "execution_count": 7,
   "metadata": {
    "collapsed": false,
    "deletable": true,
    "editable": true
   },
   "outputs": [],
   "source": [
    "def test(A):\n",
    "    n=A.ncols()\n",
    "    liste=[]\n",
    "    li=[]\n",
    "    for i in range(n):\n",
    "        liste.append(A[0,i])\n",
    "    liste=permutation(liste)\n",
    "    for j in range(1,n):\n",
    "        for i in range(n):\n",
    "            li.append(A[j,i])            \n",
    "        if li!=liste:\n",
    "            return(False)\n",
    "        li=[]\n",
    "        liste=permutation(liste)\n",
    "    return(True)\n",
    "    \n",
    "            \n",
    "    "
   ]
  },
  {
   "cell_type": "code",
   "execution_count": 8,
   "metadata": {
    "collapsed": false,
    "deletable": true,
    "editable": true
   },
   "outputs": [
    {
     "data": {
      "text/html": [
       "<html><script type=\"math/tex; mode=display\">\\newcommand{\\Bold}[1]{\\mathbf{#1}}\\left(\\begin{array}{rrrrr}\n",
       "3 & 1 & 4 & 1 & 5 \\\\\n",
       "5 & 3 & 1 & 4 & 1 \\\\\n",
       "1 & 5 & 3 & 1 & 4 \\\\\n",
       "4 & 1 & 5 & 3 & 1 \\\\\n",
       "1 & 4 & 1 & 5 & 3\n",
       "\\end{array}\\right)</script></html>"
      ],
      "text/plain": [
       "[3 1 4 1 5]\n",
       "[5 3 1 4 1]\n",
       "[1 5 3 1 4]\n",
       "[4 1 5 3 1]\n",
       "[1 4 1 5 3]"
      ]
     },
     "metadata": {},
     "output_type": "display_data"
    }
   ],
   "source": [
    "M=circulante([3,1,4,1,5])\n",
    "show(M)"
   ]
  },
  {
   "cell_type": "code",
   "execution_count": 9,
   "metadata": {
    "collapsed": false,
    "deletable": true,
    "editable": true
   },
   "outputs": [
    {
     "data": {
      "text/html": [
       "<html><script type=\"math/tex; mode=display\">\\newcommand{\\Bold}[1]{\\mathbf{#1}}\\left(\\begin{array}{rrrrr}\n",
       "0 & 1 & 0 & 0 & 0 \\\\\n",
       "0 & 0 & 1 & 0 & 0 \\\\\n",
       "0 & 0 & 0 & 1 & 0 \\\\\n",
       "0 & 0 & 0 & 0 & 1 \\\\\n",
       "1 & 0 & 0 & 0 & 0\n",
       "\\end{array}\\right)</script></html>"
      ],
      "text/plain": [
       "[0 1 0 0 0]\n",
       "[0 0 1 0 0]\n",
       "[0 0 0 1 0]\n",
       "[0 0 0 0 1]\n",
       "[1 0 0 0 0]"
      ]
     },
     "metadata": {},
     "output_type": "display_data"
    }
   ],
   "source": [
    "J=circulante([0,1,0,0,0])\n",
    "show(J)"
   ]
  },
  {
   "cell_type": "code",
   "execution_count": 10,
   "metadata": {
    "collapsed": false,
    "deletable": true,
    "editable": true
   },
   "outputs": [
    {
     "data": {
      "text/html": [
       "<html><script type=\"math/tex; mode=display\">\\newcommand{\\Bold}[1]{\\mathbf{#1}}\\left(\\begin{array}{rrrrr}\n",
       "0 & 1 & 0 & 0 & 0 \\\\\n",
       "0 & 0 & 1 & 0 & 0 \\\\\n",
       "0 & 0 & 0 & 1 & 0 \\\\\n",
       "0 & 0 & 0 & 0 & 1 \\\\\n",
       "1 & 0 & 0 & 0 & 0\n",
       "\\end{array}\\right)</script></html>"
      ],
      "text/plain": [
       "[0 1 0 0 0]\n",
       "[0 0 1 0 0]\n",
       "[0 0 0 1 0]\n",
       "[0 0 0 0 1]\n",
       "[1 0 0 0 0]"
      ]
     },
     "metadata": {},
     "output_type": "display_data"
    },
    {
     "data": {
      "text/html": [
       "<html><script type=\"math/tex; mode=display\">\\newcommand{\\Bold}[1]{\\mathbf{#1}}\\left(\\begin{array}{rrrrr}\n",
       "0 & 0 & 1 & 0 & 0 \\\\\n",
       "0 & 0 & 0 & 1 & 0 \\\\\n",
       "0 & 0 & 0 & 0 & 1 \\\\\n",
       "1 & 0 & 0 & 0 & 0 \\\\\n",
       "0 & 1 & 0 & 0 & 0\n",
       "\\end{array}\\right)</script></html>"
      ],
      "text/plain": [
       "[0 0 1 0 0]\n",
       "[0 0 0 1 0]\n",
       "[0 0 0 0 1]\n",
       "[1 0 0 0 0]\n",
       "[0 1 0 0 0]"
      ]
     },
     "metadata": {},
     "output_type": "display_data"
    },
    {
     "data": {
      "text/html": [
       "<html><script type=\"math/tex; mode=display\">\\newcommand{\\Bold}[1]{\\mathbf{#1}}\\left(\\begin{array}{rrrrr}\n",
       "0 & 0 & 0 & 1 & 0 \\\\\n",
       "0 & 0 & 0 & 0 & 1 \\\\\n",
       "1 & 0 & 0 & 0 & 0 \\\\\n",
       "0 & 1 & 0 & 0 & 0 \\\\\n",
       "0 & 0 & 1 & 0 & 0\n",
       "\\end{array}\\right)</script></html>"
      ],
      "text/plain": [
       "[0 0 0 1 0]\n",
       "[0 0 0 0 1]\n",
       "[1 0 0 0 0]\n",
       "[0 1 0 0 0]\n",
       "[0 0 1 0 0]"
      ]
     },
     "metadata": {},
     "output_type": "display_data"
    },
    {
     "data": {
      "text/html": [
       "<html><script type=\"math/tex; mode=display\">\\newcommand{\\Bold}[1]{\\mathbf{#1}}\\left(\\begin{array}{rrrrr}\n",
       "0 & 0 & 0 & 0 & 1 \\\\\n",
       "1 & 0 & 0 & 0 & 0 \\\\\n",
       "0 & 1 & 0 & 0 & 0 \\\\\n",
       "0 & 0 & 1 & 0 & 0 \\\\\n",
       "0 & 0 & 0 & 1 & 0\n",
       "\\end{array}\\right)</script></html>"
      ],
      "text/plain": [
       "[0 0 0 0 1]\n",
       "[1 0 0 0 0]\n",
       "[0 1 0 0 0]\n",
       "[0 0 1 0 0]\n",
       "[0 0 0 1 0]"
      ]
     },
     "metadata": {},
     "output_type": "display_data"
    }
   ],
   "source": [
    "show(J);show(J^2);show(J^3);show(J^4)"
   ]
  },
  {
   "cell_type": "code",
   "execution_count": 14,
   "metadata": {
    "collapsed": false,
    "deletable": true,
    "editable": true
   },
   "outputs": [
    {
     "data": {
      "text/plain": [
       "True"
      ]
     },
     "execution_count": 14,
     "metadata": {},
     "output_type": "execute_result"
    }
   ],
   "source": [
    "(3*identity_matrix(5)+J+4*J^2+J^3+5*J^4)==M"
   ]
  },
  {
   "cell_type": "code",
   "execution_count": 15,
   "metadata": {
    "collapsed": true,
    "deletable": true,
    "editable": true
   },
   "outputs": [],
   "source": [
    "def exprapide(A,n):\n",
    "    m=A.ncols()\n",
    "    produit=identity_matrix(m)\n",
    "    puissance=A\n",
    "    while n>0:\n",
    "        if n%2==1:\n",
    "            produit=produit*puissance\n",
    "        puissance=puissance*puissance\n",
    "        n=floor(n/2)\n",
    "    return(produit)"
   ]
  },
  {
   "cell_type": "code",
   "execution_count": 16,
   "metadata": {
    "collapsed": false,
    "deletable": true,
    "editable": true
   },
   "outputs": [
    {
     "data": {
      "text/plain": [
       "[107134 107075 108815 106005 108795]\n",
       "[108795 107134 107075 108815 106005]\n",
       "[106005 108795 107134 107075 108815]\n",
       "[108815 106005 108795 107134 107075]\n",
       "[107075 108815 106005 108795 107134]"
      ]
     },
     "execution_count": 16,
     "metadata": {},
     "output_type": "execute_result"
    }
   ],
   "source": [
    "exprapide(M,5)"
   ]
  },
  {
   "cell_type": "code",
   "execution_count": 17,
   "metadata": {
    "collapsed": false,
    "deletable": true,
    "editable": true
   },
   "outputs": [
    {
     "data": {
      "text/plain": [
       "[107134 107075 108815 106005 108795]\n",
       "[108795 107134 107075 108815 106005]\n",
       "[106005 108795 107134 107075 108815]\n",
       "[108815 106005 108795 107134 107075]\n",
       "[107075 108815 106005 108795 107134]"
      ]
     },
     "execution_count": 17,
     "metadata": {},
     "output_type": "execute_result"
    }
   ],
   "source": [
    "M^5"
   ]
  },
  {
   "cell_type": "code",
   "execution_count": 18,
   "metadata": {
    "collapsed": true,
    "deletable": true,
    "editable": true
   },
   "outputs": [],
   "source": [
    "def expc(A,n):\n",
    "    m=A.ncols()\n",
    "    i=0\n",
    "    produit=identity_matrix(m)\n",
    "    puissance=A\n",
    "    while n>0:\n",
    "        if n%2==1:\n",
    "            produit=produit*puissance\n",
    "            i=i+1\n",
    "        puissance=puissance*puissance\n",
    "        i=i+1\n",
    "        n=floor(n/2)\n",
    "    return(i)\n",
    "    "
   ]
  },
  {
   "cell_type": "code",
   "execution_count": 26,
   "metadata": {
    "collapsed": false,
    "deletable": true,
    "editable": true
   },
   "outputs": [
    {
     "data": {
      "text/plain": [
       "20"
      ]
     },
     "execution_count": 26,
     "metadata": {},
     "output_type": "execute_result"
    }
   ],
   "source": [
    "expc(M,20000)"
   ]
  },
  {
   "cell_type": "code",
   "execution_count": 2,
   "metadata": {
    "collapsed": false,
    "deletable": true,
    "editable": true
   },
   "outputs": [
    {
     "data": {
      "text/plain": [
       "gamma*(log(P) + log(V)) - c"
      ]
     },
     "execution_count": 2,
     "metadata": {},
     "output_type": "execute_result"
    }
   ],
   "source": [
    "gamma*(ln(P)+ln(V))-c "
   ]
  },
  {
   "cell_type": "code",
   "execution_count": 1,
   "metadata": {
    "collapsed": false,
    "deletable": true,
    "editable": true
   },
   "outputs": [],
   "source": [
    "var('gamma');\n",
    "var('P');\n",
    "var('V');\n",
    "var('c');"
   ]
  },
  {
   "cell_type": "code",
   "execution_count": 1,
   "metadata": {
    "collapsed": false,
    "deletable": true,
    "editable": true
   },
   "outputs": [
    {
     "data": {
      "text/html": [
       "<html><script type=\"math/tex; mode=display\">\\newcommand{\\Bold}[1]{\\mathbf{#1}}\\left(\\begin{array}{rr}\n",
       "1 & \\log\\left(2\\right) \\\\\n",
       "1 & \\log\\left(4\\right) \\\\\n",
       "1 & \\log\\left(6\\right) \\\\\n",
       "1 & \\log\\left(9\\right) \\\\\n",
       "1 & \\log\\left(10\\right)\n",
       "\\end{array}\\right)</script></html>"
      ],
      "text/plain": [
       "[      1  log(2)]\n",
       "[      1  log(4)]\n",
       "[      1  log(6)]\n",
       "[      1  log(9)]\n",
       "[      1 log(10)]"
      ]
     },
     "metadata": {},
     "output_type": "display_data"
    },
    {
     "data": {
      "text/html": [
       "<html><script type=\"math/tex; mode=display\">\\newcommand{\\Bold}[1]{\\mathbf{#1}}\\left(\\begin{array}{r}\n",
       "\\log\\left(110\\right) \\\\\n",
       "\\log\\left(55\\right) \\\\\n",
       "\\log\\left(30\\right) \\\\\n",
       "\\log\\left(18\\right) \\\\\n",
       "\\log\\left(11\\right)\n",
       "\\end{array}\\right)</script></html>"
      ],
      "text/plain": [
       "[log(110)]\n",
       "[ log(55)]\n",
       "[ log(30)]\n",
       "[ log(18)]\n",
       "[ log(11)]"
      ]
     },
     "metadata": {},
     "output_type": "display_data"
    }
   ],
   "source": [
    "A=matrix(5,2,[[1,ln(2)],[1,ln(4)],[1,ln(6)],[1,ln(9)],[1,ln(10)]]);\n",
    "B=matrix(5,1,[ln(110),ln(55),ln(30),ln(18),ln(11)]);\n",
    "show(A);\n",
    "show(B)"
   ]
  },
  {
   "cell_type": "code",
   "execution_count": 5,
   "metadata": {
    "collapsed": false,
    "deletable": true,
    "editable": true
   },
   "outputs": [
    {
     "data": {
      "text/plain": [
       "[ 5.75373305166558]\n",
       "[-1.35842465479502]"
      ]
     },
     "execution_count": 5,
     "metadata": {},
     "output_type": "execute_result"
    }
   ],
   "source": [
    "numerical_approx((transpose(A)*A)^-1*transpose(A)*B)"
   ]
  },
  {
   "cell_type": "code",
   "execution_count": 19,
   "metadata": {
    "collapsed": false,
    "deletable": true,
    "editable": true
   },
   "outputs": [
    {
     "data": {
      "text/plain": [
       "113.553571428571"
      ]
     },
     "execution_count": 19,
     "metadata": {},
     "output_type": "execute_result"
    }
   ],
   "source": [
    "numerical_approx(6359/56)"
   ]
  },
  {
   "cell_type": "code",
   "execution_count": 20,
   "metadata": {
    "collapsed": false,
    "deletable": true,
    "editable": true
   },
   "outputs": [
    {
     "data": {
      "text/plain": [
       "-11.0892857142857"
      ]
     },
     "execution_count": 20,
     "metadata": {},
     "output_type": "execute_result"
    }
   ],
   "source": [
    "numerical_approx(-621/56)"
   ]
  },
  {
   "cell_type": "code",
   "execution_count": 3,
   "metadata": {
    "collapsed": false,
    "deletable": true,
    "editable": true
   },
   "outputs": [
    {
     "data": {
      "text/plain": [
       "1.00000000000000"
      ]
     },
     "execution_count": 3,
     "metadata": {},
     "output_type": "execute_result"
    }
   ],
   "source": [
    "numerical_approx(ln(e))"
   ]
  },
  {
   "cell_type": "code",
   "execution_count": 37,
   "metadata": {
    "collapsed": true,
    "deletable": true,
    "editable": true
   },
   "outputs": [],
   "source": [
    "def proche():\n",
    "    L=[]\n",
    "    a=0.35842465479502\n",
    "    k=0\n",
    "    m=0\n",
    "    for j in srange(1,100):\n",
    "        for i in srange(1,100):\n",
    "            L.append(abs(1.35842465479502-j/i))\n",
    "            if abs(1.35842465479502-j/i)<a :\n",
    "                a=abs(1.35842465479502-j/i)\n",
    "                k=j\n",
    "                m=i\n",
    "    show(a)\n",
    "    show(k)\n",
    "    show(m)"
   ]
  },
  {
   "cell_type": "code",
   "execution_count": 38,
   "metadata": {
    "collapsed": false,
    "deletable": true,
    "editable": true
   },
   "outputs": [
    {
     "data": {
      "text/html": [
       "<html><script type=\"math/tex; mode=display\">\\newcommand{\\Bold}[1]{\\mathbf{#1}}0.0000659112427157105</script></html>"
      ],
      "text/plain": [
       "0.0000659112427157105"
      ]
     },
     "metadata": {},
     "output_type": "display_data"
    },
    {
     "data": {
      "text/html": [
       "<html><script type=\"math/tex; mode=display\">\\newcommand{\\Bold}[1]{\\mathbf{#1}}72</script></html>"
      ],
      "text/plain": [
       "72"
      ]
     },
     "metadata": {},
     "output_type": "display_data"
    },
    {
     "data": {
      "text/html": [
       "<html><script type=\"math/tex; mode=display\">\\newcommand{\\Bold}[1]{\\mathbf{#1}}53</script></html>"
      ],
      "text/plain": [
       "53"
      ]
     },
     "metadata": {},
     "output_type": "display_data"
    }
   ],
   "source": [
    "proche()"
   ]
  },
  {
   "cell_type": "code",
   "execution_count": 39,
   "metadata": {
    "collapsed": false,
    "deletable": true,
    "editable": true
   },
   "outputs": [
    {
     "data": {
      "text/plain": [
       "1.35849056603774"
      ]
     },
     "execution_count": 39,
     "metadata": {},
     "output_type": "execute_result"
    }
   ],
   "source": [
    "numerical_approx(72/53)"
   ]
  },
  {
   "cell_type": "code",
   "execution_count": 21,
   "metadata": {
    "collapsed": true,
    "deletable": true,
    "editable": true
   },
   "outputs": [],
   "source": [
    "def moindres_carres(A,B):\n",
    "    tA=A.transpose()\n",
    "    return((tA*A).inverse()*tA*B)\n"
   ]
  },
  {
   "cell_type": "code",
   "execution_count": 22,
   "metadata": {
    "collapsed": false,
    "deletable": true,
    "editable": true
   },
   "outputs": [
    {
     "data": {
      "text/plain": [
       "[6359/56]\n",
       "[-621/56]"
      ]
     },
     "execution_count": 22,
     "metadata": {},
     "output_type": "execute_result"
    }
   ],
   "source": [
    "moindres_carres(A,B)"
   ]
  },
  {
   "cell_type": "code",
   "execution_count": 26,
   "metadata": {
    "collapsed": false,
    "deletable": true,
    "editable": true
   },
   "outputs": [],
   "source": [
    "from sage.plot.point import Point"
   ]
  },
  {
   "cell_type": "code",
   "execution_count": 31,
   "metadata": {
    "collapsed": false,
    "deletable": true,
    "editable": true
   },
   "outputs": [
    {
     "ename": "TypeError",
     "evalue": "__init__() takes exactly 4 arguments (2 given)",
     "output_type": "error",
     "traceback": [
      "\u001b[0;31m---------------------------------------------------------------------------\u001b[0m",
      "\u001b[0;31mTypeError\u001b[0m                                 Traceback (most recent call last)",
      "\u001b[0;32m<ipython-input-31-8a47c15c3988>\u001b[0m in \u001b[0;36m<module>\u001b[0;34m()\u001b[0m\n\u001b[0;32m----> 1\u001b[0;31m \u001b[0mP\u001b[0m \u001b[0;34m=\u001b[0m \u001b[0mPoint\u001b[0m\u001b[0;34m(\u001b[0m\u001b[0;34m[\u001b[0m\u001b[0mInteger\u001b[0m\u001b[0;34m(\u001b[0m\u001b[0;36m1\u001b[0m\u001b[0;34m)\u001b[0m\u001b[0;34m,\u001b[0m\u001b[0mInteger\u001b[0m\u001b[0;34m(\u001b[0m\u001b[0;36m2\u001b[0m\u001b[0;34m)\u001b[0m\u001b[0;34m]\u001b[0m\u001b[0;34m)\u001b[0m\u001b[0;34m\u001b[0m\u001b[0m\n\u001b[0m",
      "\u001b[0;31mTypeError\u001b[0m: __init__() takes exactly 4 arguments (2 given)"
     ]
    }
   ],
   "source": [
    "P = Point([1,2])"
   ]
  },
  {
   "cell_type": "code",
   "execution_count": 39,
   "metadata": {
    "collapsed": false,
    "deletable": true,
    "editable": true
   },
   "outputs": [
    {
     "data": {
      "image/png": "[encoded data removed]",
      "text/plain": [
       "Graphics object consisting of 2 graphics primitives"
      ]
     },
     "execution_count": 39,
     "metadata": {},
     "output_type": "execute_result"
    }
   ],
   "source": [
    "point([(2,110),(4,55),(6,30),(9,18),(10,11)])+plot(-621/56*x+6359/56,(x,0,10))"
   ]
  },
  {
   "cell_type": "code",
   "execution_count": 15,
   "metadata": {
    "collapsed": true,
    "deletable": true,
    "editable": true
   },
   "outputs": [],
   "source": [
    "P1,P2,P3,P4,P5,P6,P7,P8=[0,0,0],[1,0,0],[1,1,0],[0,1,0],[0,0,1],[0,1,1],[1,1,1],[1,0,1]\n",
    "Q1,Q2=[2,1,3],[4,1,2]"
   ]
  },
  {
   "cell_type": "code",
   "execution_count": 16,
   "metadata": {
    "collapsed": true,
    "deletable": true,
    "editable": true
   },
   "outputs": [],
   "source": [
    "G=point([P1,P2,P3,P4,P5,P6,P7,P8],size=15)\n",
    "H=point([Q1,Q2],size=15)"
   ]
  },
  {
   "cell_type": "code",
   "execution_count": 10,
   "metadata": {
    "collapsed": false,
    "deletable": true,
    "editable": true
   },
   "outputs": [],
   "source": [
    "G=G+line([P1,P2,P3,P4,P1],thickness=5)+line([P5,P6,P7,P8,P5],thickness=5)+line([P1,P5],thickness=5)+line([P4,P6],thickness=5)+line([P3,P7],thickness=5)+line([P2,P8],thickness=5)"
   ]
  },
  {
   "cell_type": "code",
   "execution_count": 13,
   "metadata": {
    "collapsed": false,
    "deletable": true,
    "editable": true
   },
   "outputs": [],
   "source": [
    "G=G+polygon3d([P1,P2,P3,P4],color='red',opacity=0.5)+polygon3d([P5,P6,P7,P8],color='orange',opacity=0.5)+polygon3d([P2,P3,P7,P8],color='yellow',opacity=0.5)\n"
   ]
  },
  {
   "cell_type": "code",
   "execution_count": 17,
   "metadata": {
    "collapsed": false,
    "deletable": true,
    "editable": true
   },
   "outputs": [
    {
     "data": {
      "text/html": [
       "\n",
       "<iframe srcdoc=\"\n",
       "<html>\n",
       "<head>\n",
       "  <style>\n",
       "    * {\n",
       "      margin: 0;\n",
       "      padding: 0;\n",
       "      overflow: hidden;\n",
       "    }\n",
       "    body, html {      \n",
       "      height: 100%;\n",
       "      width: 100%;\n",
       "    }\n",
       "  </style>\n",
       "  <script type=&quot;text/javascript&quot; src=&quot;/nbextensions/jsmol/JSmol.min.js&quot;></script>\n",
       "</head>\n",
       "<body>\n",
       "  <script type=&quot;text/javascript&quot;>\n",
       "    var script = [\n",
       "  'data &quot;model list&quot;',\n",
       "  '10',\n",
       "  'empty',\n",
       "  'Xx -3.0 -4.0 -3.0',\n",
       "  'Xx 0.0 -4.0 -3.0',\n",
       "  'Xx 3.0 -4.0 -3.0',\n",
       "  'Xx 4.0 -3.0 -3.0',\n",
       "  'Xx 4.0 0.0 -3.0',\n",
       "  'Xx 4.0 3.0 -3.0',\n",
       "  'Xx -4.0 -3.0 -3.0',\n",
       "  'Xx -4.0 -3.0 0.0',\n",
       "  'Xx -4.0 -3.0 3.0',\n",
       "  'Xx 5.5 5.5 5.5',\n",
       "  'end &quot;model list&quot;; show data',\n",
       "  'select *',\n",
       "  'wireframe off; spacefill off',\n",
       "  'set labelOffset 0 0',\n",
       "  'background [255,255,255]',\n",
       "  'spin OFF',\n",
       "  'moveto 0 -764 -346 -545 76.39',\n",
       "  'centerAt absolute {0 0 0}',\n",
       "  'zoom 100',\n",
       "  'frank OFF',\n",
       "  'set perspectivedepth ON',\n",
       "  'draw point_1 DIAMETER 15 {-3.0 -3.0 -3.0}',\n",
       "  'color $point_1  [102,102,255]',\n",
       "  'draw point_2 DIAMETER 15 {3.0 -3.0 -3.0}',\n",
       "  'color $point_2  [102,102,255]',\n",
       "  'draw point_3 DIAMETER 15 {3.0 3.0 -3.0}',\n",
       "  'color $point_3  [102,102,255]',\n",
       "  'draw point_4 DIAMETER 15 {-3.0 3.0 -3.0}',\n",
       "  'color $point_4  [102,102,255]',\n",
       "  'draw point_5 DIAMETER 15 {-3.0 -3.0 3.0}',\n",
       "  'color $point_5  [102,102,255]',\n",
       "  'draw point_6 DIAMETER 15 {-3.0 3.0 3.0}',\n",
       "  'color $point_6  [102,102,255]',\n",
       "  'draw point_7 DIAMETER 15 {3.0 3.0 3.0}',\n",
       "  'color $point_7  [102,102,255]',\n",
       "  'draw point_8 DIAMETER 15 {3.0 -3.0 3.0}',\n",
       "  'color $point_8  [102,102,255]',\n",
       "  'draw line_9 diameter 1 curve {-3.0 -3.0 -3.0}  {-3.0 3.0 -3.0} ',\n",
       "  'color $line_9 translucent 0.5 [0,0,0]',\n",
       "  'draw line_10 diameter 1 curve {-3.0 3.0 -3.0}  {3.0 3.0 -3.0} ',\n",
       "  'color $line_10 translucent 0.5 [0,0,0]',\n",
       "  'draw line_11 diameter 1 curve {3.0 3.0 -3.0}  {3.0 -3.0 -3.0} ',\n",
       "  'color $line_11 translucent 0.5 [0,0,0]',\n",
       "  'draw line_12 diameter 1 curve {3.0 -3.0 -3.0}  {-3.0 -3.0 -3.0} ',\n",
       "  'color $line_12 translucent 0.5 [0,0,0]',\n",
       "  'draw line_13 diameter 1 curve {-3.0 -3.0 -3.0}  {-3.0 -3.0 3.0} ',\n",
       "  'color $line_13 translucent 0.5 [0,0,0]',\n",
       "  'draw line_14 diameter 1 curve {-3.0 -3.0 3.0}  {-3.0 3.0 3.0} ',\n",
       "  'color $line_14 translucent 0.5 [0,0,0]',\n",
       "  'draw line_15 diameter 1 curve {-3.0 3.0 3.0}  {3.0 3.0 3.0} ',\n",
       "  'color $line_15 translucent 0.5 [0,0,0]',\n",
       "  'draw line_16 diameter 1 curve {3.0 3.0 3.0}  {3.0 -3.0 3.0} ',\n",
       "  'color $line_16 translucent 0.5 [0,0,0]',\n",
       "  'draw line_17 diameter 1 curve {3.0 -3.0 3.0}  {-3.0 -3.0 3.0} ',\n",
       "  'color $line_17 translucent 0.5 [0,0,0]',\n",
       "  'draw line_18 diameter 1 curve {-3.0 -3.0 3.0} ',\n",
       "  'color $line_18 translucent 0.5 [0,0,0]',\n",
       "  'draw line_19 diameter 1 curve {-3.0 3.0 -3.0}  {-3.0 3.0 3.0} ',\n",
       "  'color $line_19 translucent 0.5 [0,0,0]',\n",
       "  'draw line_20 diameter 1 curve {3.0 -3.0 -3.0}  {3.0 -3.0 3.0} ',\n",
       "  'color $line_20 translucent 0.5 [0,0,0]',\n",
       "  'draw line_21 diameter 1 curve {3.0 3.0 -3.0}  {3.0 3.0 3.0} ',\n",
       "  'color $line_21 translucent 0.5 [0,0,0]',\n",
       "  'select atomno = 1',\n",
       "  'color atom  [76,76,76]',\n",
       "  'label &quot;0.00&quot;',\n",
       "  'select atomno = 2',\n",
       "  'color atom  [76,76,76]',\n",
       "  'label &quot;0.50&quot;',\n",
       "  'select atomno = 3',\n",
       "  'color atom  [76,76,76]',\n",
       "  'label &quot;1.00&quot;',\n",
       "  'select atomno = 4',\n",
       "  'color atom  [76,76,76]',\n",
       "  'label &quot;0.00&quot;',\n",
       "  'select atomno = 5',\n",
       "  'color atom  [76,76,76]',\n",
       "  'label &quot;0.50&quot;',\n",
       "  'select atomno = 6',\n",
       "  'color atom  [76,76,76]',\n",
       "  'label &quot;1.00&quot;',\n",
       "  'select atomno = 7',\n",
       "  'color atom  [76,76,76]',\n",
       "  'label &quot;0.00&quot;',\n",
       "  'select atomno = 8',\n",
       "  'color atom  [76,76,76]',\n",
       "  'label &quot;0.50&quot;',\n",
       "  'select atomno = 9',\n",
       "  'color atom  [76,76,76]',\n",
       "  'label &quot;1.00&quot;',\n",
       "  'isosurface fullylit; pmesh o* fullylit; set antialiasdisplay on;',\n",
       "].join('\\n');;\n",
       "    var Info = {\n",
       "      width: '100%',\n",
       "      height: '500',\n",
       "      debug: false,\n",
       "      disableInitialConsole: true,   // very slow when used with inline mesh\n",
       "      color: '#3131ff',\n",
       "      addSelectionOptions: false,\n",
       "      use: 'HTML5',\n",
       "      j2sPath: '/nbextensions/jsmol/j2s',\n",
       "      script: script,\n",
       "    };\n",
       "    var jmolApplet0 = Jmol.getApplet('jmolApplet0', Info);\n",
       "  </script>\n",
       "</body>\n",
       "</html>\n",
       "\" \n",
       "        width=\"100%\"\n",
       "        height=\"500\"\n",
       "        style=\"border: 0;\">\n",
       "</iframe>\n"
      ],
      "text/plain": [
       "Graphics3d Object"
      ]
     },
     "metadata": {},
     "output_type": "display_data"
    },
    {
     "data": {
      "text/html": [
       "\n",
       "<iframe srcdoc=\"\n",
       "<html>\n",
       "<head>\n",
       "  <style>\n",
       "    * {\n",
       "      margin: 0;\n",
       "      padding: 0;\n",
       "      overflow: hidden;\n",
       "    }\n",
       "    body, html {      \n",
       "      height: 100%;\n",
       "      width: 100%;\n",
       "    }\n",
       "  </style>\n",
       "  <script type=&quot;text/javascript&quot; src=&quot;/nbextensions/jsmol/JSmol.min.js&quot;></script>\n",
       "</head>\n",
       "<body>\n",
       "  <script type=&quot;text/javascript&quot;>\n",
       "    var script = [\n",
       "  'data &quot;model list&quot;',\n",
       "  '10',\n",
       "  'empty',\n",
       "  'Xx -3.0 -4.0 -1.5',\n",
       "  'Xx 0.0 -4.0 -1.5',\n",
       "  'Xx 3.0 -4.0 -1.5',\n",
       "  'Xx 4.0 -3.0 -1.5',\n",
       "  'Xx 4.0 0.0 -1.5',\n",
       "  'Xx 4.0 3.0 -1.5',\n",
       "  'Xx -4.0 -3.0 -1.5',\n",
       "  'Xx -4.0 -3.0 0.0',\n",
       "  'Xx -4.0 -3.0 1.5',\n",
       "  'Xx 5.5 5.5 5.5',\n",
       "  'end &quot;model list&quot;; show data',\n",
       "  'select *',\n",
       "  'wireframe off; spacefill off',\n",
       "  'set labelOffset 0 0',\n",
       "  'background [255,255,255]',\n",
       "  'spin OFF',\n",
       "  'moveto 0 -764 -346 -545 76.39',\n",
       "  'centerAt absolute {0 0 0}',\n",
       "  'zoom 100',\n",
       "  'frank OFF',\n",
       "  'set perspectivedepth ON',\n",
       "  'draw point_1 DIAMETER 15 {-3.0 0.0 1.5}',\n",
       "  'color $point_1  [102,102,255]',\n",
       "  'draw point_2 DIAMETER 15 {3.0 0.0 -1.5}',\n",
       "  'color $point_2  [102,102,255]',\n",
       "  'draw line_3 diameter 1 curve {-3.0 -3.0 -1.5}  {-3.0 3.0 -1.5} ',\n",
       "  'color $line_3 translucent 0.5 [0,0,0]',\n",
       "  'draw line_4 diameter 1 curve {-3.0 3.0 -1.5}  {3.0 3.0 -1.5} ',\n",
       "  'color $line_4 translucent 0.5 [0,0,0]',\n",
       "  'draw line_5 diameter 1 curve {3.0 3.0 -1.5}  {3.0 -3.0 -1.5} ',\n",
       "  'color $line_5 translucent 0.5 [0,0,0]',\n",
       "  'draw line_6 diameter 1 curve {3.0 -3.0 -1.5}  {-3.0 -3.0 -1.5} ',\n",
       "  'color $line_6 translucent 0.5 [0,0,0]',\n",
       "  'draw line_7 diameter 1 curve {-3.0 -3.0 -1.5}  {-3.0 -3.0 1.5} ',\n",
       "  'color $line_7 translucent 0.5 [0,0,0]',\n",
       "  'draw line_8 diameter 1 curve {-3.0 -3.0 1.5}  {-3.0 3.0 1.5} ',\n",
       "  'color $line_8 translucent 0.5 [0,0,0]',\n",
       "  'draw line_9 diameter 1 curve {-3.0 3.0 1.5}  {3.0 3.0 1.5} ',\n",
       "  'color $line_9 translucent 0.5 [0,0,0]',\n",
       "  'draw line_10 diameter 1 curve {3.0 3.0 1.5}  {3.0 -3.0 1.5} ',\n",
       "  'color $line_10 translucent 0.5 [0,0,0]',\n",
       "  'draw line_11 diameter 1 curve {3.0 -3.0 1.5}  {-3.0 -3.0 1.5} ',\n",
       "  'color $line_11 translucent 0.5 [0,0,0]',\n",
       "  'draw line_12 diameter 1 curve {-3.0 -3.0 1.5} ',\n",
       "  'color $line_12 translucent 0.5 [0,0,0]',\n",
       "  'draw line_13 diameter 1 curve {-3.0 3.0 -1.5}  {-3.0 3.0 1.5} ',\n",
       "  'color $line_13 translucent 0.5 [0,0,0]',\n",
       "  'draw line_14 diameter 1 curve {3.0 -3.0 -1.5}  {3.0 -3.0 1.5} ',\n",
       "  'color $line_14 translucent 0.5 [0,0,0]',\n",
       "  'draw line_15 diameter 1 curve {3.0 3.0 -1.5}  {3.0 3.0 1.5} ',\n",
       "  'color $line_15 translucent 0.5 [0,0,0]',\n",
       "  'select atomno = 1',\n",
       "  'color atom  [76,76,76]',\n",
       "  'label &quot;2.0&quot;',\n",
       "  'select atomno = 2',\n",
       "  'color atom  [76,76,76]',\n",
       "  'label &quot;3.0&quot;',\n",
       "  'select atomno = 3',\n",
       "  'color atom  [76,76,76]',\n",
       "  'label &quot;4.0&quot;',\n",
       "  'select atomno = 4',\n",
       "  'color atom  [76,76,76]',\n",
       "  'label &quot;0.0&quot;',\n",
       "  'select atomno = 5',\n",
       "  'color atom  [76,76,76]',\n",
       "  'label &quot;1.0&quot;',\n",
       "  'select atomno = 6',\n",
       "  'color atom  [76,76,76]',\n",
       "  'label &quot;2.0&quot;',\n",
       "  'select atomno = 7',\n",
       "  'color atom  [76,76,76]',\n",
       "  'label &quot;2.00&quot;',\n",
       "  'select atomno = 8',\n",
       "  'color atom  [76,76,76]',\n",
       "  'label &quot;2.50&quot;',\n",
       "  'select atomno = 9',\n",
       "  'color atom  [76,76,76]',\n",
       "  'label &quot;3.00&quot;',\n",
       "  'isosurface fullylit; pmesh o* fullylit; set antialiasdisplay on;',\n",
       "].join('\\n');;\n",
       "    var Info = {\n",
       "      width: '100%',\n",
       "      height: '500',\n",
       "      debug: false,\n",
       "      disableInitialConsole: true,   // very slow when used with inline mesh\n",
       "      color: '#3131ff',\n",
       "      addSelectionOptions: false,\n",
       "      use: 'HTML5',\n",
       "      j2sPath: '/nbextensions/jsmol/j2s',\n",
       "      script: script,\n",
       "    };\n",
       "    var jmolApplet0 = Jmol.getApplet('jmolApplet0', Info);\n",
       "  </script>\n",
       "</body>\n",
       "</html>\n",
       "\" \n",
       "        width=\"100%\"\n",
       "        height=\"500\"\n",
       "        style=\"border: 0;\">\n",
       "</iframe>\n"
      ],
      "text/plain": [
       "Graphics3d Object"
      ]
     },
     "metadata": {},
     "output_type": "display_data"
    }
   ],
   "source": [
    "G.show(aspect_ratio=1)\n",
    "H.show(aspect_ratio=1)"
   ]
  },
  {
   "cell_type": "code",
   "execution_count": 41,
   "metadata": {
    "collapsed": false,
    "deletable": true,
    "editable": true
   },
   "outputs": [],
   "source": [
    "def cube(A):\n",
    "    P1,P2,P3,P4,P5,P6,P7,P8=[0,0,0],[1,0,0],[1,1,0],[0,1,0],[0,0,1],[0,1,1],[1,1,1],[1,0,1]\n",
    "    p1=matrix(3,1,P1)\n",
    "    p2=matrix(3,1,P2)\n",
    "    p3=matrix(3,1,P3)\n",
    "    p4=matrix(3,1,P4)\n",
    "    p5=matrix(3,1,P5)\n",
    "    p6=matrix(3,1,P6)\n",
    "    p7=matrix(3,1,P7)\n",
    "    p8=matrix(3,1,P8)\n",
    "    G=point([P1,P2,P3,P4,P5,P6,P7,P8],size=15)\n",
    "    G=G+line([P1,P2,P3,P4,P1],thickness=5)+line([P5,P6,P7,P8,P5],thickness=5)+line([P1,P5],thickness=5)+line([P4,P6],thickness=5)+line([P3,P7],thickness=5)+line([P2,P8],thickness=5)\n",
    "    G=G+polygon3d([P5,P6,P7,P8],color='red',opacity=0.5)\n",
    "    G.show(aspect_ratio=1)\n",
    "    q1=A*p1\n",
    "    q2=A*p2\n",
    "    q3=A*p3\n",
    "    q4=A*p4\n",
    "    q5=A*p5\n",
    "    q6=A*p6\n",
    "    q7=A*p7\n",
    "    q8=A*p8\n",
    "    Q1=[q1[0],q1[1],q1[2]]\n",
    "    Q2=[q2[0],q2[1],q2[2]]\n",
    "    Q3=[q3[0],q3[1],q3[2]]\n",
    "    Q4=[q4[0],q4[1],q4[2]]\n",
    "    Q5=[q5[0],q5[1],q5[2]]\n",
    "    Q6=[q6[0],q6[1],q6[2]]\n",
    "    Q7=[q7[0],q7[1],q7[2]]\n",
    "    Q8=[q8[0],q8[1],q8[2]]\n",
    "    show(Q1)\n",
    "    H=point([Q1,Q2,Q3,Q4,Q5,Q6,Q7,Q8],size=15)\n",
    "    H=H+line([Q1,Q2,Q3,Q4,Q1],thickness=5)+line([Q5,Q6,Q7,Q8,Q5],thickness=5)+line([Q1,Q5],thickness=5)+line([Q4,Q6],thickness=5)+line([Q3,Q7],thickness=5)+line([Q2,Q8],thickness=5)\n",
    "    H=H+polygon3d([Q1,Q2,Q3,Q4],color='red',opacity=0.5)+polygon3d([Q5,Q6,Q7,Q8],color='orange',opacity=0.5)+polygon3d([Q2,Q3,Q7,Q8],color='yellow',opacity=0.5)\n",
    "    G.show(aspect_ratio=1)\n",
    "    H.show(aspect_ratio=1)\n",
    "    \n",
    "    \n",
    "    "
   ]
  },
  {
   "cell_type": "code",
   "execution_count": 42,
   "metadata": {
    "collapsed": false,
    "deletable": true,
    "editable": true
   },
   "outputs": [
    {
     "data": {
      "text/html": [
       "\n",
       "<iframe srcdoc=\"\n",
       "<html>\n",
       "<head>\n",
       "  <style>\n",
       "    * {\n",
       "      margin: 0;\n",
       "      padding: 0;\n",
       "      overflow: hidden;\n",
       "    }\n",
       "    body, html {      \n",
       "      height: 100%;\n",
       "      width: 100%;\n",
       "    }\n",
       "  </style>\n",
       "  <script type=&quot;text/javascript&quot; src=&quot;/nbextensions/jsmol/JSmol.min.js&quot;></script>\n",
       "</head>\n",
       "<body>\n",
       "  <script type=&quot;text/javascript&quot;>\n",
       "    var script = [\n",
       "  'data &quot;model list&quot;',\n",
       "  '10',\n",
       "  'empty',\n",
       "  'Xx -3.0 -4.0 -3.0',\n",
       "  'Xx 0.0 -4.0 -3.0',\n",
       "  'Xx 3.0 -4.0 -3.0',\n",
       "  'Xx 4.0 -3.0 -3.0',\n",
       "  'Xx 4.0 0.0 -3.0',\n",
       "  'Xx 4.0 3.0 -3.0',\n",
       "  'Xx -4.0 -3.0 -3.0',\n",
       "  'Xx -4.0 -3.0 0.0',\n",
       "  'Xx -4.0 -3.0 3.0',\n",
       "  'Xx 5.5 5.5 5.5',\n",
       "  'end &quot;model list&quot;; show data',\n",
       "  'select *',\n",
       "  'wireframe off; spacefill off',\n",
       "  'set labelOffset 0 0',\n",
       "  'background [255,255,255]',\n",
       "  'spin OFF',\n",
       "  'moveto 0 -764 -346 -545 76.39',\n",
       "  'centerAt absolute {0 0 0}',\n",
       "  'zoom 100',\n",
       "  'frank OFF',\n",
       "  'set perspectivedepth ON',\n",
       "  'draw point_1 DIAMETER 15 {-3.0 -3.0 -3.0}',\n",
       "  'color $point_1  [102,102,255]',\n",
       "  'draw point_2 DIAMETER 15 {3.0 -3.0 -3.0}',\n",
       "  'color $point_2  [102,102,255]',\n",
       "  'draw point_3 DIAMETER 15 {3.0 3.0 -3.0}',\n",
       "  'color $point_3  [102,102,255]',\n",
       "  'draw point_4 DIAMETER 15 {-3.0 3.0 -3.0}',\n",
       "  'color $point_4  [102,102,255]',\n",
       "  'draw point_5 DIAMETER 15 {-3.0 -3.0 3.0}',\n",
       "  'color $point_5  [102,102,255]',\n",
       "  'draw point_6 DIAMETER 15 {-3.0 3.0 3.0}',\n",
       "  'color $point_6  [102,102,255]',\n",
       "  'draw point_7 DIAMETER 15 {3.0 3.0 3.0}',\n",
       "  'color $point_7  [102,102,255]',\n",
       "  'draw point_8 DIAMETER 15 {3.0 -3.0 3.0}',\n",
       "  'color $point_8  [102,102,255]',\n",
       "  'draw line_9 diameter 5 curve {-3.0 -3.0 -3.0}  {3.0 -3.0 -3.0} ',\n",
       "  'color $line_9  [102,102,255]',\n",
       "  'draw line_10 diameter 5 curve {3.0 -3.0 -3.0}  {3.0 3.0 -3.0} ',\n",
       "  'color $line_10  [102,102,255]',\n",
       "  'draw line_11 diameter 5 curve {3.0 3.0 -3.0}  {-3.0 3.0 -3.0} ',\n",
       "  'color $line_11  [102,102,255]',\n",
       "  'draw line_12 diameter 5 curve {-3.0 3.0 -3.0}  {-3.0 -3.0 -3.0} ',\n",
       "  'color $line_12  [102,102,255]',\n",
       "  'draw line_13 diameter 5 curve {-3.0 -3.0 -3.0} ',\n",
       "  'color $line_13  [102,102,255]',\n",
       "  'draw line_14 diameter 5 curve {-3.0 -3.0 3.0}  {-3.0 3.0 3.0} ',\n",
       "  'color $line_14  [102,102,255]',\n",
       "  'draw line_15 diameter 5 curve {-3.0 3.0 3.0}  {3.0 3.0 3.0} ',\n",
       "  'color $line_15  [102,102,255]',\n",
       "  'draw line_16 diameter 5 curve {3.0 3.0 3.0}  {3.0 -3.0 3.0} ',\n",
       "  'color $line_16  [102,102,255]',\n",
       "  'draw line_17 diameter 5 curve {3.0 -3.0 3.0}  {-3.0 -3.0 3.0} ',\n",
       "  'color $line_17  [102,102,255]',\n",
       "  'draw line_18 diameter 5 curve {-3.0 -3.0 3.0} ',\n",
       "  'color $line_18  [102,102,255]',\n",
       "  'draw line_19 diameter 5 curve {-3.0 -3.0 -3.0}  {-3.0 -3.0 3.0} ',\n",
       "  'color $line_19  [102,102,255]',\n",
       "  'draw line_20 diameter 5 curve {-3.0 3.0 -3.0}  {-3.0 3.0 3.0} ',\n",
       "  'color $line_20  [102,102,255]',\n",
       "  'draw line_21 diameter 5 curve {3.0 3.0 -3.0}  {3.0 3.0 3.0} ',\n",
       "  'color $line_21  [102,102,255]',\n",
       "  'draw line_22 diameter 5 curve {3.0 -3.0 -3.0}  {3.0 -3.0 3.0} ',\n",
       "  'color $line_22  [102,102,255]',\n",
       "  'pmesh obj_23 inline &quot;4',\n",
       "  '-3 -3 3',\n",
       "  '-3 3 3',\n",
       "  '3 3 3',\n",
       "  '3 -3 3',\n",
       "  '1',\n",
       "  '5',\n",
       "  '0',\n",
       "  '1',\n",
       "  '2',\n",
       "  '3',\n",
       "  '0&quot;',\n",
       "  'color pmesh translucent 0.5 [255,0,0]',\n",
       "  'draw line_24 diameter 1 curve {-3.0 -3.0 -3.0}  {-3.0 3.0 -3.0} ',\n",
       "  'color $line_24 translucent 0.5 [0,0,0]',\n",
       "  'draw line_25 diameter 1 curve {-3.0 3.0 -3.0}  {3.0 3.0 -3.0} ',\n",
       "  'color $line_25 translucent 0.5 [0,0,0]',\n",
       "  'draw line_26 diameter 1 curve {3.0 3.0 -3.0}  {3.0 -3.0 -3.0} ',\n",
       "  'color $line_26 translucent 0.5 [0,0,0]',\n",
       "  'draw line_27 diameter 1 curve {3.0 -3.0 -3.0}  {-3.0 -3.0 -3.0} ',\n",
       "  'color $line_27 translucent 0.5 [0,0,0]',\n",
       "  'draw line_28 diameter 1 curve {-3.0 -3.0 -3.0}  {-3.0 -3.0 3.0} ',\n",
       "  'color $line_28 translucent 0.5 [0,0,0]',\n",
       "  'draw line_29 diameter 1 curve {-3.0 -3.0 3.0}  {-3.0 3.0 3.0} ',\n",
       "  'color $line_29 translucent 0.5 [0,0,0]',\n",
       "  'draw line_30 diameter 1 curve {-3.0 3.0 3.0}  {3.0 3.0 3.0} ',\n",
       "  'color $line_30 translucent 0.5 [0,0,0]',\n",
       "  'draw line_31 diameter 1 curve {3.0 3.0 3.0}  {3.0 -3.0 3.0} ',\n",
       "  'color $line_31 translucent 0.5 [0,0,0]',\n",
       "  'draw line_32 diameter 1 curve {3.0 -3.0 3.0}  {-3.0 -3.0 3.0} ',\n",
       "  'color $line_32 translucent 0.5 [0,0,0]',\n",
       "  'draw line_33 diameter 1 curve {-3.0 -3.0 3.0} ',\n",
       "  'color $line_33 translucent 0.5 [0,0,0]',\n",
       "  'draw line_34 diameter 1 curve {-3.0 3.0 -3.0}  {-3.0 3.0 3.0} ',\n",
       "  'color $line_34 translucent 0.5 [0,0,0]',\n",
       "  'draw line_35 diameter 1 curve {3.0 -3.0 -3.0}  {3.0 -3.0 3.0} ',\n",
       "  'color $line_35 translucent 0.5 [0,0,0]',\n",
       "  'draw line_36 diameter 1 curve {3.0 3.0 -3.0}  {3.0 3.0 3.0} ',\n",
       "  'color $line_36 translucent 0.5 [0,0,0]',\n",
       "  'select atomno = 1',\n",
       "  'color atom  [76,76,76]',\n",
       "  'label &quot;0.00&quot;',\n",
       "  'select atomno = 2',\n",
       "  'color atom  [76,76,76]',\n",
       "  'label &quot;0.50&quot;',\n",
       "  'select atomno = 3',\n",
       "  'color atom  [76,76,76]',\n",
       "  'label &quot;1.00&quot;',\n",
       "  'select atomno = 4',\n",
       "  'color atom  [76,76,76]',\n",
       "  'label &quot;0.00&quot;',\n",
       "  'select atomno = 5',\n",
       "  'color atom  [76,76,76]',\n",
       "  'label &quot;0.50&quot;',\n",
       "  'select atomno = 6',\n",
       "  'color atom  [76,76,76]',\n",
       "  'label &quot;1.00&quot;',\n",
       "  'select atomno = 7',\n",
       "  'color atom  [76,76,76]',\n",
       "  'label &quot;0.00&quot;',\n",
       "  'select atomno = 8',\n",
       "  'color atom  [76,76,76]',\n",
       "  'label &quot;0.50&quot;',\n",
       "  'select atomno = 9',\n",
       "  'color atom  [76,76,76]',\n",
       "  'label &quot;1.00&quot;',\n",
       "  'isosurface fullylit; pmesh o* fullylit; set antialiasdisplay on;',\n",
       "].join('\\n');;\n",
       "    var Info = {\n",
       "      width: '100%',\n",
       "      height: '500',\n",
       "      debug: false,\n",
       "      disableInitialConsole: true,   // very slow when used with inline mesh\n",
       "      color: '#3131ff',\n",
       "      addSelectionOptions: false,\n",
       "      use: 'HTML5',\n",
       "      j2sPath: '/nbextensions/jsmol/j2s',\n",
       "      script: script,\n",
       "    };\n",
       "    var jmolApplet0 = Jmol.getApplet('jmolApplet0', Info);\n",
       "  </script>\n",
       "</body>\n",
       "</html>\n",
       "\" \n",
       "        width=\"100%\"\n",
       "        height=\"500\"\n",
       "        style=\"border: 0;\">\n",
       "</iframe>\n"
      ],
      "text/plain": [
       "Graphics3d Object"
      ]
     },
     "metadata": {},
     "output_type": "display_data"
    },
    {
     "data": {
      "text/html": [
       "<html><script type=\"math/tex; mode=display\">\\newcommand{\\Bold}[1]{\\mathbf{#1}}\\left[\\left(0\\right), \\left(0\\right), \\left(0\\right)\\right]</script></html>"
      ],
      "text/plain": [
       "[(0), (0), (0)]"
      ]
     },
     "metadata": {},
     "output_type": "display_data"
    },
    {
     "ename": "TypeError",
     "evalue": "float() argument must be a string or a number",
     "output_type": "error",
     "traceback": [
      "\u001b[0;31m---------------------------------------------------------------------------\u001b[0m",
      "\u001b[0;31mTypeError\u001b[0m                                 Traceback (most recent call last)",
      "\u001b[0;32m<ipython-input-42-a05637e7a330>\u001b[0m in \u001b[0;36m<module>\u001b[0;34m()\u001b[0m\n\u001b[0;32m----> 1\u001b[0;31m \u001b[0mcube\u001b[0m\u001b[0;34m(\u001b[0m\u001b[0midentity_matrix\u001b[0m\u001b[0;34m(\u001b[0m\u001b[0mInteger\u001b[0m\u001b[0;34m(\u001b[0m\u001b[0;36m3\u001b[0m\u001b[0;34m)\u001b[0m\u001b[0;34m)\u001b[0m\u001b[0;34m)\u001b[0m\u001b[0;34m\u001b[0m\u001b[0m\n\u001b[0m",
      "\u001b[0;32m<ipython-input-41-4737add71d81>\u001b[0m in \u001b[0;36mcube\u001b[0;34m(A)\u001b[0m\n\u001b[1;32m     30\u001b[0m     \u001b[0mQ8\u001b[0m\u001b[0;34m=\u001b[0m\u001b[0;34m[\u001b[0m\u001b[0mq8\u001b[0m\u001b[0;34m[\u001b[0m\u001b[0mInteger\u001b[0m\u001b[0;34m(\u001b[0m\u001b[0;36m0\u001b[0m\u001b[0;34m)\u001b[0m\u001b[0;34m]\u001b[0m\u001b[0;34m,\u001b[0m\u001b[0mq8\u001b[0m\u001b[0;34m[\u001b[0m\u001b[0mInteger\u001b[0m\u001b[0;34m(\u001b[0m\u001b[0;36m1\u001b[0m\u001b[0;34m)\u001b[0m\u001b[0;34m]\u001b[0m\u001b[0;34m,\u001b[0m\u001b[0mq8\u001b[0m\u001b[0;34m[\u001b[0m\u001b[0mInteger\u001b[0m\u001b[0;34m(\u001b[0m\u001b[0;36m2\u001b[0m\u001b[0;34m)\u001b[0m\u001b[0;34m]\u001b[0m\u001b[0;34m]\u001b[0m\u001b[0;34m\u001b[0m\u001b[0m\n\u001b[1;32m     31\u001b[0m     \u001b[0mshow\u001b[0m\u001b[0;34m(\u001b[0m\u001b[0mQ1\u001b[0m\u001b[0;34m)\u001b[0m\u001b[0;34m\u001b[0m\u001b[0m\n\u001b[0;32m---> 32\u001b[0;31m     \u001b[0mH\u001b[0m\u001b[0;34m=\u001b[0m\u001b[0mpoint\u001b[0m\u001b[0;34m(\u001b[0m\u001b[0;34m[\u001b[0m\u001b[0mQ1\u001b[0m\u001b[0;34m,\u001b[0m\u001b[0mQ2\u001b[0m\u001b[0;34m,\u001b[0m\u001b[0mQ3\u001b[0m\u001b[0;34m,\u001b[0m\u001b[0mQ4\u001b[0m\u001b[0;34m,\u001b[0m\u001b[0mQ5\u001b[0m\u001b[0;34m,\u001b[0m\u001b[0mQ6\u001b[0m\u001b[0;34m,\u001b[0m\u001b[0mQ7\u001b[0m\u001b[0;34m,\u001b[0m\u001b[0mQ8\u001b[0m\u001b[0;34m]\u001b[0m\u001b[0;34m,\u001b[0m\u001b[0msize\u001b[0m\u001b[0;34m=\u001b[0m\u001b[0mInteger\u001b[0m\u001b[0;34m(\u001b[0m\u001b[0;36m15\u001b[0m\u001b[0;34m)\u001b[0m\u001b[0;34m)\u001b[0m\u001b[0;34m\u001b[0m\u001b[0m\n\u001b[0m\u001b[1;32m     33\u001b[0m     \u001b[0mH\u001b[0m\u001b[0;34m=\u001b[0m\u001b[0mH\u001b[0m\u001b[0;34m+\u001b[0m\u001b[0mline\u001b[0m\u001b[0;34m(\u001b[0m\u001b[0;34m[\u001b[0m\u001b[0mQ1\u001b[0m\u001b[0;34m,\u001b[0m\u001b[0mQ2\u001b[0m\u001b[0;34m,\u001b[0m\u001b[0mQ3\u001b[0m\u001b[0;34m,\u001b[0m\u001b[0mQ4\u001b[0m\u001b[0;34m,\u001b[0m\u001b[0mQ1\u001b[0m\u001b[0;34m]\u001b[0m\u001b[0;34m,\u001b[0m\u001b[0mthickness\u001b[0m\u001b[0;34m=\u001b[0m\u001b[0mInteger\u001b[0m\u001b[0;34m(\u001b[0m\u001b[0;36m5\u001b[0m\u001b[0;34m)\u001b[0m\u001b[0;34m)\u001b[0m\u001b[0;34m+\u001b[0m\u001b[0mline\u001b[0m\u001b[0;34m(\u001b[0m\u001b[0;34m[\u001b[0m\u001b[0mQ5\u001b[0m\u001b[0;34m,\u001b[0m\u001b[0mQ6\u001b[0m\u001b[0;34m,\u001b[0m\u001b[0mQ7\u001b[0m\u001b[0;34m,\u001b[0m\u001b[0mQ8\u001b[0m\u001b[0;34m,\u001b[0m\u001b[0mQ5\u001b[0m\u001b[0;34m]\u001b[0m\u001b[0;34m,\u001b[0m\u001b[0mthickness\u001b[0m\u001b[0;34m=\u001b[0m\u001b[0mInteger\u001b[0m\u001b[0;34m(\u001b[0m\u001b[0;36m5\u001b[0m\u001b[0;34m)\u001b[0m\u001b[0;34m)\u001b[0m\u001b[0;34m+\u001b[0m\u001b[0mline\u001b[0m\u001b[0;34m(\u001b[0m\u001b[0;34m[\u001b[0m\u001b[0mQ1\u001b[0m\u001b[0;34m,\u001b[0m\u001b[0mQ5\u001b[0m\u001b[0;34m]\u001b[0m\u001b[0;34m,\u001b[0m\u001b[0mthickness\u001b[0m\u001b[0;34m=\u001b[0m\u001b[0mInteger\u001b[0m\u001b[0;34m(\u001b[0m\u001b[0;36m5\u001b[0m\u001b[0;34m)\u001b[0m\u001b[0;34m)\u001b[0m\u001b[0;34m+\u001b[0m\u001b[0mline\u001b[0m\u001b[0;34m(\u001b[0m\u001b[0;34m[\u001b[0m\u001b[0mQ4\u001b[0m\u001b[0;34m,\u001b[0m\u001b[0mQ6\u001b[0m\u001b[0;34m]\u001b[0m\u001b[0;34m,\u001b[0m\u001b[0mthickness\u001b[0m\u001b[0;34m=\u001b[0m\u001b[0mInteger\u001b[0m\u001b[0;34m(\u001b[0m\u001b[0;36m5\u001b[0m\u001b[0;34m)\u001b[0m\u001b[0;34m)\u001b[0m\u001b[0;34m+\u001b[0m\u001b[0mline\u001b[0m\u001b[0;34m(\u001b[0m\u001b[0;34m[\u001b[0m\u001b[0mQ3\u001b[0m\u001b[0;34m,\u001b[0m\u001b[0mQ7\u001b[0m\u001b[0;34m]\u001b[0m\u001b[0;34m,\u001b[0m\u001b[0mthickness\u001b[0m\u001b[0;34m=\u001b[0m\u001b[0mInteger\u001b[0m\u001b[0;34m(\u001b[0m\u001b[0;36m5\u001b[0m\u001b[0;34m)\u001b[0m\u001b[0;34m)\u001b[0m\u001b[0;34m+\u001b[0m\u001b[0mline\u001b[0m\u001b[0;34m(\u001b[0m\u001b[0;34m[\u001b[0m\u001b[0mQ2\u001b[0m\u001b[0;34m,\u001b[0m\u001b[0mQ8\u001b[0m\u001b[0;34m]\u001b[0m\u001b[0;34m,\u001b[0m\u001b[0mthickness\u001b[0m\u001b[0;34m=\u001b[0m\u001b[0mInteger\u001b[0m\u001b[0;34m(\u001b[0m\u001b[0;36m5\u001b[0m\u001b[0;34m)\u001b[0m\u001b[0;34m)\u001b[0m\u001b[0;34m\u001b[0m\u001b[0m\n\u001b[1;32m     34\u001b[0m     \u001b[0mH\u001b[0m\u001b[0;34m=\u001b[0m\u001b[0mH\u001b[0m\u001b[0;34m+\u001b[0m\u001b[0mpolygon3d\u001b[0m\u001b[0;34m(\u001b[0m\u001b[0;34m[\u001b[0m\u001b[0mQ1\u001b[0m\u001b[0;34m,\u001b[0m\u001b[0mQ2\u001b[0m\u001b[0;34m,\u001b[0m\u001b[0mQ3\u001b[0m\u001b[0;34m,\u001b[0m\u001b[0mQ4\u001b[0m\u001b[0;34m]\u001b[0m\u001b[0;34m,\u001b[0m\u001b[0mcolor\u001b[0m\u001b[0;34m=\u001b[0m\u001b[0;34m'red'\u001b[0m\u001b[0;34m,\u001b[0m\u001b[0mopacity\u001b[0m\u001b[0;34m=\u001b[0m\u001b[0mRealNumber\u001b[0m\u001b[0;34m(\u001b[0m\u001b[0;34m'0.5'\u001b[0m\u001b[0;34m)\u001b[0m\u001b[0;34m)\u001b[0m\u001b[0;34m+\u001b[0m\u001b[0mpolygon3d\u001b[0m\u001b[0;34m(\u001b[0m\u001b[0;34m[\u001b[0m\u001b[0mQ5\u001b[0m\u001b[0;34m,\u001b[0m\u001b[0mQ6\u001b[0m\u001b[0;34m,\u001b[0m\u001b[0mQ7\u001b[0m\u001b[0;34m,\u001b[0m\u001b[0mQ8\u001b[0m\u001b[0;34m]\u001b[0m\u001b[0;34m,\u001b[0m\u001b[0mcolor\u001b[0m\u001b[0;34m=\u001b[0m\u001b[0;34m'orange'\u001b[0m\u001b[0;34m,\u001b[0m\u001b[0mopacity\u001b[0m\u001b[0;34m=\u001b[0m\u001b[0mRealNumber\u001b[0m\u001b[0;34m(\u001b[0m\u001b[0;34m'0.5'\u001b[0m\u001b[0;34m)\u001b[0m\u001b[0;34m)\u001b[0m\u001b[0;34m+\u001b[0m\u001b[0mpolygon3d\u001b[0m\u001b[0;34m(\u001b[0m\u001b[0;34m[\u001b[0m\u001b[0mQ2\u001b[0m\u001b[0;34m,\u001b[0m\u001b[0mQ3\u001b[0m\u001b[0;34m,\u001b[0m\u001b[0mQ7\u001b[0m\u001b[0;34m,\u001b[0m\u001b[0mQ8\u001b[0m\u001b[0;34m]\u001b[0m\u001b[0;34m,\u001b[0m\u001b[0mcolor\u001b[0m\u001b[0;34m=\u001b[0m\u001b[0;34m'yellow'\u001b[0m\u001b[0;34m,\u001b[0m\u001b[0mopacity\u001b[0m\u001b[0;34m=\u001b[0m\u001b[0mRealNumber\u001b[0m\u001b[0;34m(\u001b[0m\u001b[0;34m'0.5'\u001b[0m\u001b[0;34m)\u001b[0m\u001b[0;34m)\u001b[0m\u001b[0;34m\u001b[0m\u001b[0m\n",
      "\u001b[0;32m/home/sage/sage-8.0/local/lib/python2.7/site-packages/sage/plot/point.pyc\u001b[0m in \u001b[0;36mpoint\u001b[0;34m(points, **kwds)\u001b[0m\n\u001b[1;32m    351\u001b[0m     \u001b[0;32mexcept\u001b[0m \u001b[0;34m(\u001b[0m\u001b[0mValueError\u001b[0m\u001b[0;34m,\u001b[0m \u001b[0mTypeError\u001b[0m\u001b[0;34m)\u001b[0m\u001b[0;34m:\u001b[0m\u001b[0;34m\u001b[0m\u001b[0m\n\u001b[1;32m    352\u001b[0m         \u001b[0;32mfrom\u001b[0m \u001b[0msage\u001b[0m\u001b[0;34m.\u001b[0m\u001b[0mplot\u001b[0m\u001b[0;34m.\u001b[0m\u001b[0mplot3d\u001b[0m\u001b[0;34m.\u001b[0m\u001b[0mshapes2\u001b[0m \u001b[0;32mimport\u001b[0m \u001b[0mpoint3d\u001b[0m\u001b[0;34m\u001b[0m\u001b[0m\n\u001b[0;32m--> 353\u001b[0;31m         \u001b[0;32mreturn\u001b[0m \u001b[0mpoint3d\u001b[0m\u001b[0;34m(\u001b[0m\u001b[0mpoints\u001b[0m\u001b[0;34m,\u001b[0m \u001b[0;34m**\u001b[0m\u001b[0mkwds\u001b[0m\u001b[0;34m)\u001b[0m\u001b[0;34m\u001b[0m\u001b[0m\n\u001b[0m\u001b[1;32m    354\u001b[0m \u001b[0;34m\u001b[0m\u001b[0m\n\u001b[1;32m    355\u001b[0m \u001b[0;34m@\u001b[0m\u001b[0mrename_keyword\u001b[0m\u001b[0;34m(\u001b[0m\u001b[0mcolor\u001b[0m\u001b[0;34m=\u001b[0m\u001b[0;34m'rgbcolor'\u001b[0m\u001b[0;34m,\u001b[0m \u001b[0mpointsize\u001b[0m\u001b[0;34m=\u001b[0m\u001b[0;34m'size'\u001b[0m\u001b[0;34m)\u001b[0m\u001b[0;34m\u001b[0m\u001b[0m\n",
      "\u001b[0;32m/home/sage/sage-8.0/local/lib/python2.7/site-packages/sage/plot/plot3d/shapes2.pyc\u001b[0m in \u001b[0;36mpoint3d\u001b[0;34m(v, size, **kwds)\u001b[0m\n\u001b[1;32m   1170\u001b[0m             \u001b[0;32mpass\u001b[0m\u001b[0;34m\u001b[0m\u001b[0m\n\u001b[1;32m   1171\u001b[0m \u001b[0;34m\u001b[0m\u001b[0m\n\u001b[0;32m-> 1172\u001b[0;31m     \u001b[0mA\u001b[0m \u001b[0;34m=\u001b[0m \u001b[0msum\u001b[0m\u001b[0;34m(\u001b[0m\u001b[0;34m[\u001b[0m\u001b[0mPoint\u001b[0m\u001b[0;34m(\u001b[0m\u001b[0mz\u001b[0m\u001b[0;34m,\u001b[0m \u001b[0msize\u001b[0m\u001b[0;34m,\u001b[0m \u001b[0;34m**\u001b[0m\u001b[0mkwds\u001b[0m\u001b[0;34m)\u001b[0m \u001b[0;32mfor\u001b[0m \u001b[0mz\u001b[0m \u001b[0;32min\u001b[0m \u001b[0mv\u001b[0m\u001b[0;34m]\u001b[0m\u001b[0;34m)\u001b[0m\u001b[0;34m\u001b[0m\u001b[0m\n\u001b[0m\u001b[1;32m   1173\u001b[0m     \u001b[0mA\u001b[0m\u001b[0;34m.\u001b[0m\u001b[0m_set_extra_kwds\u001b[0m\u001b[0;34m(\u001b[0m\u001b[0mkwds\u001b[0m\u001b[0;34m)\u001b[0m\u001b[0;34m\u001b[0m\u001b[0m\n\u001b[1;32m   1174\u001b[0m     \u001b[0;32mreturn\u001b[0m \u001b[0mA\u001b[0m\u001b[0;34m\u001b[0m\u001b[0m\n",
      "\u001b[0;32m/home/sage/sage-8.0/local/lib/python2.7/site-packages/sage/plot/plot3d/shapes2.pyc\u001b[0m in \u001b[0;36m__init__\u001b[0;34m(self, center, size, **kwds)\u001b[0m\n\u001b[1;32m    747\u001b[0m         \"\"\"\n\u001b[1;32m    748\u001b[0m         \u001b[0mPrimitiveObject\u001b[0m\u001b[0;34m.\u001b[0m\u001b[0m__init__\u001b[0m\u001b[0;34m(\u001b[0m\u001b[0mself\u001b[0m\u001b[0;34m,\u001b[0m \u001b[0;34m**\u001b[0m\u001b[0mkwds\u001b[0m\u001b[0;34m)\u001b[0m\u001b[0;34m\u001b[0m\u001b[0m\n\u001b[0;32m--> 749\u001b[0;31m         \u001b[0mself\u001b[0m\u001b[0;34m.\u001b[0m\u001b[0mloc\u001b[0m \u001b[0;34m=\u001b[0m \u001b[0;34m(\u001b[0m\u001b[0mfloat\u001b[0m\u001b[0;34m(\u001b[0m\u001b[0mcenter\u001b[0m\u001b[0;34m[\u001b[0m\u001b[0;36m0\u001b[0m\u001b[0;34m]\u001b[0m\u001b[0;34m)\u001b[0m\u001b[0;34m,\u001b[0m \u001b[0mfloat\u001b[0m\u001b[0;34m(\u001b[0m\u001b[0mcenter\u001b[0m\u001b[0;34m[\u001b[0m\u001b[0;36m1\u001b[0m\u001b[0;34m]\u001b[0m\u001b[0;34m)\u001b[0m\u001b[0;34m,\u001b[0m \u001b[0mfloat\u001b[0m\u001b[0;34m(\u001b[0m\u001b[0mcenter\u001b[0m\u001b[0;34m[\u001b[0m\u001b[0;36m2\u001b[0m\u001b[0;34m]\u001b[0m\u001b[0;34m)\u001b[0m\u001b[0;34m)\u001b[0m\u001b[0;34m\u001b[0m\u001b[0m\n\u001b[0m\u001b[1;32m    750\u001b[0m         \u001b[0mself\u001b[0m\u001b[0;34m.\u001b[0m\u001b[0msize\u001b[0m \u001b[0;34m=\u001b[0m \u001b[0msize\u001b[0m\u001b[0;34m\u001b[0m\u001b[0m\n\u001b[1;32m    751\u001b[0m         \u001b[0mself\u001b[0m\u001b[0;34m.\u001b[0m\u001b[0m_set_extra_kwds\u001b[0m\u001b[0;34m(\u001b[0m\u001b[0mkwds\u001b[0m\u001b[0;34m)\u001b[0m\u001b[0;34m\u001b[0m\u001b[0m\n",
      "\u001b[0;31mTypeError\u001b[0m: float() argument must be a string or a number"
     ]
    }
   ],
   "source": [
    "cube(identity_matrix(3))"
   ]
  },
  {
   "cell_type": "code",
   "execution_count": 81,
   "metadata": {
    "collapsed": false,
    "deletable": true,
    "editable": true
   },
   "outputs": [],
   "source": [
    "def enigm(A):\n",
    "    P1=matrix(3,1,[4,3,2])\n",
    "    P2=matrix(3,1,[3/2*sqrt(3)+4,3,7/2])\n",
    "    P3=matrix(3,1,[3/2*sqrt(3)+4,6,7/2])\n",
    "    P4=matrix(3,1,[4,6,2])\n",
    "    P5=matrix(3,1,[5/2,3,3*sqrt(3)/2+2])\n",
    "    P6=matrix(3,1,[-3/2+4,6,3*sqrt(3)/2+2])\n",
    "    P7=matrix(3,1,[3/2*sqrt(3)-3/2+4,6,3/2*sqrt(3)+3/2+2])\n",
    "    P8=matrix(3,1,[3/2*sqrt(3)-3/2+4,3,3/2*sqrt(3)+3/2+2])\n",
    "    P1=A*P1\n",
    "    P2=A*P2\n",
    "    P3=A*P3\n",
    "    P4=A*P4\n",
    "    P5=A*P5\n",
    "    P6=A*P6\n",
    "    P7=A*P7\n",
    "    P8=A*P8\n",
    "    show(P1)\n",
    "    show(P2)\n",
    "    show(P3)\n",
    "    show(P4)\n",
    "    show(P5)\n",
    "    show(P6)\n",
    "    show(P7)\n",
    "    show(P8)\n",
    "    \n",
    "    "
   ]
  },
  {
   "cell_type": "code",
   "execution_count": 53,
   "metadata": {
    "collapsed": true,
    "deletable": true,
    "editable": true
   },
   "outputs": [],
   "source": [
    "v=matrix(3,1,[4,3,2])"
   ]
  },
  {
   "cell_type": "code",
   "execution_count": 61,
   "metadata": {
    "collapsed": false,
    "deletable": true,
    "editable": true
   },
   "outputs": [
    {
     "data": {
      "text/plain": [
       "[3/2*sqrt(3) + 5/2]\n",
       "[                3]\n",
       "[3/2*sqrt(3) + 7/2]"
      ]
     },
     "execution_count": 61,
     "metadata": {},
     "output_type": "execute_result"
    }
   ],
   "source": [
    "matrix(3,1,[3*sqrt(3)/2-3/2,0,3*sqrt(3)/2+3/2])+v"
   ]
  },
  {
   "cell_type": "code",
   "execution_count": 52,
   "metadata": {
    "collapsed": false,
    "deletable": true,
    "editable": true
   },
   "outputs": [
    {
     "data": {
      "text/html": [
       "<html><script type=\"math/tex; mode=display\">\\newcommand{\\Bold}[1]{\\mathbf{#1}}\\left(\\begin{array}{r}\n",
       "0 \\\\\n",
       "0 \\\\\n",
       "0\n",
       "\\end{array}\\right)</script></html>"
      ],
      "text/plain": [
       "[0]\n",
       "[0]\n",
       "[0]"
      ]
     },
     "metadata": {},
     "output_type": "display_data"
    },
    {
     "data": {
      "text/html": [
       "<html><script type=\"math/tex; mode=display\">\\newcommand{\\Bold}[1]{\\mathbf{#1}}\\left(\\begin{array}{r}\n",
       "\\frac{3}{2} \\, \\sqrt{3} \\\\\n",
       "0 \\\\\n",
       "\\frac{3}{2}\n",
       "\\end{array}\\right)</script></html>"
      ],
      "text/plain": [
       "[3/2*sqrt(3)]\n",
       "[          0]\n",
       "[        3/2]"
      ]
     },
     "metadata": {},
     "output_type": "display_data"
    },
    {
     "data": {
      "text/html": [
       "<html><script type=\"math/tex; mode=display\">\\newcommand{\\Bold}[1]{\\mathbf{#1}}\\left(\\begin{array}{r}\n",
       "\\frac{3}{2} \\, \\sqrt{3} \\\\\n",
       "3 \\\\\n",
       "\\frac{3}{2}\n",
       "\\end{array}\\right)</script></html>"
      ],
      "text/plain": [
       "[3/2*sqrt(3)]\n",
       "[          3]\n",
       "[        3/2]"
      ]
     },
     "metadata": {},
     "output_type": "display_data"
    },
    {
     "data": {
      "text/html": [
       "<html><script type=\"math/tex; mode=display\">\\newcommand{\\Bold}[1]{\\mathbf{#1}}\\left(\\begin{array}{r}\n",
       "0 \\\\\n",
       "3 \\\\\n",
       "0\n",
       "\\end{array}\\right)</script></html>"
      ],
      "text/plain": [
       "[0]\n",
       "[3]\n",
       "[0]"
      ]
     },
     "metadata": {},
     "output_type": "display_data"
    },
    {
     "data": {
      "text/html": [
       "<html><script type=\"math/tex; mode=display\">\\newcommand{\\Bold}[1]{\\mathbf{#1}}\\left(\\begin{array}{r}\n",
       "-\\frac{3}{2} \\\\\n",
       "0 \\\\\n",
       "\\frac{3}{2} \\, \\sqrt{3}\n",
       "\\end{array}\\right)</script></html>"
      ],
      "text/plain": [
       "[       -3/2]\n",
       "[          0]\n",
       "[3/2*sqrt(3)]"
      ]
     },
     "metadata": {},
     "output_type": "display_data"
    },
    {
     "data": {
      "text/html": [
       "<html><script type=\"math/tex; mode=display\">\\newcommand{\\Bold}[1]{\\mathbf{#1}}\\left(\\begin{array}{r}\n",
       "-\\frac{3}{2} \\\\\n",
       "3 \\\\\n",
       "\\frac{3}{2} \\, \\sqrt{3}\n",
       "\\end{array}\\right)</script></html>"
      ],
      "text/plain": [
       "[       -3/2]\n",
       "[          3]\n",
       "[3/2*sqrt(3)]"
      ]
     },
     "metadata": {},
     "output_type": "display_data"
    },
    {
     "data": {
      "text/html": [
       "<html><script type=\"math/tex; mode=display\">\\newcommand{\\Bold}[1]{\\mathbf{#1}}\\left(\\begin{array}{r}\n",
       "\\frac{3}{2} \\, \\sqrt{3} - \\frac{3}{2} \\\\\n",
       "3 \\\\\n",
       "\\frac{3}{2} \\, \\sqrt{3} + \\frac{3}{2}\n",
       "\\end{array}\\right)</script></html>"
      ],
      "text/plain": [
       "[3/2*sqrt(3) - 3/2]\n",
       "[                3]\n",
       "[3/2*sqrt(3) + 3/2]"
      ]
     },
     "metadata": {},
     "output_type": "display_data"
    },
    {
     "data": {
      "text/html": [
       "<html><script type=\"math/tex; mode=display\">\\newcommand{\\Bold}[1]{\\mathbf{#1}}\\left(\\begin{array}{r}\n",
       "\\frac{3}{2} \\, \\sqrt{3} - \\frac{3}{2} \\\\\n",
       "0 \\\\\n",
       "\\frac{3}{2} \\, \\sqrt{3} + \\frac{3}{2}\n",
       "\\end{array}\\right)</script></html>"
      ],
      "text/plain": [
       "[3/2*sqrt(3) - 3/2]\n",
       "[                0]\n",
       "[3/2*sqrt(3) + 3/2]"
      ]
     },
     "metadata": {},
     "output_type": "display_data"
    }
   ],
   "source": [
    "enigm(identity_matrix(3))"
   ]
  },
  {
   "cell_type": "code",
   "execution_count": 49,
   "metadata": {
    "collapsed": false,
    "deletable": true,
    "editable": true
   },
   "outputs": [
    {
     "data": {
      "text/html": [
       "<html><script type=\"math/tex; mode=display\">\\newcommand{\\Bold}[1]{\\mathbf{#1}}\\left(\\begin{array}{rrr}\n",
       "\\frac{1}{2} \\, \\sqrt{3} & 0 & -\\frac{1}{2} \\\\\n",
       "0 & 1 & 0 \\\\\n",
       "\\frac{1}{2} & 0 & \\frac{1}{2} \\, \\sqrt{3}\n",
       "\\end{array}\\right)</script></html>"
      ],
      "text/plain": [
       "[1/2*sqrt(3)           0        -1/2]\n",
       "[          0           1           0]\n",
       "[        1/2           0 1/2*sqrt(3)]"
      ]
     },
     "metadata": {},
     "output_type": "display_data"
    }
   ],
   "source": [
    "K=matrix(3,3,[[cos(-pi/6),0,sin(-pi/6)],[0,1,0],[-sin(-pi/6),0,cos(-pi/6)]])\n",
    "show(K)"
   ]
  },
  {
   "cell_type": "code",
   "execution_count": 50,
   "metadata": {
    "collapsed": false,
    "deletable": true,
    "editable": true
   },
   "outputs": [
    {
     "data": {
      "text/html": [
       "<html><script type=\"math/tex; mode=display\">\\newcommand{\\Bold}[1]{\\mathbf{#1}}\\left(\\begin{array}{r}\n",
       "0 \\\\\n",
       "0 \\\\\n",
       "0\n",
       "\\end{array}\\right)</script></html>"
      ],
      "text/plain": [
       "[0]\n",
       "[0]\n",
       "[0]"
      ]
     },
     "metadata": {},
     "output_type": "display_data"
    },
    {
     "data": {
      "text/html": [
       "<html><script type=\"math/tex; mode=display\">\\newcommand{\\Bold}[1]{\\mathbf{#1}}\\left(\\begin{array}{r}\n",
       "\\frac{3}{2} \\, \\sqrt{3} \\\\\n",
       "0 \\\\\n",
       "\\frac{3}{2}\n",
       "\\end{array}\\right)</script></html>"
      ],
      "text/plain": [
       "[3/2*sqrt(3)]\n",
       "[          0]\n",
       "[        3/2]"
      ]
     },
     "metadata": {},
     "output_type": "display_data"
    },
    {
     "data": {
      "text/html": [
       "<html><script type=\"math/tex; mode=display\">\\newcommand{\\Bold}[1]{\\mathbf{#1}}\\left(\\begin{array}{r}\n",
       "\\frac{3}{2} \\, \\sqrt{3} \\\\\n",
       "3 \\\\\n",
       "\\frac{3}{2}\n",
       "\\end{array}\\right)</script></html>"
      ],
      "text/plain": [
       "[3/2*sqrt(3)]\n",
       "[          3]\n",
       "[        3/2]"
      ]
     },
     "metadata": {},
     "output_type": "display_data"
    },
    {
     "data": {
      "text/html": [
       "<html><script type=\"math/tex; mode=display\">\\newcommand{\\Bold}[1]{\\mathbf{#1}}\\left(\\begin{array}{r}\n",
       "0 \\\\\n",
       "3 \\\\\n",
       "0\n",
       "\\end{array}\\right)</script></html>"
      ],
      "text/plain": [
       "[0]\n",
       "[3]\n",
       "[0]"
      ]
     },
     "metadata": {},
     "output_type": "display_data"
    },
    {
     "data": {
      "text/html": [
       "<html><script type=\"math/tex; mode=display\">\\newcommand{\\Bold}[1]{\\mathbf{#1}}\\left(\\begin{array}{r}\n",
       "-\\frac{3}{2} \\\\\n",
       "0 \\\\\n",
       "\\frac{3}{2} \\, \\sqrt{3}\n",
       "\\end{array}\\right)</script></html>"
      ],
      "text/plain": [
       "[       -3/2]\n",
       "[          0]\n",
       "[3/2*sqrt(3)]"
      ]
     },
     "metadata": {},
     "output_type": "display_data"
    },
    {
     "data": {
      "text/html": [
       "<html><script type=\"math/tex; mode=display\">\\newcommand{\\Bold}[1]{\\mathbf{#1}}\\left(\\begin{array}{r}\n",
       "-\\frac{3}{2} \\\\\n",
       "3 \\\\\n",
       "\\frac{3}{2} \\, \\sqrt{3}\n",
       "\\end{array}\\right)</script></html>"
      ],
      "text/plain": [
       "[       -3/2]\n",
       "[          3]\n",
       "[3/2*sqrt(3)]"
      ]
     },
     "metadata": {},
     "output_type": "display_data"
    },
    {
     "data": {
      "text/html": [
       "<html><script type=\"math/tex; mode=display\">\\newcommand{\\Bold}[1]{\\mathbf{#1}}\\left(\\begin{array}{r}\n",
       "\\frac{3}{2} \\, \\sqrt{3} - \\frac{3}{2} \\\\\n",
       "3 \\\\\n",
       "\\frac{3}{2} \\, \\sqrt{3} + \\frac{3}{2}\n",
       "\\end{array}\\right)</script></html>"
      ],
      "text/plain": [
       "[3/2*sqrt(3) - 3/2]\n",
       "[                3]\n",
       "[3/2*sqrt(3) + 3/2]"
      ]
     },
     "metadata": {},
     "output_type": "display_data"
    },
    {
     "data": {
      "text/html": [
       "<html><script type=\"math/tex; mode=display\">\\newcommand{\\Bold}[1]{\\mathbf{#1}}\\left(\\begin{array}{r}\n",
       "\\frac{3}{2} \\, \\sqrt{3} - \\frac{3}{2} \\\\\n",
       "0 \\\\\n",
       "\\frac{3}{2} \\, \\sqrt{3} + \\frac{3}{2}\n",
       "\\end{array}\\right)</script></html>"
      ],
      "text/plain": [
       "[3/2*sqrt(3) - 3/2]\n",
       "[                0]\n",
       "[3/2*sqrt(3) + 3/2]"
      ]
     },
     "metadata": {},
     "output_type": "display_data"
    }
   ],
   "source": [
    "enigm(K)"
   ]
  },
  {
   "cell_type": "code",
   "execution_count": 63,
   "metadata": {
    "collapsed": false,
    "deletable": true,
    "editable": true
   },
   "outputs": [
    {
     "data": {
      "text/html": [
       "<html><script type=\"math/tex; mode=display\">\\newcommand{\\Bold}[1]{\\mathbf{#1}}\\left(\\begin{array}{r}\n",
       "4 \\\\\n",
       "3 \\\\\n",
       "2\n",
       "\\end{array}\\right)</script></html>"
      ],
      "text/plain": [
       "[4]\n",
       "[3]\n",
       "[2]"
      ]
     },
     "metadata": {},
     "output_type": "display_data"
    },
    {
     "data": {
      "text/html": [
       "<html><script type=\"math/tex; mode=display\">\\newcommand{\\Bold}[1]{\\mathbf{#1}}\\left(\\begin{array}{r}\n",
       "\\frac{3}{2} \\, \\sqrt{3} + 4 \\\\\n",
       "0 \\\\\n",
       "\\frac{7}{2}\n",
       "\\end{array}\\right)</script></html>"
      ],
      "text/plain": [
       "[3/2*sqrt(3) + 4]\n",
       "[              0]\n",
       "[            7/2]"
      ]
     },
     "metadata": {},
     "output_type": "display_data"
    },
    {
     "data": {
      "text/html": [
       "<html><script type=\"math/tex; mode=display\">\\newcommand{\\Bold}[1]{\\mathbf{#1}}\\left(\\begin{array}{r}\n",
       "\\frac{3}{2} \\, \\sqrt{3} + 4 \\\\\n",
       "6 \\\\\n",
       "\\frac{7}{2}\n",
       "\\end{array}\\right)</script></html>"
      ],
      "text/plain": [
       "[3/2*sqrt(3) + 4]\n",
       "[              6]\n",
       "[            7/2]"
      ]
     },
     "metadata": {},
     "output_type": "display_data"
    },
    {
     "data": {
      "text/html": [
       "<html><script type=\"math/tex; mode=display\">\\newcommand{\\Bold}[1]{\\mathbf{#1}}\\left(\\begin{array}{r}\n",
       "4 \\\\\n",
       "6 \\\\\n",
       "2\n",
       "\\end{array}\\right)</script></html>"
      ],
      "text/plain": [
       "[4]\n",
       "[6]\n",
       "[2]"
      ]
     },
     "metadata": {},
     "output_type": "display_data"
    },
    {
     "data": {
      "text/html": [
       "<html><script type=\"math/tex; mode=display\">\\newcommand{\\Bold}[1]{\\mathbf{#1}}\\left(\\begin{array}{r}\n",
       "\\frac{5}{2} \\\\\n",
       "3 \\\\\n",
       "\\frac{3}{2} \\, \\sqrt{3} + 2\n",
       "\\end{array}\\right)</script></html>"
      ],
      "text/plain": [
       "[            5/2]\n",
       "[              3]\n",
       "[3/2*sqrt(3) + 2]"
      ]
     },
     "metadata": {},
     "output_type": "display_data"
    },
    {
     "data": {
      "text/html": [
       "<html><script type=\"math/tex; mode=display\">\\newcommand{\\Bold}[1]{\\mathbf{#1}}\\left(\\begin{array}{r}\n",
       "\\frac{5}{2} \\\\\n",
       "6 \\\\\n",
       "\\frac{3}{2} \\, \\sqrt{3} + 2\n",
       "\\end{array}\\right)</script></html>"
      ],
      "text/plain": [
       "[            5/2]\n",
       "[              6]\n",
       "[3/2*sqrt(3) + 2]"
      ]
     },
     "metadata": {},
     "output_type": "display_data"
    },
    {
     "data": {
      "text/html": [
       "<html><script type=\"math/tex; mode=display\">\\newcommand{\\Bold}[1]{\\mathbf{#1}}\\left(\\begin{array}{r}\n",
       "\\frac{3}{2} \\, \\sqrt{3} + \\frac{5}{2} \\\\\n",
       "6 \\\\\n",
       "\\frac{3}{2} \\, \\sqrt{3} + \\frac{7}{2}\n",
       "\\end{array}\\right)</script></html>"
      ],
      "text/plain": [
       "[3/2*sqrt(3) + 5/2]\n",
       "[                6]\n",
       "[3/2*sqrt(3) + 7/2]"
      ]
     },
     "metadata": {},
     "output_type": "display_data"
    },
    {
     "data": {
      "text/html": [
       "<html><script type=\"math/tex; mode=display\">\\newcommand{\\Bold}[1]{\\mathbf{#1}}\\left(\\begin{array}{r}\n",
       "\\frac{3}{2} \\, \\sqrt{3} + \\frac{5}{2} \\\\\n",
       "3 \\\\\n",
       "\\frac{3}{2} \\, \\sqrt{3} + \\frac{7}{2}\n",
       "\\end{array}\\right)</script></html>"
      ],
      "text/plain": [
       "[3/2*sqrt(3) + 5/2]\n",
       "[                3]\n",
       "[3/2*sqrt(3) + 7/2]"
      ]
     },
     "metadata": {},
     "output_type": "display_data"
    }
   ],
   "source": [
    "enigm(identity_matrix(3))"
   ]
  },
  {
   "cell_type": "code",
   "execution_count": 82,
   "metadata": {
    "collapsed": false,
    "deletable": true,
    "editable": true
   },
   "outputs": [
    {
     "data": {
      "text/html": [
       "<html><script type=\"math/tex; mode=display\">\\newcommand{\\Bold}[1]{\\mathbf{#1}}\\left(\\begin{array}{rrr}\n",
       "1 & 0 & 0 \\\\\n",
       "0 & \\frac{1}{2} \\, \\sqrt{2} & -\\frac{1}{2} \\, \\sqrt{2} \\\\\n",
       "0 & \\frac{1}{2} \\, \\sqrt{2} & \\frac{1}{2} \\, \\sqrt{2}\n",
       "\\end{array}\\right)</script></html>"
      ],
      "text/plain": [
       "[           1            0            0]\n",
       "[           0  1/2*sqrt(2) -1/2*sqrt(2)]\n",
       "[           0  1/2*sqrt(2)  1/2*sqrt(2)]"
      ]
     },
     "metadata": {},
     "output_type": "display_data"
    }
   ],
   "source": [
    "L=matrix(3,3,[[1,0,0],[0,cos(pi/4),-sin(pi/4)],[0,sin(pi/4),cos(pi/4)]])\n",
    "show(L)"
   ]
  },
  {
   "cell_type": "code",
   "execution_count": 83,
   "metadata": {
    "collapsed": false,
    "deletable": true,
    "editable": true
   },
   "outputs": [
    {
     "data": {
      "text/html": [
       "<html><script type=\"math/tex; mode=display\">\\newcommand{\\Bold}[1]{\\mathbf{#1}}\\left(\\begin{array}{r}\n",
       "4 \\\\\n",
       "\\frac{1}{2} \\, \\sqrt{2} \\\\\n",
       "\\frac{5}{2} \\, \\sqrt{2}\n",
       "\\end{array}\\right)</script></html>"
      ],
      "text/plain": [
       "[          4]\n",
       "[1/2*sqrt(2)]\n",
       "[5/2*sqrt(2)]"
      ]
     },
     "metadata": {},
     "output_type": "display_data"
    },
    {
     "data": {
      "text/html": [
       "<html><script type=\"math/tex; mode=display\">\\newcommand{\\Bold}[1]{\\mathbf{#1}}\\left(\\begin{array}{r}\n",
       "\\frac{3}{2} \\, \\sqrt{3} + 4 \\\\\n",
       "-\\frac{1}{4} \\, \\sqrt{2} \\\\\n",
       "\\frac{13}{4} \\, \\sqrt{2}\n",
       "\\end{array}\\right)</script></html>"
      ],
      "text/plain": [
       "[3/2*sqrt(3) + 4]\n",
       "[   -1/4*sqrt(2)]\n",
       "[   13/4*sqrt(2)]"
      ]
     },
     "metadata": {},
     "output_type": "display_data"
    },
    {
     "data": {
      "text/html": [
       "<html><script type=\"math/tex; mode=display\">\\newcommand{\\Bold}[1]{\\mathbf{#1}}\\left(\\begin{array}{r}\n",
       "\\frac{3}{2} \\, \\sqrt{3} + 4 \\\\\n",
       "\\frac{5}{4} \\, \\sqrt{2} \\\\\n",
       "\\frac{19}{4} \\, \\sqrt{2}\n",
       "\\end{array}\\right)</script></html>"
      ],
      "text/plain": [
       "[3/2*sqrt(3) + 4]\n",
       "[    5/4*sqrt(2)]\n",
       "[   19/4*sqrt(2)]"
      ]
     },
     "metadata": {},
     "output_type": "display_data"
    },
    {
     "data": {
      "text/html": [
       "<html><script type=\"math/tex; mode=display\">\\newcommand{\\Bold}[1]{\\mathbf{#1}}\\left(\\begin{array}{r}\n",
       "4 \\\\\n",
       "2 \\, \\sqrt{2} \\\\\n",
       "4 \\, \\sqrt{2}\n",
       "\\end{array}\\right)</script></html>"
      ],
      "text/plain": [
       "[        4]\n",
       "[2*sqrt(2)]\n",
       "[4*sqrt(2)]"
      ]
     },
     "metadata": {},
     "output_type": "display_data"
    },
    {
     "data": {
      "text/html": [
       "<html><script type=\"math/tex; mode=display\">\\newcommand{\\Bold}[1]{\\mathbf{#1}}\\left(\\begin{array}{r}\n",
       "\\frac{5}{2} \\\\\n",
       "-\\frac{1}{4} \\, \\sqrt{2} {\\left(3 \\, \\sqrt{3} + 4\\right)} + \\frac{3}{2} \\, \\sqrt{2} \\\\\n",
       "\\frac{1}{4} \\, \\sqrt{2} {\\left(3 \\, \\sqrt{3} + 4\\right)} + \\frac{3}{2} \\, \\sqrt{2}\n",
       "\\end{array}\\right)</script></html>"
      ],
      "text/plain": [
       "[                                       5/2]\n",
       "[-1/4*sqrt(2)*(3*sqrt(3) + 4) + 3/2*sqrt(2)]\n",
       "[ 1/4*sqrt(2)*(3*sqrt(3) + 4) + 3/2*sqrt(2)]"
      ]
     },
     "metadata": {},
     "output_type": "display_data"
    },
    {
     "data": {
      "text/html": [
       "<html><script type=\"math/tex; mode=display\">\\newcommand{\\Bold}[1]{\\mathbf{#1}}\\left(\\begin{array}{r}\n",
       "\\frac{5}{2} \\\\\n",
       "-\\frac{1}{4} \\, \\sqrt{2} {\\left(3 \\, \\sqrt{3} + 4\\right)} + 3 \\, \\sqrt{2} \\\\\n",
       "\\frac{1}{4} \\, \\sqrt{2} {\\left(3 \\, \\sqrt{3} + 4\\right)} + 3 \\, \\sqrt{2}\n",
       "\\end{array}\\right)</script></html>"
      ],
      "text/plain": [
       "[                                     5/2]\n",
       "[-1/4*sqrt(2)*(3*sqrt(3) + 4) + 3*sqrt(2)]\n",
       "[ 1/4*sqrt(2)*(3*sqrt(3) + 4) + 3*sqrt(2)]"
      ]
     },
     "metadata": {},
     "output_type": "display_data"
    },
    {
     "data": {
      "text/html": [
       "<html><script type=\"math/tex; mode=display\">\\newcommand{\\Bold}[1]{\\mathbf{#1}}\\left(\\begin{array}{r}\n",
       "\\frac{3}{2} \\, \\sqrt{3} + \\frac{5}{2} \\\\\n",
       "-\\frac{1}{4} \\, \\sqrt{2} {\\left(3 \\, \\sqrt{3} + 7\\right)} + 3 \\, \\sqrt{2} \\\\\n",
       "\\frac{1}{4} \\, \\sqrt{2} {\\left(3 \\, \\sqrt{3} + 7\\right)} + 3 \\, \\sqrt{2}\n",
       "\\end{array}\\right)</script></html>"
      ],
      "text/plain": [
       "[                       3/2*sqrt(3) + 5/2]\n",
       "[-1/4*sqrt(2)*(3*sqrt(3) + 7) + 3*sqrt(2)]\n",
       "[ 1/4*sqrt(2)*(3*sqrt(3) + 7) + 3*sqrt(2)]"
      ]
     },
     "metadata": {},
     "output_type": "display_data"
    },
    {
     "data": {
      "text/html": [
       "<html><script type=\"math/tex; mode=display\">\\newcommand{\\Bold}[1]{\\mathbf{#1}}\\left(\\begin{array}{r}\n",
       "\\frac{3}{2} \\, \\sqrt{3} + \\frac{5}{2} \\\\\n",
       "-\\frac{1}{4} \\, \\sqrt{2} {\\left(3 \\, \\sqrt{3} + 7\\right)} + \\frac{3}{2} \\, \\sqrt{2} \\\\\n",
       "\\frac{1}{4} \\, \\sqrt{2} {\\left(3 \\, \\sqrt{3} + 7\\right)} + \\frac{3}{2} \\, \\sqrt{2}\n",
       "\\end{array}\\right)</script></html>"
      ],
      "text/plain": [
       "[                         3/2*sqrt(3) + 5/2]\n",
       "[-1/4*sqrt(2)*(3*sqrt(3) + 7) + 3/2*sqrt(2)]\n",
       "[ 1/4*sqrt(2)*(3*sqrt(3) + 7) + 3/2*sqrt(2)]"
      ]
     },
     "metadata": {},
     "output_type": "display_data"
    }
   ],
   "source": [
    "enigm(L)"
   ]
  },
  {
   "cell_type": "code",
   "execution_count": 106,
   "metadata": {
    "collapsed": false,
    "deletable": true,
    "editable": true
   },
   "outputs": [],
   "source": [
    "P2,P3,P4,P5,P6,P7,P8=[3/2*sqrt(3)+4,-sqrt(2)/4,13*sqrt(2)/4],[3/2*sqrt(3)+4,5*sqrt(2)/4,19*sqrt(2)/4],[4,2*sqrt(2),4*sqrt(2)],[5/2,-sqrt(2)*(3*sqrt(3)+4)/4+sqrt(2)*3/2,sqrt(2)*(3*sqrt(3)+4)/4+sqrt(2)*3/2],[5/2,-sqrt(2)*(3*sqrt(3)+4)/4+sqrt(2)*3,sqrt(2)*(3*sqrt(3)+4)/4+sqrt(2)*3],[3*sqrt(3)/2+5/2,-sqrt(2)*(3*sqrt(3)+7)/4+sqrt(2)*3,sqrt(2)*(3*sqrt(3)+4)/4+sqrt(2)*3],[3*sqrt(3)/2+5/2,-sqrt(2)*(3*sqrt(3)+7)/4+sqrt(2)*3/2,sqrt(2)*(3*sqrt(3)+7)/4+sqrt(2)*3/2]"
   ]
  },
  {
   "cell_type": "code",
   "execution_count": 107,
   "metadata": {
    "collapsed": false,
    "deletable": true,
    "editable": true
   },
   "outputs": [
    {
     "data": {
      "text/html": [
       "\n",
       "<iframe srcdoc=\"\n",
       "<html>\n",
       "<head>\n",
       "  <style>\n",
       "    * {\n",
       "      margin: 0;\n",
       "      padding: 0;\n",
       "      overflow: hidden;\n",
       "    }\n",
       "    body, html {      \n",
       "      height: 100%;\n",
       "      width: 100%;\n",
       "    }\n",
       "  </style>\n",
       "  <script type=&quot;text/javascript&quot; src=&quot;/nbextensions/jsmol/JSmol.min.js&quot;></script>\n",
       "</head>\n",
       "<body>\n",
       "  <script type=&quot;text/javascript&quot;>\n",
       "    var script = [\n",
       "  'data &quot;model list&quot;',\n",
       "  '10',\n",
       "  'empty',\n",
       "  'Xx -2.44948974278 -4.0 -2.36602540378',\n",
       "  'Xx 0.0 -4.0 -2.36602540378',\n",
       "  'Xx 2.44948974278 -4.0 -2.36602540378',\n",
       "  'Xx 3.44948974278 -3.0 -2.36602540378',\n",
       "  'Xx 3.44948974278 0.0 -2.36602540378',\n",
       "  'Xx 3.44948974278 3.0 -2.36602540378',\n",
       "  'Xx -3.44948974278 -3.0 -2.36602540378',\n",
       "  'Xx -3.44948974278 -3.0 0.0',\n",
       "  'Xx -3.44948974278 -3.0 2.36602540378',\n",
       "  'Xx 5.5 5.5 5.5',\n",
       "  'end &quot;model list&quot;; show data',\n",
       "  'select *',\n",
       "  'wireframe off; spacefill off',\n",
       "  'set labelOffset 0 0',\n",
       "  'background [255,255,255]',\n",
       "  'spin OFF',\n",
       "  'moveto 0 -764 -346 -545 76.39',\n",
       "  'centerAt absolute {0 0 0}',\n",
       "  'zoom 100',\n",
       "  'frank OFF',\n",
       "  'set perspectivedepth ON',\n",
       "  'draw point_1 DIAMETER 15 {2.44948974278 -0.803847577293 -1.09807621135}',\n",
       "  'color $point_1  [102,102,255]',\n",
       "  'draw point_2 DIAMETER 15 {2.44948974278 1.73205080757 1.43782217351}',\n",
       "  'color $point_2  [102,102,255]',\n",
       "  'draw point_3 DIAMETER 15 {-0.656338798447 3.0 0.169872981078}',\n",
       "  'color $point_3  [102,102,255]',\n",
       "  'draw point_4 DIAMETER 15 {-2.44948974278 -1.73205080757 -0.169872981078}',\n",
       "  'color $point_4  [102,102,255]',\n",
       "  'draw point_5 DIAMETER 15 {-2.44948974278 0.803847577293 2.36602540378}',\n",
       "  'color $point_5  [102,102,255]',\n",
       "  'draw point_6 DIAMETER 15 {0.656338798447 -0.464101615138 2.36602540378}',\n",
       "  'color $point_6  [102,102,255]',\n",
       "  'draw point_7 DIAMETER 15 {0.656338798447 -3.0 1.09807621135}',\n",
       "  'color $point_7  [102,102,255]',\n",
       "  'draw line_8 diameter 5 curve {2.44948974278 -0.803847577293 -1.09807621135}  {2.44948974278 1.73205080757 1.43782217351} ',\n",
       "  'color $line_8  [102,102,255]',\n",
       "  'draw line_9 diameter 5 curve {2.44948974278 1.73205080757 1.43782217351}  {-0.656338798447 3.0 0.169872981078} ',\n",
       "  'color $line_9  [102,102,255]',\n",
       "  'draw line_10 diameter 5 curve {-0.656338798447 3.0 0.169872981078}  {-0.656338798447 0.464101615138 -2.36602540378} ',\n",
       "  'color $line_10  [102,102,255]',\n",
       "  'draw line_11 diameter 5 curve {-2.44948974278 -1.73205080757 -0.169872981078}  {-2.44948974278 0.803847577293 2.36602540378} ',\n",
       "  'color $line_11  [102,102,255]',\n",
       "  'draw line_12 diameter 5 curve {-2.44948974278 0.803847577293 2.36602540378}  {0.656338798447 -0.464101615138 2.36602540378} ',\n",
       "  'color $line_12  [102,102,255]',\n",
       "  'draw line_13 diameter 5 curve {0.656338798447 -0.464101615138 2.36602540378}  {0.656338798447 -3.0 1.09807621135} ',\n",
       "  'color $line_13  [102,102,255]',\n",
       "  'draw line_14 diameter 5 curve {0.656338798447 -3.0 1.09807621135}  {-2.44948974278 -1.73205080757 -0.169872981078} ',\n",
       "  'color $line_14  [102,102,255]',\n",
       "  'draw line_15 diameter 5 curve {-2.44948974278 -1.73205080757 -0.169872981078} ',\n",
       "  'color $line_15  [102,102,255]',\n",
       "  'draw line_16 diameter 5 curve {-0.656338798447 3.0 0.169872981078}  {-2.44948974278 0.803847577293 2.36602540378} ',\n",
       "  'color $line_16  [102,102,255]',\n",
       "  'draw line_17 diameter 5 curve {2.44948974278 1.73205080757 1.43782217351}  {0.656338798447 -0.464101615138 2.36602540378} ',\n",
       "  'color $line_17  [102,102,255]',\n",
       "  'draw line_18 diameter 5 curve {2.44948974278 -0.803847577293 -1.09807621135}  {0.656338798447 -3.0 1.09807621135} ',\n",
       "  'color $line_18  [102,102,255]',\n",
       "  'pmesh obj_19 inline &quot;3',\n",
       "  '2.44949 -0.803848 -1.09808',\n",
       "  '2.44949 1.73205 1.43782',\n",
       "  '-0.656339 3 0.169873',\n",
       "  '1',\n",
       "  '4',\n",
       "  '0',\n",
       "  '1',\n",
       "  '2',\n",
       "  '0&quot;',\n",
       "  'color pmesh translucent 0.5 [255,0,0]',\n",
       "  'pmesh obj_20 inline &quot;4',\n",
       "  '-2.44949 -1.73205 -0.169873',\n",
       "  '-2.44949 0.803848 2.36603',\n",
       "  '0.656339 -0.464102 2.36603',\n",
       "  '0.656339 -3 1.09808',\n",
       "  '1',\n",
       "  '5',\n",
       "  '0',\n",
       "  '1',\n",
       "  '2',\n",
       "  '3',\n",
       "  '0&quot;',\n",
       "  'color pmesh translucent 0.5 [255,165,0]',\n",
       "  'pmesh obj_21 inline &quot;4',\n",
       "  '2.44949 -0.803848 -1.09808',\n",
       "  '2.44949 1.73205 1.43782',\n",
       "  '0.656339 -0.464102 2.36603',\n",
       "  '0.656339 -3 1.09808',\n",
       "  '1',\n",
       "  '5',\n",
       "  '0',\n",
       "  '1',\n",
       "  '2',\n",
       "  '3',\n",
       "  '0&quot;',\n",
       "  'color pmesh translucent 0.5 [255,255,0]',\n",
       "  'draw line_22 diameter 1 curve {-2.44948974278 -3.0 -2.36602540378}  {-2.44948974278 3.0 -2.36602540378} ',\n",
       "  'color $line_22 translucent 0.5 [0,0,0]',\n",
       "  'draw line_23 diameter 1 curve {-2.44948974278 3.0 -2.36602540378}  {2.44948974278 3.0 -2.36602540378} ',\n",
       "  'color $line_23 translucent 0.5 [0,0,0]',\n",
       "  'draw line_24 diameter 1 curve {2.44948974278 3.0 -2.36602540378}  {2.44948974278 -3.0 -2.36602540378} ',\n",
       "  'color $line_24 translucent 0.5 [0,0,0]',\n",
       "  'draw line_25 diameter 1 curve {2.44948974278 -3.0 -2.36602540378}  {-2.44948974278 -3.0 -2.36602540378} ',\n",
       "  'color $line_25 translucent 0.5 [0,0,0]',\n",
       "  'draw line_26 diameter 1 curve {-2.44948974278 -3.0 -2.36602540378}  {-2.44948974278 -3.0 2.36602540378} ',\n",
       "  'color $line_26 translucent 0.5 [0,0,0]',\n",
       "  'draw line_27 diameter 1 curve {-2.44948974278 -3.0 2.36602540378}  {-2.44948974278 3.0 2.36602540378} ',\n",
       "  'color $line_27 translucent 0.5 [0,0,0]',\n",
       "  'draw line_28 diameter 1 curve {-2.44948974278 3.0 2.36602540378}  {2.44948974278 3.0 2.36602540378} ',\n",
       "  'color $line_28 translucent 0.5 [0,0,0]',\n",
       "  'draw line_29 diameter 1 curve {2.44948974278 3.0 2.36602540378}  {2.44948974278 -3.0 2.36602540378} ',\n",
       "  'color $line_29 translucent 0.5 [0,0,0]',\n",
       "  'draw line_30 diameter 1 curve {2.44948974278 -3.0 2.36602540378}  {-2.44948974278 -3.0 2.36602540378} ',\n",
       "  'color $line_30 translucent 0.5 [0,0,0]',\n",
       "  'draw line_31 diameter 1 curve {-2.44948974278 -3.0 2.36602540378} ',\n",
       "  'color $line_31 translucent 0.5 [0,0,0]',\n",
       "  'draw line_32 diameter 1 curve {-2.44948974278 3.0 -2.36602540378}  {-2.44948974278 3.0 2.36602540378} ',\n",
       "  'color $line_32 translucent 0.5 [0,0,0]',\n",
       "  'draw line_33 diameter 1 curve {2.44948974278 -3.0 -2.36602540378}  {2.44948974278 -3.0 2.36602540378} ',\n",
       "  'color $line_33 translucent 0.5 [0,0,0]',\n",
       "  'draw line_34 diameter 1 curve {2.44948974278 3.0 -2.36602540378}  {2.44948974278 3.0 2.36602540378} ',\n",
       "  'color $line_34 translucent 0.5 [0,0,0]',\n",
       "  'select atomno = 1',\n",
       "  'color atom  [76,76,76]',\n",
       "  'label &quot;2.5&quot;',\n",
       "  'select atomno = 2',\n",
       "  'color atom  [76,76,76]',\n",
       "  'label &quot;4.5&quot;',\n",
       "  'select atomno = 3',\n",
       "  'color atom  [76,76,76]',\n",
       "  'label &quot;6.6&quot;',\n",
       "  'select atomno = 4',\n",
       "  'color atom  [76,76,76]',\n",
       "  'label &quot;-2.2&quot;',\n",
       "  'select atomno = 5',\n",
       "  'color atom  [76,76,76]',\n",
       "  'label &quot;0.3&quot;',\n",
       "  'select atomno = 6',\n",
       "  'color atom  [76,76,76]',\n",
       "  'label &quot;2.8&quot;',\n",
       "  'select atomno = 7',\n",
       "  'color atom  [76,76,76]',\n",
       "  'label &quot;3.5&quot;',\n",
       "  'select atomno = 8',\n",
       "  'color atom  [76,76,76]',\n",
       "  'label &quot;5.5&quot;',\n",
       "  'select atomno = 9',\n",
       "  'color atom  [76,76,76]',\n",
       "  'label &quot;7.5&quot;',\n",
       "  'isosurface fullylit; pmesh o* fullylit; set antialiasdisplay on;',\n",
       "].join('\\n');;\n",
       "    var Info = {\n",
       "      width: '100%',\n",
       "      height: '500',\n",
       "      debug: false,\n",
       "      disableInitialConsole: true,   // very slow when used with inline mesh\n",
       "      color: '#3131ff',\n",
       "      addSelectionOptions: false,\n",
       "      use: 'HTML5',\n",
       "      j2sPath: '/nbextensions/jsmol/j2s',\n",
       "      script: script,\n",
       "    };\n",
       "    var jmolApplet0 = Jmol.getApplet('jmolApplet0', Info);\n",
       "  </script>\n",
       "</body>\n",
       "</html>\n",
       "\" \n",
       "        width=\"100%\"\n",
       "        height=\"500\"\n",
       "        style=\"border: 0;\">\n",
       "</iframe>\n"
      ],
      "text/plain": [
       "Graphics3d Object"
      ]
     },
     "metadata": {},
     "output_type": "display_data"
    }
   ],
   "source": [
    "\n",
    "G=point([P2,P3,P4,P5,P6,P7,P8],size=15)\n",
    "G=G+line([P2,P3,P4,P1],thickness=5)+line([P5,P6,P7,P8,P5],thickness=5)+line([P4,P6],thickness=5)+line([P3,P7],thickness=5)+line([P2,P8],thickness=5)\n",
    "G=G+polygon3d([P2,P3,P4],color='red',opacity=0.5)+polygon3d([P5,P6,P7,P8],color='orange',opacity=0.5)+polygon3d([P2,P3,P7,P8],color='yellow',opacity=0.5)\n",
    "G.show(aspect_ratio=1)"
   ]
  },
  {
   "cell_type": "code",
   "execution_count": 80,
   "metadata": {
    "collapsed": false,
    "deletable": true,
    "editable": true
   },
   "outputs": [
    {
     "data": {
      "text/html": [
       "\n",
       "<iframe srcdoc=\"\n",
       "<html>\n",
       "<head>\n",
       "  <style>\n",
       "    * {\n",
       "      margin: 0;\n",
       "      padding: 0;\n",
       "      overflow: hidden;\n",
       "    }\n",
       "    body, html {      \n",
       "      height: 100%;\n",
       "      width: 100%;\n",
       "    }\n",
       "  </style>\n",
       "  <script type=&quot;text/javascript&quot; src=&quot;/nbextensions/jsmol/JSmol.min.js&quot;></script>\n",
       "</head>\n",
       "<body>\n",
       "  <script type=&quot;text/javascript&quot;>\n",
       "    var script = [\n",
       "  'data &quot;model list&quot;',\n",
       "  '10',\n",
       "  'empty',\n",
       "  'Xx -3.0 -3.19615242271 -3.0',\n",
       "  'Xx 0.0 -3.19615242271 -3.0',\n",
       "  'Xx 3.0 -3.19615242271 -3.0',\n",
       "  'Xx 4.0 -2.19615242271 -3.0',\n",
       "  'Xx 4.0 0.0 -3.0',\n",
       "  'Xx 4.0 2.19615242271 -3.0',\n",
       "  'Xx -4.0 -2.19615242271 -3.0',\n",
       "  'Xx -4.0 -2.19615242271 0.0',\n",
       "  'Xx -4.0 -2.19615242271 3.0',\n",
       "  'Xx 5.5 5.5 5.5',\n",
       "  'end &quot;model list&quot;; show data',\n",
       "  'select *',\n",
       "  'wireframe off; spacefill off',\n",
       "  'set labelOffset 0 0',\n",
       "  'background [255,255,255]',\n",
       "  'spin OFF',\n",
       "  'moveto 0 -764 -346 -545 76.39',\n",
       "  'centerAt absolute {0 0 0}',\n",
       "  'zoom 100',\n",
       "  'frank OFF',\n",
       "  'set perspectivedepth ON',\n",
       "  'draw point_1 DIAMETER 15 {-0.803847577293 -2.19615242271 -3.0}',\n",
       "  'color $point_1  [102,102,255]',\n",
       "  'draw point_2 DIAMETER 15 {3.0 -2.19615242271 -0.803847577293}',\n",
       "  'color $point_2  [102,102,255]',\n",
       "  'draw point_3 DIAMETER 15 {3.0 2.19615242271 -0.803847577293}',\n",
       "  'color $point_3  [102,102,255]',\n",
       "  'draw point_4 DIAMETER 15 {-0.803847577293 2.19615242271 -3.0}',\n",
       "  'color $point_4  [102,102,255]',\n",
       "  'draw point_5 DIAMETER 15 {-3.0 -2.19615242271 0.803847577293}',\n",
       "  'color $point_5  [102,102,255]',\n",
       "  'draw point_6 DIAMETER 15 {-3.0 2.19615242271 0.803847577293}',\n",
       "  'color $point_6  [102,102,255]',\n",
       "  'draw point_7 DIAMETER 15 {0.803847577293 2.19615242271 3.0}',\n",
       "  'color $point_7  [102,102,255]',\n",
       "  'draw point_8 DIAMETER 15 {0.803847577293 -2.19615242271 3.0}',\n",
       "  'color $point_8  [102,102,255]',\n",
       "  'draw line_9 diameter 5 curve {-0.803847577293 -2.19615242271 -3.0}  {3.0 -2.19615242271 -0.803847577293} ',\n",
       "  'color $line_9  [102,102,255]',\n",
       "  'draw line_10 diameter 5 curve {3.0 -2.19615242271 -0.803847577293}  {3.0 2.19615242271 -0.803847577293} ',\n",
       "  'color $line_10  [102,102,255]',\n",
       "  'draw line_11 diameter 5 curve {3.0 2.19615242271 -0.803847577293}  {-0.803847577293 2.19615242271 -3.0} ',\n",
       "  'color $line_11  [102,102,255]',\n",
       "  'draw line_12 diameter 5 curve {-0.803847577293 2.19615242271 -3.0}  {-0.803847577293 -2.19615242271 -3.0} ',\n",
       "  'color $line_12  [102,102,255]',\n",
       "  'draw line_13 diameter 5 curve {-0.803847577293 -2.19615242271 -3.0} ',\n",
       "  'color $line_13  [102,102,255]',\n",
       "  'draw line_14 diameter 5 curve {-3.0 -2.19615242271 0.803847577293}  {-3.0 2.19615242271 0.803847577293} ',\n",
       "  'color $line_14  [102,102,255]',\n",
       "  'draw line_15 diameter 5 curve {-3.0 2.19615242271 0.803847577293}  {0.803847577293 2.19615242271 3.0} ',\n",
       "  'color $line_15  [102,102,255]',\n",
       "  'draw line_16 diameter 5 curve {0.803847577293 2.19615242271 3.0}  {0.803847577293 -2.19615242271 3.0} ',\n",
       "  'color $line_16  [102,102,255]',\n",
       "  'draw line_17 diameter 5 curve {0.803847577293 -2.19615242271 3.0}  {-3.0 -2.19615242271 0.803847577293} ',\n",
       "  'color $line_17  [102,102,255]',\n",
       "  'draw line_18 diameter 5 curve {-3.0 -2.19615242271 0.803847577293} ',\n",
       "  'color $line_18  [102,102,255]',\n",
       "  'draw line_19 diameter 5 curve {-0.803847577293 -2.19615242271 -3.0}  {-3.0 -2.19615242271 0.803847577293} ',\n",
       "  'color $line_19  [102,102,255]',\n",
       "  'draw line_20 diameter 5 curve {-0.803847577293 2.19615242271 -3.0}  {-3.0 2.19615242271 0.803847577293} ',\n",
       "  'color $line_20  [102,102,255]',\n",
       "  'draw line_21 diameter 5 curve {3.0 2.19615242271 -0.803847577293}  {0.803847577293 2.19615242271 3.0} ',\n",
       "  'color $line_21  [102,102,255]',\n",
       "  'draw line_22 diameter 5 curve {3.0 -2.19615242271 -0.803847577293}  {0.803847577293 -2.19615242271 3.0} ',\n",
       "  'color $line_22  [102,102,255]',\n",
       "  'pmesh obj_23 inline &quot;4',\n",
       "  '-0.803848 -2.19615 -3',\n",
       "  '3 -2.19615 -0.803848',\n",
       "  '3 2.19615 -0.803848',\n",
       "  '-0.803848 2.19615 -3',\n",
       "  '1',\n",
       "  '5',\n",
       "  '0',\n",
       "  '1',\n",
       "  '2',\n",
       "  '3',\n",
       "  '0&quot;',\n",
       "  'color pmesh translucent 0.5 [255,0,0]',\n",
       "  'pmesh obj_24 inline &quot;4',\n",
       "  '-3 -2.19615 0.803848',\n",
       "  '-3 2.19615 0.803848',\n",
       "  '0.803848 2.19615 3',\n",
       "  '0.803848 -2.19615 3',\n",
       "  '1',\n",
       "  '5',\n",
       "  '0',\n",
       "  '1',\n",
       "  '2',\n",
       "  '3',\n",
       "  '0&quot;',\n",
       "  'color pmesh translucent 0.5 [255,165,0]',\n",
       "  'pmesh obj_25 inline &quot;4',\n",
       "  '3 -2.19615 -0.803848',\n",
       "  '3 2.19615 -0.803848',\n",
       "  '0.803848 2.19615 3',\n",
       "  '0.803848 -2.19615 3',\n",
       "  '1',\n",
       "  '5',\n",
       "  '0',\n",
       "  '1',\n",
       "  '2',\n",
       "  '3',\n",
       "  '0&quot;',\n",
       "  'color pmesh translucent 0.5 [255,255,0]',\n",
       "  'draw line_26 diameter 1 curve {-3.0 -2.19615242271 -3.0}  {-3.0 2.19615242271 -3.0} ',\n",
       "  'color $line_26 translucent 0.5 [0,0,0]',\n",
       "  'draw line_27 diameter 1 curve {-3.0 2.19615242271 -3.0}  {3.0 2.19615242271 -3.0} ',\n",
       "  'color $line_27 translucent 0.5 [0,0,0]',\n",
       "  'draw line_28 diameter 1 curve {3.0 2.19615242271 -3.0}  {3.0 -2.19615242271 -3.0} ',\n",
       "  'color $line_28 translucent 0.5 [0,0,0]',\n",
       "  'draw line_29 diameter 1 curve {3.0 -2.19615242271 -3.0}  {-3.0 -2.19615242271 -3.0} ',\n",
       "  'color $line_29 translucent 0.5 [0,0,0]',\n",
       "  'draw line_30 diameter 1 curve {-3.0 -2.19615242271 -3.0}  {-3.0 -2.19615242271 3.0} ',\n",
       "  'color $line_30 translucent 0.5 [0,0,0]',\n",
       "  'draw line_31 diameter 1 curve {-3.0 -2.19615242271 3.0}  {-3.0 2.19615242271 3.0} ',\n",
       "  'color $line_31 translucent 0.5 [0,0,0]',\n",
       "  'draw line_32 diameter 1 curve {-3.0 2.19615242271 3.0}  {3.0 2.19615242271 3.0} ',\n",
       "  'color $line_32 translucent 0.5 [0,0,0]',\n",
       "  'draw line_33 diameter 1 curve {3.0 2.19615242271 3.0}  {3.0 -2.19615242271 3.0} ',\n",
       "  'color $line_33 translucent 0.5 [0,0,0]',\n",
       "  'draw line_34 diameter 1 curve {3.0 -2.19615242271 3.0}  {-3.0 -2.19615242271 3.0} ',\n",
       "  'color $line_34 translucent 0.5 [0,0,0]',\n",
       "  'draw line_35 diameter 1 curve {-3.0 -2.19615242271 3.0} ',\n",
       "  'color $line_35 translucent 0.5 [0,0,0]',\n",
       "  'draw line_36 diameter 1 curve {-3.0 2.19615242271 -3.0}  {-3.0 2.19615242271 3.0} ',\n",
       "  'color $line_36 translucent 0.5 [0,0,0]',\n",
       "  'draw line_37 diameter 1 curve {3.0 -2.19615242271 -3.0}  {3.0 -2.19615242271 3.0} ',\n",
       "  'color $line_37 translucent 0.5 [0,0,0]',\n",
       "  'draw line_38 diameter 1 curve {3.0 2.19615242271 -3.0}  {3.0 2.19615242271 3.0} ',\n",
       "  'color $line_38 translucent 0.5 [0,0,0]',\n",
       "  'select atomno = 1',\n",
       "  'color atom  [76,76,76]',\n",
       "  'label &quot;2.5&quot;',\n",
       "  'select atomno = 2',\n",
       "  'color atom  [76,76,76]',\n",
       "  'label &quot;4.5&quot;',\n",
       "  'select atomno = 3',\n",
       "  'color atom  [76,76,76]',\n",
       "  'label &quot;6.6&quot;',\n",
       "  'select atomno = 4',\n",
       "  'color atom  [76,76,76]',\n",
       "  'label &quot;3.0&quot;',\n",
       "  'select atomno = 5',\n",
       "  'color atom  [76,76,76]',\n",
       "  'label &quot;4.5&quot;',\n",
       "  'select atomno = 6',\n",
       "  'color atom  [76,76,76]',\n",
       "  'label &quot;6.0&quot;',\n",
       "  'select atomno = 7',\n",
       "  'color atom  [76,76,76]',\n",
       "  'label &quot;2.0&quot;',\n",
       "  'select atomno = 8',\n",
       "  'color atom  [76,76,76]',\n",
       "  'label &quot;4.0&quot;',\n",
       "  'select atomno = 9',\n",
       "  'color atom  [76,76,76]',\n",
       "  'label &quot;6.1&quot;',\n",
       "  'isosurface fullylit; pmesh o* fullylit; set antialiasdisplay on;',\n",
       "].join('\\n');;\n",
       "    var Info = {\n",
       "      width: '100%',\n",
       "      height: '500',\n",
       "      debug: false,\n",
       "      disableInitialConsole: true,   // very slow when used with inline mesh\n",
       "      color: '#3131ff',\n",
       "      addSelectionOptions: false,\n",
       "      use: 'HTML5',\n",
       "      j2sPath: '/nbextensions/jsmol/j2s',\n",
       "      script: script,\n",
       "    };\n",
       "    var jmolApplet0 = Jmol.getApplet('jmolApplet0', Info);\n",
       "  </script>\n",
       "</body>\n",
       "</html>\n",
       "\" \n",
       "        width=\"100%\"\n",
       "        height=\"500\"\n",
       "        style=\"border: 0;\">\n",
       "</iframe>\n"
      ],
      "text/plain": [
       "Graphics3d Object"
      ]
     },
     "metadata": {},
     "output_type": "display_data"
    }
   ],
   "source": [
    "P1,P2,P3,P4,P5,P6,P7,P8=[4,3,2],[3/2*sqrt(3)+4,3,7/2],[3/2*sqrt(3)+4,6,7/2],[4,6,2],[5/2,3,3*sqrt(3)/2+2],[-3/2+4,6,3*sqrt(3)/2+2],[3/2*sqrt(3)-3/2+4,6,3/2*sqrt(3)+3/2+2],[3/2*sqrt(3)-3/2+4,3,3/2*sqrt(3)+3/2+2]\n",
    "G=point([P1,P2,P3,P4,P5,P6,P7,P8],size=15)\n",
    "G=G+line([P1,P2,P3,P4,P1],thickness=5)+line([P5,P6,P7,P8,P5],thickness=5)+line([P1,P5],thickness=5)+line([P4,P6],thickness=5)+line([P3,P7],thickness=5)+line([P2,P8],thickness=5)\n",
    "G=G+polygon3d([P1,P2,P3,P4],color='red',opacity=0.5)+polygon3d([P5,P6,P7,P8],color='orange',opacity=0.5)+polygon3d([P2,P3,P7,P8],color='yellow',opacity=0.5)\n",
    "G.show(aspect_ratio=1)"
   ]
  },
  {
   "cell_type": "code",
   "execution_count": 88,
   "metadata": {
    "collapsed": false,
    "deletable": true,
    "editable": true
   },
   "outputs": [
    {
     "data": {
      "text/html": [
       "<html><script type=\"math/tex; mode=display\">\\newcommand{\\Bold}[1]{\\mathbf{#1}}\\frac{1}{4} \\, \\sqrt{2} {\\left(3 \\, \\sqrt{3} + 4\\right)} - \\sqrt{2}</script></html>"
      ],
      "text/plain": [
       "1/4*sqrt(2)*(3*sqrt(3) + 4) - sqrt(2)"
      ]
     },
     "metadata": {},
     "output_type": "display_data"
    }
   ],
   "source": [
    "show(sqrt(2)/2+sqrt(2)*(3*sqrt(3)+4)/4-3*sqrt(2)/2)"
   ]
  },
  {
   "cell_type": "code",
   "execution_count": 90,
   "metadata": {
    "collapsed": false,
    "deletable": true,
    "editable": true
   },
   "outputs": [
    {
     "data": {
      "text/html": [
       "<html><script type=\"math/tex; mode=display\">\\newcommand{\\Bold}[1]{\\mathbf{#1}}-\\frac{1}{4} \\, \\sqrt{2} {\\left(3 \\, \\sqrt{3} + 4\\right)} + \\sqrt{2}</script></html>"
      ],
      "text/plain": [
       "-1/4*sqrt(2)*(3*sqrt(3) + 4) + sqrt(2)"
      ]
     },
     "metadata": {},
     "output_type": "display_data"
    }
   ],
   "source": [
    "show(5*sqrt(2)/2-sqrt(2)*(3*sqrt(3)+4)/4-sqrt(2)*3/2)"
   ]
  },
  {
   "cell_type": "code",
   "execution_count": null,
   "metadata": {
    "collapsed": false,
    "deletable": true,
    "editable": true
   },
   "outputs": [],
   "source": []
  },
  {
   "cell_type": "code",
   "execution_count": 100,
   "metadata": {
    "collapsed": false,
    "deletable": true,
    "editable": true
   },
   "outputs": [
    {
     "data": {
      "text/plain": [
       "1/4*sqrt(2)*(3*sqrt(3) + 4) - sqrt(2)"
      ]
     },
     "execution_count": 100,
     "metadata": {},
     "output_type": "execute_result"
    }
   ],
   "source": [
    "vector((0,0,-1))*vector((3/2,sqrt(2)*(3*sqrt(3)+4)/4-sqrt(2),-sqrt(2)*(3*sqrt(3)+4)/4+sqrt(2)))"
   ]
  },
  {
   "cell_type": "code",
   "execution_count": 101,
   "metadata": {
    "collapsed": false,
    "deletable": true,
    "editable": true
   },
   "outputs": [
    {
     "data": {
      "text/plain": [
       "1.83711730708738"
      ]
     },
     "execution_count": 101,
     "metadata": {},
     "output_type": "execute_result"
    }
   ],
   "source": [
    "numerical_approx(1/4*sqrt(2)*(3*sqrt(3) + 4) - sqrt(2))"
   ]
  },
  {
   "cell_type": "code",
   "execution_count": 108,
   "metadata": {
    "collapsed": false,
    "deletable": true,
    "editable": true
   },
   "outputs": [
    {
     "data": {
      "text/plain": [
       "1/8*(sqrt(2)*(3*sqrt(3) + 4) - 4*sqrt(2))^2 + 9/4"
      ]
     },
     "execution_count": 108,
     "metadata": {},
     "output_type": "execute_result"
    }
   ],
   "source": [
    "vector((3/2,sqrt(2)*(3*sqrt(3)+4)/4-sqrt(2),-sqrt(2)*(3*sqrt(3)+4)/4+sqrt(2)))*vector((3/2,sqrt(2)*(3*sqrt(3)+4)/4-sqrt(2),-sqrt(2)*(3*sqrt(3)+4)/4+sqrt(2)))"
   ]
  },
  {
   "cell_type": "code",
   "execution_count": 109,
   "metadata": {
    "collapsed": true
   },
   "outputs": [],
   "source": [
    "P0=matrix(3,1,[0,0,0])\n",
    "P5=matrix(3,1,[0,0,1])"
   ]
  },
  {
   "cell_type": "code",
   "execution_count": 110,
   "metadata": {
    "collapsed": true
   },
   "outputs": [],
   "source": [
    "A=3*identity_matrix(3)"
   ]
  },
  {
   "cell_type": "code",
   "execution_count": 113,
   "metadata": {
    "collapsed": false
   },
   "outputs": [
    {
     "data": {
      "text/html": [
       "<html><script type=\"math/tex; mode=display\">\\newcommand{\\Bold}[1]{\\mathbf{#1}}\\left(\\begin{array}{r}\n",
       "0 \\\\\n",
       "0 \\\\\n",
       "0\n",
       "\\end{array}\\right)</script></html>"
      ],
      "text/plain": [
       "[0]\n",
       "[0]\n",
       "[0]"
      ]
     },
     "metadata": {},
     "output_type": "display_data"
    },
    {
     "data": {
      "text/html": [
       "<html><script type=\"math/tex; mode=display\">\\newcommand{\\Bold}[1]{\\mathbf{#1}}\\left(\\begin{array}{r}\n",
       "0 \\\\\n",
       "0 \\\\\n",
       "3\n",
       "\\end{array}\\right)</script></html>"
      ],
      "text/plain": [
       "[0]\n",
       "[0]\n",
       "[3]"
      ]
     },
     "metadata": {},
     "output_type": "display_data"
    }
   ],
   "source": [
    "P0=A*P0\n",
    "show(P0)\n",
    "P5=A*P5\n",
    "show(P5)"
   ]
  },
  {
   "cell_type": "code",
   "execution_count": 114,
   "metadata": {
    "collapsed": false
   },
   "outputs": [
    {
     "data": {
      "text/html": [
       "<html><script type=\"math/tex; mode=display\">\\newcommand{\\Bold}[1]{\\mathbf{#1}}\\left(\\begin{array}{rrr}\n",
       "\\frac{1}{2} \\, \\sqrt{3} & 0 & -\\frac{1}{2} \\\\\n",
       "0 & 1 & 0 \\\\\n",
       "\\frac{1}{2} & 0 & \\frac{1}{2} \\, \\sqrt{3}\n",
       "\\end{array}\\right)</script></html>"
      ],
      "text/plain": [
       "[1/2*sqrt(3)           0        -1/2]\n",
       "[          0           1           0]\n",
       "[        1/2           0 1/2*sqrt(3)]"
      ]
     },
     "metadata": {},
     "output_type": "display_data"
    }
   ],
   "source": [
    "B=matrix(3,3,[[cos(-pi/6),0,sin(-pi/6)],[0,1,0],[-sin(-pi/6),0,cos(-pi/6)]])\n",
    "show(B)"
   ]
  },
  {
   "cell_type": "code",
   "execution_count": 115,
   "metadata": {
    "collapsed": false
   },
   "outputs": [
    {
     "data": {
      "text/html": [
       "<html><script type=\"math/tex; mode=display\">\\newcommand{\\Bold}[1]{\\mathbf{#1}}\\left(\\begin{array}{r}\n",
       "0 \\\\\n",
       "0 \\\\\n",
       "0\n",
       "\\end{array}\\right)</script></html>"
      ],
      "text/plain": [
       "[0]\n",
       "[0]\n",
       "[0]"
      ]
     },
     "metadata": {},
     "output_type": "display_data"
    },
    {
     "data": {
      "text/html": [
       "<html><script type=\"math/tex; mode=display\">\\newcommand{\\Bold}[1]{\\mathbf{#1}}\\left(\\begin{array}{r}\n",
       "-\\frac{3}{2} \\\\\n",
       "0 \\\\\n",
       "\\frac{3}{2} \\, \\sqrt{3}\n",
       "\\end{array}\\right)</script></html>"
      ],
      "text/plain": [
       "[       -3/2]\n",
       "[          0]\n",
       "[3/2*sqrt(3)]"
      ]
     },
     "metadata": {},
     "output_type": "display_data"
    }
   ],
   "source": [
    "P0=B*P0\n",
    "show(P0)\n",
    "P5=B*P5\n",
    "show(P5)"
   ]
  },
  {
   "cell_type": "code",
   "execution_count": 118,
   "metadata": {
    "collapsed": false
   },
   "outputs": [
    {
     "data": {
      "text/html": [
       "<html><script type=\"math/tex; mode=display\">\\newcommand{\\Bold}[1]{\\mathbf{#1}}\\left(\\begin{array}{r}\n",
       "4 \\\\\n",
       "3 \\\\\n",
       "2\n",
       "\\end{array}\\right)</script></html>"
      ],
      "text/plain": [
       "[4]\n",
       "[3]\n",
       "[2]"
      ]
     },
     "metadata": {},
     "output_type": "display_data"
    }
   ],
   "source": [
    "v=matrix(3,1,[4,3,2])\n",
    "show(v)"
   ]
  },
  {
   "cell_type": "code",
   "execution_count": 119,
   "metadata": {
    "collapsed": false
   },
   "outputs": [
    {
     "data": {
      "text/html": [
       "<html><script type=\"math/tex; mode=display\">\\newcommand{\\Bold}[1]{\\mathbf{#1}}\\left(\\begin{array}{r}\n",
       "4 \\\\\n",
       "3 \\\\\n",
       "2\n",
       "\\end{array}\\right)</script></html>"
      ],
      "text/plain": [
       "[4]\n",
       "[3]\n",
       "[2]"
      ]
     },
     "metadata": {},
     "output_type": "display_data"
    },
    {
     "data": {
      "text/html": [
       "<html><script type=\"math/tex; mode=display\">\\newcommand{\\Bold}[1]{\\mathbf{#1}}\\left(\\begin{array}{r}\n",
       "\\frac{5}{2} \\\\\n",
       "3 \\\\\n",
       "\\frac{3}{2} \\, \\sqrt{3} + 2\n",
       "\\end{array}\\right)</script></html>"
      ],
      "text/plain": [
       "[            5/2]\n",
       "[              3]\n",
       "[3/2*sqrt(3) + 2]"
      ]
     },
     "metadata": {},
     "output_type": "display_data"
    }
   ],
   "source": [
    "P0=P0+v\n",
    "show(P0)\n",
    "P5=P5+v\n",
    "show(P5)"
   ]
  },
  {
   "cell_type": "code",
   "execution_count": 120,
   "metadata": {
    "collapsed": false
   },
   "outputs": [
    {
     "data": {
      "text/plain": [
       "3"
      ]
     },
     "execution_count": 120,
     "metadata": {},
     "output_type": "execute_result"
    }
   ],
   "source": [
    "sqrt((5/2-4)^2+0^2+(3*sqrt(3)/2)^2)"
   ]
  },
  {
   "cell_type": "code",
   "execution_count": 121,
   "metadata": {
    "collapsed": false
   },
   "outputs": [
    {
     "data": {
      "text/html": [
       "<html><script type=\"math/tex; mode=display\">\\newcommand{\\Bold}[1]{\\mathbf{#1}}\\left(\\begin{array}{rrr}\n",
       "1 & 0 & 0 \\\\\n",
       "0 & \\frac{1}{2} \\, \\sqrt{2} & -\\frac{1}{2} \\, \\sqrt{2} \\\\\n",
       "0 & \\frac{1}{2} \\, \\sqrt{2} & \\frac{1}{2} \\, \\sqrt{2}\n",
       "\\end{array}\\right)</script></html>"
      ],
      "text/plain": [
       "[           1            0            0]\n",
       "[           0  1/2*sqrt(2) -1/2*sqrt(2)]\n",
       "[           0  1/2*sqrt(2)  1/2*sqrt(2)]"
      ]
     },
     "metadata": {},
     "output_type": "display_data"
    }
   ],
   "source": [
    "C=matrix(3,3,[[1,0,0],[0,cos(pi/4),-sin(pi/4)],[0,sin(pi/4),cos(pi/4)]])\n",
    "show(C)"
   ]
  },
  {
   "cell_type": "code",
   "execution_count": 122,
   "metadata": {
    "collapsed": false
   },
   "outputs": [
    {
     "data": {
      "text/html": [
       "<html><script type=\"math/tex; mode=display\">\\newcommand{\\Bold}[1]{\\mathbf{#1}}\\left(\\begin{array}{r}\n",
       "4 \\\\\n",
       "\\frac{1}{2} \\, \\sqrt{2} \\\\\n",
       "\\frac{5}{2} \\, \\sqrt{2}\n",
       "\\end{array}\\right)</script></html>"
      ],
      "text/plain": [
       "[          4]\n",
       "[1/2*sqrt(2)]\n",
       "[5/2*sqrt(2)]"
      ]
     },
     "metadata": {},
     "output_type": "display_data"
    },
    {
     "data": {
      "text/html": [
       "<html><script type=\"math/tex; mode=display\">\\newcommand{\\Bold}[1]{\\mathbf{#1}}\\left(\\begin{array}{r}\n",
       "\\frac{5}{2} \\\\\n",
       "-\\frac{1}{4} \\, \\sqrt{2} {\\left(3 \\, \\sqrt{3} + 4\\right)} + \\frac{3}{2} \\, \\sqrt{2} \\\\\n",
       "\\frac{1}{4} \\, \\sqrt{2} {\\left(3 \\, \\sqrt{3} + 4\\right)} + \\frac{3}{2} \\, \\sqrt{2}\n",
       "\\end{array}\\right)</script></html>"
      ],
      "text/plain": [
       "[                                       5/2]\n",
       "[-1/4*sqrt(2)*(3*sqrt(3) + 4) + 3/2*sqrt(2)]\n",
       "[ 1/4*sqrt(2)*(3*sqrt(3) + 4) + 3/2*sqrt(2)]"
      ]
     },
     "metadata": {},
     "output_type": "display_data"
    }
   ],
   "source": [
    "P0=C*P0\n",
    "show(P0)\n",
    "P5=C*P5\n",
    "show(P5)"
   ]
  },
  {
   "cell_type": "code",
   "execution_count": 125,
   "metadata": {
    "collapsed": false
   },
   "outputs": [
    {
     "data": {
      "text/plain": [
       "9/4"
      ]
     },
     "execution_count": 125,
     "metadata": {},
     "output_type": "execute_result"
    }
   ],
   "source": [
    "(5/2-4)^2"
   ]
  },
  {
   "cell_type": "code",
   "execution_count": 126,
   "metadata": {
    "collapsed": false
   },
   "outputs": [
    {
     "data": {
      "text/plain": [
       "1/16*(sqrt(2)*(3*sqrt(3) + 4) - 4*sqrt(2))^2"
      ]
     },
     "execution_count": 126,
     "metadata": {},
     "output_type": "execute_result"
    }
   ],
   "source": [
    "(-1/4*sqrt(2)*(3*sqrt(3)+4)+3/2*sqrt(2)-1/2*sqrt(2))^2"
   ]
  },
  {
   "cell_type": "code",
   "execution_count": 132,
   "metadata": {
    "collapsed": false
   },
   "outputs": [
    {
     "data": {
      "text/plain": [
       "0.612372435695795"
      ]
     },
     "execution_count": 132,
     "metadata": {},
     "output_type": "execute_result"
    }
   ],
   "source": [
    "numerical_approx((1/4*sqrt(2)*(3*sqrt(3)+4)+3/2*sqrt(2)-5/2*sqrt(2))/3)"
   ]
  },
  {
   "cell_type": "code",
   "execution_count": 129,
   "metadata": {
    "collapsed": false
   },
   "outputs": [
    {
     "data": {
      "text/plain": [
       "9.00000000000000"
      ]
     },
     "execution_count": 129,
     "metadata": {},
     "output_type": "execute_result"
    }
   ],
   "source": [
    "numerical_approx(1/16*(sqrt(2)*(3*sqrt(3) + 4) - 4*sqrt(2))^2+1/16*(sqrt(2)*(3*sqrt(3) + 4) - 4*sqrt(2))^2+9/4)"
   ]
  },
  {
   "cell_type": "code",
   "execution_count": null,
   "metadata": {
    "collapsed": true
   },
   "outputs": [],
   "source": []
  }
 ],
 "metadata": {
  "kernelspec": {
   "display_name": "SageMath 8.0",
   "language": "",
   "name": "sagemath"
  },
  "language_info": {
   "codemirror_mode": {
    "name": "ipython",
    "version": 2
   },
   "file_extension": ".py",
   "mimetype": "text/x-python",
   "name": "python",
   "nbconvert_exporter": "python",
   "pygments_lexer": "ipython2",
   "version": "2.7.13"
  }
 },
 "nbformat": 4,
 "nbformat_minor": 2
}
