{
 "cells": [
  {
   "cell_type": "code",
   "execution_count": 12,
   "metadata": {
    "collapsed": true
   },
   "outputs": [],
   "source": [
    "A=matrix(3,3,[[1,2,3],[-1,0,1],[0,1,0]])\n",
    "B=matrix(2,3,[[2,-1,0],[-1,0,1]])\n",
    "v=matrix(3,1,[[1],[0],[1]])\n",
    "u=matrix(3,1,[[1],[x],[x^2]])"
   ]
  },
  {
   "cell_type": "code",
   "execution_count": 13,
   "metadata": {
    "collapsed": false
   },
   "outputs": [
    {
     "data": {
      "text/html": [
       "<html><script type=\"math/tex; mode=display\">\\newcommand{\\Bold}[1]{\\mathbf{#1}}\\left(\\begin{array}{rrr}\n",
       "1 & 2 & 3 \\\\\n",
       "-1 & 0 & 1 \\\\\n",
       "0 & 1 & 0\n",
       "\\end{array}\\right)</script></html>"
      ],
      "text/plain": [
       "[ 1  2  3]\n",
       "[-1  0  1]\n",
       "[ 0  1  0]"
      ]
     },
     "metadata": {},
     "output_type": "display_data"
    },
    {
     "data": {
      "text/html": [
       "<html><script type=\"math/tex; mode=display\">\\newcommand{\\Bold}[1]{\\mathbf{#1}}\\left(\\begin{array}{rrr}\n",
       "2 & -1 & 0 \\\\\n",
       "-1 & 0 & 1\n",
       "\\end{array}\\right)</script></html>"
      ],
      "text/plain": [
       "[ 2 -1  0]\n",
       "[-1  0  1]"
      ]
     },
     "metadata": {},
     "output_type": "display_data"
    },
    {
     "data": {
      "text/html": [
       "<html><script type=\"math/tex; mode=display\">\\newcommand{\\Bold}[1]{\\mathbf{#1}}\\left(\\begin{array}{r}\n",
       "1 \\\\\n",
       "0 \\\\\n",
       "1\n",
       "\\end{array}\\right)</script></html>"
      ],
      "text/plain": [
       "[1]\n",
       "[0]\n",
       "[1]"
      ]
     },
     "metadata": {},
     "output_type": "display_data"
    },
    {
     "data": {
      "text/html": [
       "<html><script type=\"math/tex; mode=display\">\\newcommand{\\Bold}[1]{\\mathbf{#1}}\\left(\\begin{array}{r}\n",
       "1 \\\\\n",
       "x \\\\\n",
       "x^{2}\n",
       "\\end{array}\\right)</script></html>"
      ],
      "text/plain": [
       "[  1]\n",
       "[  x]\n",
       "[x^2]"
      ]
     },
     "metadata": {},
     "output_type": "display_data"
    }
   ],
   "source": [
    "show(A)\n",
    "show(B)\n",
    "show(v)\n",
    "show(u)"
   ]
  },
  {
   "cell_type": "code",
   "execution_count": 14,
   "metadata": {
    "collapsed": false
   },
   "outputs": [
    {
     "data": {
      "text/plain": [
       "[3*x^2 + 2*x + 1]\n",
       "[        x^2 - 1]\n",
       "[              x]"
      ]
     },
     "execution_count": 14,
     "metadata": {},
     "output_type": "execute_result"
    }
   ],
   "source": [
    "A*u"
   ]
  },
  {
   "cell_type": "code",
   "execution_count": 20,
   "metadata": {
    "collapsed": false
   },
   "outputs": [
    {
     "data": {
      "text/plain": [
       "153"
      ]
     },
     "execution_count": 20,
     "metadata": {},
     "output_type": "execute_result"
    }
   ],
   "source": [
    "C=(A-identity_matrix(3))^7\n",
    "C[1,2]"
   ]
  },
  {
   "cell_type": "code",
   "execution_count": 24,
   "metadata": {
    "collapsed": false
   },
   "outputs": [
    {
     "data": {
      "text/plain": [
       "-1/4"
      ]
     },
     "execution_count": 24,
     "metadata": {},
     "output_type": "execute_result"
    }
   ],
   "source": [
    "(A^-1).trace()"
   ]
  },
  {
   "cell_type": "code",
   "execution_count": 50,
   "metadata": {
    "collapsed": false
   },
   "outputs": [
    {
     "data": {
      "text/plain": [
       "[(xx*(1/a - b*c/(a^2*(b*c/a - d))) + c*yy/(a*(b*c/a - d)))*x + y*(b*xx/(a*(b*c/a - d)) - yy/(b*c/a - d)) + 1]"
      ]
     },
     "execution_count": 50,
     "metadata": {},
     "output_type": "execute_result"
    }
   ],
   "source": [
    "var('a,b,c,d,x,y,xx,yy')\n",
    "A=matrix(2,2,[[a,b],[c,d]])\n",
    "u=matrix(2,1,[x,y])\n",
    "v=matrix(2,1,[xx,yy])\n",
    "alpha=1+v.transpose()*A^-1*u\n",
    "alpha"
   ]
  },
  {
   "cell_type": "code",
   "execution_count": 51,
   "metadata": {
    "collapsed": false
   },
   "outputs": [
    {
     "data": {
      "text/plain": [
       "[((xx*(1/a - b*c/(a^2*(b*c/a - d))) + c*yy/(a*(b*c/a - d)))*x + y*(b*xx/(a*(b*c/a - d)) - yy/(b*c/a - d)) + 1)*(1/(x*xx + a) + (xx*y + c)*(x*yy + b)/((x*xx + a)^2*(y*yy - (xx*y + c)*(x*yy + b)/(x*xx + a) + d)))                              -((xx*(1/a - b*c/(a^2*(b*c/a - d))) + c*yy/(a*(b*c/a - d)))*x + y*(b*xx/(a*(b*c/a - d)) - yy/(b*c/a - d)) + 1)*(x*yy + b)/((x*xx + a)*(y*yy - (xx*y + c)*(x*yy + b)/(x*xx + a) + d))]\n",
       "[                             -((xx*(1/a - b*c/(a^2*(b*c/a - d))) + c*yy/(a*(b*c/a - d)))*x + y*(b*xx/(a*(b*c/a - d)) - yy/(b*c/a - d)) + 1)*(xx*y + c)/((x*xx + a)*(y*yy - (xx*y + c)*(x*yy + b)/(x*xx + a) + d))                                                       ((xx*(1/a - b*c/(a^2*(b*c/a - d))) + c*yy/(a*(b*c/a - d)))*x + y*(b*xx/(a*(b*c/a - d)) - yy/(b*c/a - d)) + 1)/(y*yy - (xx*y + c)*(x*yy + b)/(x*xx + a) + d)]"
      ]
     },
     "execution_count": 51,
     "metadata": {},
     "output_type": "execute_result"
    }
   ],
   "source": [
    "((xx*(1/a - b*c/(a^2*(b*c/a - d))) + c*yy/(a*(b*c/a - d)))*x + y*(b*xx/(a*(b*c/a - d)) - yy/(b*c/a - d)) + 1)*(A+u*transpose(v))^-1"
   ]
  },
  {
   "cell_type": "code",
   "execution_count": 42,
   "metadata": {
    "collapsed": false
   },
   "outputs": [
    {
     "data": {
      "text/plain": [
       "False"
      ]
     },
     "execution_count": 42,
     "metadata": {},
     "output_type": "execute_result"
    }
   ],
   "source": []
  },
  {
   "cell_type": "code",
   "execution_count": 40,
   "metadata": {
    "collapsed": false
   },
   "outputs": [
    {
     "data": {
      "text/plain": [
       "[-((x*(1/a - b*c/(a^2*(b*c/a - d))) + b*y/(a*(b*c/a - d)))*xx*(1/a - b*c/(a^2*(b*c/a - d))) + (x*(1/a - b*c/(a^2*(b*c/a - d))) + b*y/(a*(b*c/a - d)))*c*yy/(a*(b*c/a - d)))/((xx*(1/a - b*c/(a^2*(b*c/a - d))) + c*yy/(a*(b*c/a - d)))*x + y*(b*xx/(a*(b*c/a - d)) - yy/(b*c/a - d)) + 1) + 1/a - b*c/(a^2*(b*c/a - d))                             -((x*(1/a - b*c/(a^2*(b*c/a - d))) + b*y/(a*(b*c/a - d)))*b*xx/(a*(b*c/a - d)) - (x*(1/a - b*c/(a^2*(b*c/a - d))) + b*y/(a*(b*c/a - d)))*yy/(b*c/a - d))/((xx*(1/a - b*c/(a^2*(b*c/a - d))) + c*yy/(a*(b*c/a - d)))*x + y*(b*xx/(a*(b*c/a - d)) - yy/(b*c/a - d)) + 1) + b/(a*(b*c/a - d))]\n",
       "[                                              -(xx*(c*x/(a*(b*c/a - d)) - y/(b*c/a - d))*(1/a - b*c/(a^2*(b*c/a - d))) + c*yy*(c*x/(a*(b*c/a - d)) - y/(b*c/a - d))/(a*(b*c/a - d)))/((xx*(1/a - b*c/(a^2*(b*c/a - d))) + c*yy/(a*(b*c/a - d)))*x + y*(b*xx/(a*(b*c/a - d)) - yy/(b*c/a - d)) + 1) + c/(a*(b*c/a - d))                                                                     -(b*xx*(c*x/(a*(b*c/a - d)) - y/(b*c/a - d))/(a*(b*c/a - d)) - yy*(c*x/(a*(b*c/a - d)) - y/(b*c/a - d))/(b*c/a - d))/((xx*(1/a - b*c/(a^2*(b*c/a - d))) + c*yy/(a*(b*c/a - d)))*x + y*(b*xx/(a*(b*c/a - d)) - yy/(b*c/a - d)) + 1) - 1/(b*c/a - d)]"
      ]
     },
     "execution_count": 40,
     "metadata": {},
     "output_type": "execute_result"
    }
   ],
   "source": [
    "simplify(A^-1-(A^-1*u*transpose(v)*A^-1)/((xx*(1/a - b*c/(a^2*(b*c/a - d))) + c*yy/(a*(b*c/a - d)))*x + y*(b*xx/(a*(b*c/a - d)) - yy/(b*c/a - d)) + 1))"
   ]
  },
  {
   "cell_type": "code",
   "execution_count": 98,
   "metadata": {
    "collapsed": false
   },
   "outputs": [],
   "source": [
    "def op2(A,i,j,c):\n",
    "    A[i,:]=A[i,:]+c*A[j,:]\n",
    "   "
   ]
  },
  {
   "cell_type": "code",
   "execution_count": 99,
   "metadata": {
    "collapsed": false
   },
   "outputs": [],
   "source": [
    "def op1(A,i,c):\n",
    "    A[i,:]=c*A[i,:]\n",
    "    "
   ]
  },
  {
   "cell_type": "code",
   "execution_count": 100,
   "metadata": {
    "collapsed": true
   },
   "outputs": [],
   "source": [
    "def op3(A,i,j):\n",
    "    c=A[i,:]\n",
    "    A[i,:]=A[j,:]\n",
    "    A[j,:]=c\n",
    "    "
   ]
  },
  {
   "cell_type": "code",
   "execution_count": 101,
   "metadata": {
    "collapsed": true
   },
   "outputs": [],
   "source": [
    "def echelonne(A):\n",
    "    n=A.ncols()\n",
    "    for p in range(n):\n",
    "        i=p\n",
    "        while i<n and A[i,p]==0:\n",
    "            i=i+1\n",
    "        assert i<n, 'matrice non inversible'\n",
    "        op3(A,p,i)\n",
    "        for i in range(p+1,n):\n",
    "            c=-A[i,p]/A[p,p]\n",
    "            op2(A,i,p,c)\n",
    "    "
   ]
  },
  {
   "cell_type": "code",
   "execution_count": 64,
   "metadata": {
    "collapsed": false
   },
   "outputs": [
    {
     "data": {
      "text/plain": [
       "[ 1  2  3]\n",
       "[ 0  2  4]\n",
       "[ 0  0 -2]"
      ]
     },
     "execution_count": 64,
     "metadata": {},
     "output_type": "execute_result"
    }
   ],
   "source": [
    "echelonne(B)"
   ]
  },
  {
   "cell_type": "code",
   "execution_count": 76,
   "metadata": {
    "collapsed": false
   },
   "outputs": [
    {
     "data": {
      "text/plain": [
       "[ 1  2  3]\n",
       "[-1  0  1]\n",
       "[ 0  1  0]"
      ]
     },
     "execution_count": 76,
     "metadata": {},
     "output_type": "execute_result"
    }
   ],
   "source": [
    "B=matrix(3,3,[[1,2,3],[-1,0,1],[0,1,0]])\n",
    "B"
   ]
  },
  {
   "cell_type": "code",
   "execution_count": 102,
   "metadata": {
    "collapsed": false
   },
   "outputs": [],
   "source": [
    "def reduite(A):\n",
    "    n=A.ncols()\n",
    "    for p in range(n-1,-1,-1):\n",
    "        c=1/A[p,p]\n",
    "        op1(A,p,c)\n",
    "        for i in range(p-1,-1,-1):\n",
    "            c=-A[i,p]\n",
    "            op2(A,i,p,c)\n",
    "    \n",
    "        "
   ]
  },
  {
   "cell_type": "code",
   "execution_count": 70,
   "metadata": {
    "collapsed": false
   },
   "outputs": [
    {
     "data": {
      "text/plain": [
       "[1 0 0]\n",
       "[0 1 0]\n",
       "[0 0 1]"
      ]
     },
     "execution_count": 70,
     "metadata": {},
     "output_type": "execute_result"
    }
   ],
   "source": [
    "reduite(B)"
   ]
  },
  {
   "cell_type": "code",
   "execution_count": 111,
   "metadata": {
    "collapsed": true
   },
   "outputs": [],
   "source": [
    "def echelonnebis(A,B):\n",
    "    n=A.ncols()\n",
    "    for p in range(n):\n",
    "        i=p\n",
    "        while i<n and A[i,p]==0:\n",
    "            i=i+1\n",
    "        assert i<n, 'matrice non inversible'\n",
    "        op3(A,p,i)\n",
    "        op3(B,p,i)\n",
    "        for i in range(p+1,n):\n",
    "            c=-A[i,p]/A[p,p]\n",
    "            op2(A,i,p,c)\n",
    "            op2(B,i,p,c)\n",
    "  \n",
    "    "
   ]
  },
  {
   "cell_type": "code",
   "execution_count": 112,
   "metadata": {
    "collapsed": true
   },
   "outputs": [],
   "source": [
    "def reduitebis(A,B):\n",
    "    n=A.ncols()\n",
    "    for p in range(n-1,-1,-1):\n",
    "        c=1/A[p,p]\n",
    "        op1(A,p,c)\n",
    "        op1(B,p,c)\n",
    "        for i in range(p-1,-1,-1):\n",
    "            c=-A[i,p]\n",
    "            op2(A,i,p,c)\n",
    "            op2(B,i,p,c)\n",
    "   "
   ]
  },
  {
   "cell_type": "code",
   "execution_count": 118,
   "metadata": {
    "collapsed": false
   },
   "outputs": [],
   "source": [
    "def inv(A):\n",
    "    B=A\n",
    "    n=A.ncols()\n",
    "    C=identity_matrix(QQ,n)\n",
    "    echelonnebis(B,C)\n",
    "    reduitebis(B,C)\n",
    "    return(C)"
   ]
  },
  {
   "cell_type": "code",
   "execution_count": 91,
   "metadata": {
    "collapsed": false
   },
   "outputs": [
    {
     "data": {
      "text/plain": [
       "[ 1 -2  5]\n",
       "[ 0  1 -4]\n",
       "[ 0  0  1]"
      ]
     },
     "execution_count": 91,
     "metadata": {},
     "output_type": "execute_result"
    }
   ],
   "source": [
    "inv(B)"
   ]
  },
  {
   "cell_type": "code",
   "execution_count": 120,
   "metadata": {
    "collapsed": false
   },
   "outputs": [
    {
     "data": {
      "text/html": [
       "<html><script type=\"math/tex; mode=display\">\\newcommand{\\Bold}[1]{\\mathbf{#1}}\\left(\\begin{array}{rrr}\n",
       "2 & 3 & 4 \\\\\n",
       "8 & 5 & 3 \\\\\n",
       "4 & 7 & 2\n",
       "\\end{array}\\right)</script></html>"
      ],
      "text/plain": [
       "[2 3 4]\n",
       "[8 5 3]\n",
       "[4 7 2]"
      ]
     },
     "metadata": {},
     "output_type": "display_data"
    }
   ],
   "source": [
    "D=matrix(3,3,[[2,3,4],[8,5,3],[4,7,2]])\n",
    "show(D)"
   ]
  },
  {
   "cell_type": "code",
   "execution_count": 116,
   "metadata": {
    "collapsed": false
   },
   "outputs": [
    {
     "data": {
      "text/plain": [
       "[-1/10   1/5 -1/10]\n",
       "[-2/55 -6/55 13/55]\n",
       "[18/55 -1/55 -7/55]"
      ]
     },
     "execution_count": 116,
     "metadata": {},
     "output_type": "execute_result"
    }
   ],
   "source": [
    "D^-1"
   ]
  },
  {
   "cell_type": "code",
   "execution_count": 121,
   "metadata": {
    "collapsed": false
   },
   "outputs": [
    {
     "ename": "TypeError",
     "evalue": "no conversion of this rational to integer",
     "output_type": "error",
     "traceback": [
      "\u001b[0;31m---------------------------------------------------------------------------\u001b[0m",
      "\u001b[0;31mTypeError\u001b[0m                                 Traceback (most recent call last)",
      "\u001b[0;32m<ipython-input-121-b9184ac1bf3f>\u001b[0m in \u001b[0;36m<module>\u001b[0;34m()\u001b[0m\n\u001b[0;32m----> 1\u001b[0;31m \u001b[0minv\u001b[0m\u001b[0;34m(\u001b[0m\u001b[0mD\u001b[0m\u001b[0;34m)\u001b[0m\u001b[0;34m\u001b[0m\u001b[0m\n\u001b[0m",
      "\u001b[0;32m<ipython-input-118-caa7dc16e861>\u001b[0m in \u001b[0;36minv\u001b[0;34m(A)\u001b[0m\n\u001b[1;32m      3\u001b[0m     \u001b[0mn\u001b[0m\u001b[0;34m=\u001b[0m\u001b[0mA\u001b[0m\u001b[0;34m.\u001b[0m\u001b[0mncols\u001b[0m\u001b[0;34m(\u001b[0m\u001b[0;34m)\u001b[0m\u001b[0;34m\u001b[0m\u001b[0m\n\u001b[1;32m      4\u001b[0m     \u001b[0mC\u001b[0m\u001b[0;34m=\u001b[0m\u001b[0midentity_matrix\u001b[0m\u001b[0;34m(\u001b[0m\u001b[0mQQ\u001b[0m\u001b[0;34m,\u001b[0m\u001b[0mn\u001b[0m\u001b[0;34m)\u001b[0m\u001b[0;34m\u001b[0m\u001b[0m\n\u001b[0;32m----> 5\u001b[0;31m     \u001b[0mechelonnebis\u001b[0m\u001b[0;34m(\u001b[0m\u001b[0mB\u001b[0m\u001b[0;34m,\u001b[0m\u001b[0mC\u001b[0m\u001b[0;34m)\u001b[0m\u001b[0;34m\u001b[0m\u001b[0m\n\u001b[0m\u001b[1;32m      6\u001b[0m     \u001b[0mreduitebis\u001b[0m\u001b[0;34m(\u001b[0m\u001b[0mB\u001b[0m\u001b[0;34m,\u001b[0m\u001b[0mC\u001b[0m\u001b[0;34m)\u001b[0m\u001b[0;34m\u001b[0m\u001b[0m\n\u001b[1;32m      7\u001b[0m     \u001b[0;32mreturn\u001b[0m\u001b[0;34m(\u001b[0m\u001b[0mC\u001b[0m\u001b[0;34m)\u001b[0m\u001b[0;34m\u001b[0m\u001b[0m\n",
      "\u001b[0;32m<ipython-input-111-2e43350558be>\u001b[0m in \u001b[0;36mechelonnebis\u001b[0;34m(A, B)\u001b[0m\n\u001b[1;32m     10\u001b[0m         \u001b[0;32mfor\u001b[0m \u001b[0mi\u001b[0m \u001b[0;32min\u001b[0m \u001b[0mrange\u001b[0m\u001b[0;34m(\u001b[0m\u001b[0mp\u001b[0m\u001b[0;34m+\u001b[0m\u001b[0mInteger\u001b[0m\u001b[0;34m(\u001b[0m\u001b[0;36m1\u001b[0m\u001b[0;34m)\u001b[0m\u001b[0;34m,\u001b[0m\u001b[0mn\u001b[0m\u001b[0;34m)\u001b[0m\u001b[0;34m:\u001b[0m\u001b[0;34m\u001b[0m\u001b[0m\n\u001b[1;32m     11\u001b[0m             \u001b[0mc\u001b[0m\u001b[0;34m=\u001b[0m\u001b[0;34m-\u001b[0m\u001b[0mA\u001b[0m\u001b[0;34m[\u001b[0m\u001b[0mi\u001b[0m\u001b[0;34m,\u001b[0m\u001b[0mp\u001b[0m\u001b[0;34m]\u001b[0m\u001b[0;34m/\u001b[0m\u001b[0mA\u001b[0m\u001b[0;34m[\u001b[0m\u001b[0mp\u001b[0m\u001b[0;34m,\u001b[0m\u001b[0mp\u001b[0m\u001b[0;34m]\u001b[0m\u001b[0;34m\u001b[0m\u001b[0m\n\u001b[0;32m---> 12\u001b[0;31m             \u001b[0mop2\u001b[0m\u001b[0;34m(\u001b[0m\u001b[0mA\u001b[0m\u001b[0;34m,\u001b[0m\u001b[0mi\u001b[0m\u001b[0;34m,\u001b[0m\u001b[0mp\u001b[0m\u001b[0;34m,\u001b[0m\u001b[0mc\u001b[0m\u001b[0;34m)\u001b[0m\u001b[0;34m\u001b[0m\u001b[0m\n\u001b[0m\u001b[1;32m     13\u001b[0m             \u001b[0mop2\u001b[0m\u001b[0;34m(\u001b[0m\u001b[0mB\u001b[0m\u001b[0;34m,\u001b[0m\u001b[0mi\u001b[0m\u001b[0;34m,\u001b[0m\u001b[0mp\u001b[0m\u001b[0;34m,\u001b[0m\u001b[0mc\u001b[0m\u001b[0;34m)\u001b[0m\u001b[0;34m\u001b[0m\u001b[0m\n\u001b[1;32m     14\u001b[0m \u001b[0;34m\u001b[0m\u001b[0m\n",
      "\u001b[0;32m<ipython-input-98-a27eccd1e05b>\u001b[0m in \u001b[0;36mop2\u001b[0;34m(A, i, j, c)\u001b[0m\n\u001b[1;32m      1\u001b[0m \u001b[0;32mdef\u001b[0m \u001b[0mop2\u001b[0m\u001b[0;34m(\u001b[0m\u001b[0mA\u001b[0m\u001b[0;34m,\u001b[0m\u001b[0mi\u001b[0m\u001b[0;34m,\u001b[0m\u001b[0mj\u001b[0m\u001b[0;34m,\u001b[0m\u001b[0mc\u001b[0m\u001b[0;34m)\u001b[0m\u001b[0;34m:\u001b[0m\u001b[0;34m\u001b[0m\u001b[0m\n\u001b[0;32m----> 2\u001b[0;31m     \u001b[0mA\u001b[0m\u001b[0;34m[\u001b[0m\u001b[0mi\u001b[0m\u001b[0;34m,\u001b[0m\u001b[0;34m:\u001b[0m\u001b[0;34m]\u001b[0m\u001b[0;34m=\u001b[0m\u001b[0mA\u001b[0m\u001b[0;34m[\u001b[0m\u001b[0mi\u001b[0m\u001b[0;34m,\u001b[0m\u001b[0;34m:\u001b[0m\u001b[0;34m]\u001b[0m\u001b[0;34m+\u001b[0m\u001b[0mc\u001b[0m\u001b[0;34m*\u001b[0m\u001b[0mA\u001b[0m\u001b[0;34m[\u001b[0m\u001b[0mj\u001b[0m\u001b[0;34m,\u001b[0m\u001b[0;34m:\u001b[0m\u001b[0;34m]\u001b[0m\u001b[0;34m\u001b[0m\u001b[0m\n\u001b[0m\u001b[1;32m      3\u001b[0m \u001b[0;34m\u001b[0m\u001b[0m\n",
      "\u001b[0;32m/home/sage/sage-8.0/src/sage/matrix/matrix0.pyx\u001b[0m in \u001b[0;36msage.matrix.matrix0.Matrix.__setitem__ (/home/sage/sage/src/build/cythonized/sage/matrix/matrix0.c:9703)\u001b[0;34m()\u001b[0m\n\u001b[1;32m   1482\u001b[0m             \u001b[0;32melse\u001b[0m\u001b[0;34m:\u001b[0m\u001b[0;34m\u001b[0m\u001b[0m\n\u001b[1;32m   1483\u001b[0m                 \u001b[0;32mfor\u001b[0m \u001b[0mcol\u001b[0m \u001b[0;32min\u001b[0m \u001b[0mrange\u001b[0m\u001b[0;34m(\u001b[0m\u001b[0mcol_list_len\u001b[0m\u001b[0;34m)\u001b[0m\u001b[0;34m:\u001b[0m\u001b[0;34m\u001b[0m\u001b[0m\n\u001b[0;32m-> 1484\u001b[0;31m                     \u001b[0mself\u001b[0m\u001b[0;34m.\u001b[0m\u001b[0mset_unsafe\u001b[0m\u001b[0;34m(\u001b[0m\u001b[0mrow\u001b[0m\u001b[0;34m,\u001b[0m \u001b[0mcol_list\u001b[0m\u001b[0;34m[\u001b[0m\u001b[0mcol\u001b[0m\u001b[0;34m]\u001b[0m\u001b[0;34m,\u001b[0m \u001b[0mself\u001b[0m\u001b[0;34m.\u001b[0m\u001b[0m_coerce_element\u001b[0m\u001b[0;34m(\u001b[0m\u001b[0mvalue_row\u001b[0m\u001b[0;34m[\u001b[0m\u001b[0mcol\u001b[0m\u001b[0;34m]\u001b[0m\u001b[0;34m)\u001b[0m\u001b[0;34m)\u001b[0m\u001b[0;34m\u001b[0m\u001b[0m\n\u001b[0m\u001b[1;32m   1485\u001b[0m         \u001b[0;32melif\u001b[0m \u001b[0msingle_col\u001b[0m\u001b[0;34m:\u001b[0m\u001b[0;34m\u001b[0m\u001b[0m\n\u001b[1;32m   1486\u001b[0m             \u001b[0;32mif\u001b[0m \u001b[0mvalue_list_one_dimensional\u001b[0m\u001b[0;34m:\u001b[0m\u001b[0;34m\u001b[0m\u001b[0m\n",
      "\u001b[0;32m/home/sage/sage-8.0/src/sage/matrix/matrix0.pyx\u001b[0m in \u001b[0;36msage.matrix.matrix0.Matrix._coerce_element (/home/sage/sage/src/build/cythonized/sage/matrix/matrix0.c:10158)\u001b[0;34m()\u001b[0m\n\u001b[1;32m   1514\u001b[0m         \u001b[0;32mif\u001b[0m \u001b[0misinstance\u001b[0m\u001b[0;34m(\u001b[0m\u001b[0mx\u001b[0m\u001b[0;34m,\u001b[0m \u001b[0mElement\u001b[0m\u001b[0;34m)\u001b[0m \u001b[0;32mand\u001b[0m \u001b[0;34m(\u001b[0m\u001b[0;34m<\u001b[0m\u001b[0mElement\u001b[0m\u001b[0;34m>\u001b[0m \u001b[0mx\u001b[0m\u001b[0;34m)\u001b[0m\u001b[0;34m.\u001b[0m\u001b[0m_parent\u001b[0m \u001b[0;32mis\u001b[0m \u001b[0mself\u001b[0m\u001b[0;34m.\u001b[0m\u001b[0m_base_ring\u001b[0m\u001b[0;34m:\u001b[0m\u001b[0;34m\u001b[0m\u001b[0m\n\u001b[1;32m   1515\u001b[0m             \u001b[0;32mreturn\u001b[0m \u001b[0mx\u001b[0m\u001b[0;34m\u001b[0m\u001b[0m\n\u001b[0;32m-> 1516\u001b[0;31m         \u001b[0;32mreturn\u001b[0m \u001b[0mself\u001b[0m\u001b[0;34m.\u001b[0m\u001b[0m_base_ring\u001b[0m\u001b[0;34m(\u001b[0m\u001b[0mx\u001b[0m\u001b[0;34m)\u001b[0m\u001b[0;34m\u001b[0m\u001b[0m\n\u001b[0m\u001b[1;32m   1517\u001b[0m \u001b[0;34m\u001b[0m\u001b[0m\n\u001b[1;32m   1518\u001b[0m     \u001b[0;31m###########################################################\u001b[0m\u001b[0;34m\u001b[0m\u001b[0;34m\u001b[0m\u001b[0m\n",
      "\u001b[0;32m/home/sage/sage-8.0/src/sage/structure/parent.pyx\u001b[0m in \u001b[0;36msage.structure.parent.Parent.__call__ (/home/sage/sage/src/build/cythonized/sage/structure/parent.c:9799)\u001b[0;34m()\u001b[0m\n\u001b[1;32m    932\u001b[0m         \u001b[0;32mif\u001b[0m \u001b[0mmor\u001b[0m \u001b[0;32mis\u001b[0m \u001b[0;32mnot\u001b[0m \u001b[0mNone\u001b[0m\u001b[0;34m:\u001b[0m\u001b[0;34m\u001b[0m\u001b[0m\n\u001b[1;32m    933\u001b[0m             \u001b[0;32mif\u001b[0m \u001b[0mno_extra_args\u001b[0m\u001b[0;34m:\u001b[0m\u001b[0;34m\u001b[0m\u001b[0m\n\u001b[0;32m--> 934\u001b[0;31m                 \u001b[0;32mreturn\u001b[0m \u001b[0mmor\u001b[0m\u001b[0;34m.\u001b[0m\u001b[0m_call_\u001b[0m\u001b[0;34m(\u001b[0m\u001b[0mx\u001b[0m\u001b[0;34m)\u001b[0m\u001b[0;34m\u001b[0m\u001b[0m\n\u001b[0m\u001b[1;32m    935\u001b[0m             \u001b[0;32melse\u001b[0m\u001b[0;34m:\u001b[0m\u001b[0;34m\u001b[0m\u001b[0m\n\u001b[1;32m    936\u001b[0m                 \u001b[0;32mreturn\u001b[0m \u001b[0mmor\u001b[0m\u001b[0;34m.\u001b[0m\u001b[0m_call_with_args\u001b[0m\u001b[0;34m(\u001b[0m\u001b[0mx\u001b[0m\u001b[0;34m,\u001b[0m \u001b[0margs\u001b[0m\u001b[0;34m,\u001b[0m \u001b[0mkwds\u001b[0m\u001b[0;34m)\u001b[0m\u001b[0;34m\u001b[0m\u001b[0m\n",
      "\u001b[0;32m/home/sage/sage-8.0/src/sage/rings/rational.pyx\u001b[0m in \u001b[0;36msage.rings.rational.Q_to_Z._call_ (/home/sage/sage/src/build/cythonized/sage/rings/rational.c:34908)\u001b[0;34m()\u001b[0m\n\u001b[1;32m   4058\u001b[0m         \"\"\"\n\u001b[1;32m   4059\u001b[0m         \u001b[0;32mif\u001b[0m \u001b[0;32mnot\u001b[0m \u001b[0mmpz_cmp_si\u001b[0m\u001b[0;34m(\u001b[0m\u001b[0mmpq_denref\u001b[0m\u001b[0;34m(\u001b[0m\u001b[0;34m(\u001b[0m\u001b[0;34m<\u001b[0m\u001b[0mRational\u001b[0m\u001b[0;34m>\u001b[0m\u001b[0mx\u001b[0m\u001b[0;34m)\u001b[0m\u001b[0;34m.\u001b[0m\u001b[0mvalue\u001b[0m\u001b[0;34m)\u001b[0m\u001b[0;34m,\u001b[0m \u001b[0;36m1\u001b[0m\u001b[0;34m)\u001b[0m \u001b[0;34m==\u001b[0m \u001b[0;36m0\u001b[0m\u001b[0;34m:\u001b[0m\u001b[0;34m\u001b[0m\u001b[0m\n\u001b[0;32m-> 4060\u001b[0;31m             \u001b[0;32mraise\u001b[0m \u001b[0mTypeError\u001b[0m\u001b[0;34m(\u001b[0m\u001b[0;34m\"no conversion of this rational to integer\"\u001b[0m\u001b[0;34m)\u001b[0m\u001b[0;34m\u001b[0m\u001b[0m\n\u001b[0m\u001b[1;32m   4061\u001b[0m         \u001b[0mcdef\u001b[0m \u001b[0mInteger\u001b[0m \u001b[0mn\u001b[0m \u001b[0;34m=\u001b[0m \u001b[0mInteger\u001b[0m\u001b[0;34m.\u001b[0m\u001b[0m__new__\u001b[0m\u001b[0;34m(\u001b[0m\u001b[0mInteger\u001b[0m\u001b[0;34m)\u001b[0m\u001b[0;34m\u001b[0m\u001b[0m\n\u001b[1;32m   4062\u001b[0m         \u001b[0mn\u001b[0m\u001b[0;34m.\u001b[0m\u001b[0mset_from_mpz\u001b[0m\u001b[0;34m(\u001b[0m\u001b[0mmpq_numref\u001b[0m\u001b[0;34m(\u001b[0m\u001b[0;34m(\u001b[0m\u001b[0;34m<\u001b[0m\u001b[0mRational\u001b[0m\u001b[0;34m>\u001b[0m\u001b[0mx\u001b[0m\u001b[0;34m)\u001b[0m\u001b[0;34m.\u001b[0m\u001b[0mvalue\u001b[0m\u001b[0;34m)\u001b[0m\u001b[0;34m)\u001b[0m\u001b[0;34m\u001b[0m\u001b[0m\n",
      "\u001b[0;31mTypeError\u001b[0m: no conversion of this rational to integer"
     ]
    }
   ],
   "source": [
    "inv(D)"
   ]
  },
  {
   "cell_type": "code",
   "execution_count": 129,
   "metadata": {
    "collapsed": false
   },
   "outputs": [],
   "source": [
    "K=QQ\n",
    "A=matrix(K,4,3,[[1,0,2],[5,2,2],[2,1,0],[1,1,-2]])\n",
    "X=vector([x,y,z])"
   ]
  },
  {
   "cell_type": "code",
   "execution_count": 130,
   "metadata": {
    "collapsed": false
   },
   "outputs": [
    {
     "data": {
      "text/plain": [
       "(x + 2*z, 5*x + 2*y + 2*z, 2*x + y, x + y - 2*z)"
      ]
     },
     "execution_count": 130,
     "metadata": {},
     "output_type": "execute_result"
    }
   ],
   "source": [
    "A*X"
   ]
  },
  {
   "cell_type": "code",
   "execution_count": 133,
   "metadata": {
    "collapsed": false
   },
   "outputs": [
    {
     "data": {
      "text/plain": [
       "[\n",
       "(1, -2, -1/2)\n",
       "]"
      ]
     },
     "execution_count": 133,
     "metadata": {},
     "output_type": "execute_result"
    }
   ],
   "source": [
    "ker=A.right_kernel()\n",
    "ker.basis()"
   ]
  },
  {
   "cell_type": "code",
   "execution_count": 135,
   "metadata": {
    "collapsed": false
   },
   "outputs": [
    {
     "data": {
      "text/plain": [
       "Vector space of degree 4 and dimension 2 over Rational Field\n",
       "Basis matrix:\n",
       "[   1    0 -1/2 -3/2]\n",
       "[   0    1  1/2  1/2]"
      ]
     },
     "execution_count": 135,
     "metadata": {},
     "output_type": "execute_result"
    }
   ],
   "source": [
    "A.column_space()"
   ]
  },
  {
   "cell_type": "code",
   "execution_count": null,
   "metadata": {
    "collapsed": true
   },
   "outputs": [],
   "source": []
  }
 ],
 "metadata": {
  "kernelspec": {
   "display_name": "SageMath 8.0",
   "language": "",
   "name": "sagemath"
  },
  "language_info": {
   "codemirror_mode": {
    "name": "ipython",
    "version": 2
   },
   "file_extension": ".py",
   "mimetype": "text/x-python",
   "name": "python",
   "nbconvert_exporter": "python",
   "pygments_lexer": "ipython2",
   "version": "2.7.13"
  }
 },
 "nbformat": 4,
 "nbformat_minor": 2
}
