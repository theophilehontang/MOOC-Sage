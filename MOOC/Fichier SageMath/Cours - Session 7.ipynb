{
 "cells": [
  {
   "cell_type": "code",
   "execution_count": 2,
   "metadata": {
    "collapsed": false
   },
   "outputs": [
    {
     "data": {
      "text/plain": [
       "1/5*x^5 - 1/x + e^x + sin(x)"
      ]
     },
     "execution_count": 2,
     "metadata": {},
     "output_type": "execute_result"
    }
   ],
   "source": [
    "integrate(x^4+1/x^2+exp(x)+cos(x),x)"
   ]
  },
  {
   "cell_type": "code",
   "execution_count": 3,
   "metadata": {
    "collapsed": false
   },
   "outputs": [
    {
     "data": {
      "text/plain": [
       "-x*cos(x) + sin(x)"
      ]
     },
     "execution_count": 3,
     "metadata": {},
     "output_type": "execute_result"
    }
   ],
   "source": [
    "integrate(x*sin(x),x)"
   ]
  },
  {
   "cell_type": "code",
   "execution_count": 5,
   "metadata": {
    "collapsed": true
   },
   "outputs": [],
   "source": [
    "alpha=var('alpha')\n",
    "beta=var('beta')\n",
    "gamma=var('gamma')"
   ]
  },
  {
   "cell_type": "code",
   "execution_count": 7,
   "metadata": {
    "collapsed": false
   },
   "outputs": [
    {
     "data": {
      "text/plain": [
       "alpha*arcsin(x) + beta*arctan(x) + gamma*log(x + 1)"
      ]
     },
     "execution_count": 7,
     "metadata": {},
     "output_type": "execute_result"
    }
   ],
   "source": [
    "integrate(alpha/sqrt(1-x^2)+beta/(1+x^2)+gamma/(1+x),x)"
   ]
  },
  {
   "cell_type": "code",
   "execution_count": 8,
   "metadata": {
    "collapsed": false
   },
   "outputs": [
    {
     "data": {
      "text/plain": [
       "1/3*x^3 + x - 1/2*log(x + 1) + 1/2*log(x - 1)"
      ]
     },
     "execution_count": 8,
     "metadata": {},
     "output_type": "execute_result"
    }
   ],
   "source": [
    "integrate(x^4/(x^2-1),x)"
   ]
  },
  {
   "cell_type": "code",
   "execution_count": 26,
   "metadata": {
    "collapsed": false
   },
   "outputs": [
    {
     "data": {
      "text/plain": [
       "x^(n + 1)*log(x)/(n + 1) - x^(n + 1)/(n + 1)^2"
      ]
     },
     "execution_count": 26,
     "metadata": {},
     "output_type": "execute_result"
    }
   ],
   "source": [
    "integrate(x^n*log(x),x)"
   ]
  },
  {
   "cell_type": "code",
   "execution_count": 24,
   "metadata": {
    "collapsed": false
   },
   "outputs": [],
   "source": [
    "n=var('n')\n",
    "assume(n>0)"
   ]
  },
  {
   "cell_type": "code",
   "execution_count": 27,
   "metadata": {
    "collapsed": false
   },
   "outputs": [
    {
     "data": {
      "text/plain": [
       "1/4*(9*3^(1/3)) + 2*sqrt(3) + log(3) + 29/4"
      ]
     },
     "execution_count": 27,
     "metadata": {},
     "output_type": "execute_result"
    }
   ],
   "source": [
    "integrate(x^2+sqrt(x)+1/x+x^(1/3),x,1,3)"
   ]
  },
  {
   "cell_type": "code",
   "execution_count": 28,
   "metadata": {
    "collapsed": false
   },
   "outputs": [
    {
     "data": {
      "text/plain": [
       "31/5"
      ]
     },
     "execution_count": 28,
     "metadata": {},
     "output_type": "execute_result"
    }
   ],
   "source": [
    "integrate(sin(x)*(1+cos(x))^4,x,0,pi/2)"
   ]
  },
  {
   "cell_type": "code",
   "execution_count": 30,
   "metadata": {
    "collapsed": false
   },
   "outputs": [
    {
     "data": {
      "text/plain": [
       "-3/8*sqrt(3) + 2/3"
      ]
     },
     "execution_count": 30,
     "metadata": {},
     "output_type": "execute_result"
    }
   ],
   "source": [
    "integrate(sin(x)^3,x,0,pi/6)"
   ]
  },
  {
   "cell_type": "code",
   "execution_count": 31,
   "metadata": {
    "collapsed": false
   },
   "outputs": [
    {
     "data": {
      "text/plain": [
       "-2/3*pi*(sqrt(3) - 1) + 2/3*pi*(sqrt(3) - 3) + (sqrt(3) - 1)*log(2) - (sqrt(3) - 3)*log(2) + 1/2*(sqrt(3) - 1)*log(sqrt(3) + 1) - 1/2*(sqrt(3) - 3)*log(sqrt(3) + 1) + 1/2*(3*sqrt(3)) - 9/2"
      ]
     },
     "execution_count": 31,
     "metadata": {},
     "output_type": "execute_result"
    }
   ],
   "source": [
    "integrate((3*x^3-2*x^2-5*x-6)/((x+1)^2*(x^2+1)),x,0,sqrt(3))"
   ]
  },
  {
   "cell_type": "code",
   "execution_count": 32,
   "metadata": {
    "collapsed": false
   },
   "outputs": [
    {
     "data": {
      "text/plain": [
       "-(-1)^(n + 1)*gamma(n + 1, -x)"
      ]
     },
     "execution_count": 32,
     "metadata": {},
     "output_type": "execute_result"
    }
   ],
   "source": [
    "integrate(x^n*exp(x),x)"
   ]
  },
  {
   "cell_type": "code",
   "execution_count": 33,
   "metadata": {
    "collapsed": false
   },
   "outputs": [
    {
     "data": {
      "text/plain": [
       "1/2*sqrt(-x^2 + 1)*x + 1/2*arcsin(x)"
      ]
     },
     "execution_count": 33,
     "metadata": {},
     "output_type": "execute_result"
    }
   ],
   "source": [
    "integrate(sqrt(1-x^2),x)"
   ]
  },
  {
   "cell_type": "code",
   "execution_count": 36,
   "metadata": {
    "collapsed": true
   },
   "outputs": [],
   "source": [
    "def integrale_chgtvar(f,eqn):\n",
    "    phi=solve(eqn,x)[0].rhs()\n",
    "    phi_inv=solve(eqn,u)[0].rhs()\n",
    "    frondphi=f(x=phi)\n",
    "    dphi=diff(phi,u)\n",
    "    g=frondphi*dphi\n",
    "    g=g.simplify_full()\n",
    "    G=integral(g,u)\n",
    "    F=G(u=phi_inv)\n",
    "    F=F.simplify()\n",
    "    return(F)"
   ]
  },
  {
   "cell_type": "code",
   "execution_count": 37,
   "metadata": {
    "collapsed": true
   },
   "outputs": [],
   "source": [
    "def integrale_chgtvar2(f,eqn,a,b):\n",
    "    phi=solve(eqn,x)[0].rhs()\n",
    "    phi_inv=solve(eqn,u)[0].rhs()\n",
    "    frondphi=f(x=phi)\n",
    "    dphi=diff(phi,u)\n",
    "    g=frondphi*dphi\n",
    "    g=g.simplify_full()\n",
    "    G=integral(g,u)\n",
    "    F=G(u=phi_inv)\n",
    "    F=F.simplify()\n",
    "    F=F(b)-F(a)\n",
    "    return(F)"
   ]
  },
  {
   "cell_type": "code",
   "execution_count": 42,
   "metadata": {
    "collapsed": false
   },
   "outputs": [
    {
     "name": "stderr",
     "output_type": "stream",
     "text": [
      "/opt/sagemath-8.1/local/lib/python2.7/site-packages/sage/repl/ipython_kernel/__main__.py:1: DeprecationWarning: Substitution using function-call syntax and unnamed arguments is deprecated and will be removed from a future release of Sage; you can use named arguments instead, like EXPR(x=..., y=...)\n",
      "See http://trac.sagemath.org/5930 for details.\n",
      "  from ipykernel.kernelapp import IPKernelApp\n"
     ]
    },
    {
     "data": {
      "text/plain": [
       "-1/2*(cos(2) + 1)^2 + 1/2*(cos(1) + 1)^2"
      ]
     },
     "execution_count": 42,
     "metadata": {},
     "output_type": "execute_result"
    }
   ],
   "source": [
    "integrale_chgtvar2(sin(x)*(cos(x)+1),u==cos(x)+1,1,2)"
   ]
  },
  {
   "cell_type": "code",
   "execution_count": 40,
   "metadata": {
    "collapsed": false
   },
   "outputs": [],
   "source": [
    "u=var('u')"
   ]
  },
  {
   "cell_type": "code",
   "execution_count": null,
   "metadata": {
    "collapsed": true
   },
   "outputs": [],
   "source": []
  }
 ],
 "metadata": {
  "kernelspec": {
   "display_name": "SageMath 8.1",
   "language": "",
   "name": "sagemath"
  },
  "language_info": {
   "codemirror_mode": {
    "name": "ipython",
    "version": 2
   },
   "file_extension": ".py",
   "mimetype": "text/x-python",
   "name": "python",
   "nbconvert_exporter": "python",
   "pygments_lexer": "ipython2",
   "version": "2.7.14"
  }
 },
 "nbformat": 4,
 "nbformat_minor": 2
}
