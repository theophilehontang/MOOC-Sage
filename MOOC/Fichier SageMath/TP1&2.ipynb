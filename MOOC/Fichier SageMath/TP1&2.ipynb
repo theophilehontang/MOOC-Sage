{
 "cells": [
  {
   "cell_type": "code",
   "execution_count": 10,
   "metadata": {
    "collapsed": false,
    "deletable": true,
    "editable": true
   },
   "outputs": [],
   "source": [
    "##Exercice 1"
   ]
  },
  {
   "cell_type": "code",
   "execution_count": 11,
   "metadata": {
    "collapsed": false,
    "deletable": true,
    "editable": true
   },
   "outputs": [
    {
     "data": {
      "text/plain": [
       "8"
      ]
     },
     "execution_count": 11,
     "metadata": {},
     "output_type": "execute_result"
    }
   ],
   "source": [
    "##Question 1\n",
    "floor(log(10245555,10))+1"
   ]
  },
  {
   "cell_type": "code",
   "execution_count": 27,
   "metadata": {
    "collapsed": false,
    "deletable": true,
    "editable": true
   },
   "outputs": [
    {
     "data": {
      "text/plain": [
       "(x, y, z)"
      ]
     },
     "execution_count": 27,
     "metadata": {},
     "output_type": "execute_result"
    }
   ],
   "source": [
    "var('x','y','z')"
   ]
  },
  {
   "cell_type": "code",
   "execution_count": 18,
   "metadata": {
    "collapsed": false,
    "deletable": true,
    "editable": true
   },
   "outputs": [
    {
     "ename": "IndentationError",
     "evalue": "unexpected indent (<ipython-input-18-09646a53ec5d>, line 3)",
     "output_type": "error",
     "traceback": [
      "\u001b[0;36m  File \u001b[0;32m\"<ipython-input-18-09646a53ec5d>\"\u001b[0;36m, line \u001b[0;32m3\u001b[0m\n\u001b[0;31m    if ln(P.coefficient)+Integer(1)==Integer(0):\u001b[0m\n\u001b[0m    ^\u001b[0m\n\u001b[0;31mIndentationError\u001b[0m\u001b[0;31m:\u001b[0m unexpected indent\n"
     ]
    }
   ],
   "source": [
    "for i in range(10):\n",
    "  P=expand((x+y+z)^i)\n",
    "  for k+l+m in range\n",
    "    if ln(P.coefficient(x^k*y^l*z^m))+1==10:\n",
    "    return(i)\n",
    "  else i=i+1"
   ]
  },
  {
   "cell_type": "code",
   "execution_count": 59,
   "metadata": {
    "collapsed": false,
    "deletable": true,
    "editable": true
   },
   "outputs": [
    {
     "data": {
      "text/html": [
       "<html><script type=\"math/tex; mode=display\">\\newcommand{\\Bold}[1]{\\mathbf{#1}}x^{11} + 11 \\, x^{10} y + 55 \\, x^{9} y^{2} + 165 \\, x^{8} y^{3} + 330 \\, x^{7} y^{4} + 462 \\, x^{6} y^{5} + 462 \\, x^{5} y^{6} + 330 \\, x^{4} y^{7} + 165 \\, x^{3} y^{8} + 55 \\, x^{2} y^{9} + 11 \\, x y^{10} + y^{11} + 11 \\, x^{10} z + 110 \\, x^{9} y z + 495 \\, x^{8} y^{2} z + 1320 \\, x^{7} y^{3} z + 2310 \\, x^{6} y^{4} z + 2772 \\, x^{5} y^{5} z + 2310 \\, x^{4} y^{6} z + 1320 \\, x^{3} y^{7} z + 495 \\, x^{2} y^{8} z + 110 \\, x y^{9} z + 11 \\, y^{10} z + 55 \\, x^{9} z^{2} + 495 \\, x^{8} y z^{2} + 1980 \\, x^{7} y^{2} z^{2} + 4620 \\, x^{6} y^{3} z^{2} + 6930 \\, x^{5} y^{4} z^{2} + 6930 \\, x^{4} y^{5} z^{2} + 4620 \\, x^{3} y^{6} z^{2} + 1980 \\, x^{2} y^{7} z^{2} + 495 \\, x y^{8} z^{2} + 55 \\, y^{9} z^{2} + 165 \\, x^{8} z^{3} + 1320 \\, x^{7} y z^{3} + 4620 \\, x^{6} y^{2} z^{3} + 9240 \\, x^{5} y^{3} z^{3} + 11550 \\, x^{4} y^{4} z^{3} + 9240 \\, x^{3} y^{5} z^{3} + 4620 \\, x^{2} y^{6} z^{3} + 1320 \\, x y^{7} z^{3} + 165 \\, y^{8} z^{3} + 330 \\, x^{7} z^{4} + 2310 \\, x^{6} y z^{4} + 6930 \\, x^{5} y^{2} z^{4} + 11550 \\, x^{4} y^{3} z^{4} + 11550 \\, x^{3} y^{4} z^{4} + 6930 \\, x^{2} y^{5} z^{4} + 2310 \\, x y^{6} z^{4} + 330 \\, y^{7} z^{4} + 462 \\, x^{6} z^{5} + 2772 \\, x^{5} y z^{5} + 6930 \\, x^{4} y^{2} z^{5} + 9240 \\, x^{3} y^{3} z^{5} + 6930 \\, x^{2} y^{4} z^{5} + 2772 \\, x y^{5} z^{5} + 462 \\, y^{6} z^{5} + 462 \\, x^{5} z^{6} + 2310 \\, x^{4} y z^{6} + 4620 \\, x^{3} y^{2} z^{6} + 4620 \\, x^{2} y^{3} z^{6} + 2310 \\, x y^{4} z^{6} + 462 \\, y^{5} z^{6} + 330 \\, x^{4} z^{7} + 1320 \\, x^{3} y z^{7} + 1980 \\, x^{2} y^{2} z^{7} + 1320 \\, x y^{3} z^{7} + 330 \\, y^{4} z^{7} + 165 \\, x^{3} z^{8} + 495 \\, x^{2} y z^{8} + 495 \\, x y^{2} z^{8} + 165 \\, y^{3} z^{8} + 55 \\, x^{2} z^{9} + 110 \\, x y z^{9} + 55 \\, y^{2} z^{9} + 11 \\, x z^{10} + 11 \\, y z^{10} + z^{11}</script></html>"
      ],
      "text/plain": [
       "x^11 + 11*x^10*y + 55*x^9*y^2 + 165*x^8*y^3 + 330*x^7*y^4 + 462*x^6*y^5 + 462*x^5*y^6 + 330*x^4*y^7 + 165*x^3*y^8 + 55*x^2*y^9 + 11*x*y^10 + y^11 + 11*x^10*z + 110*x^9*y*z + 495*x^8*y^2*z + 1320*x^7*y^3*z + 2310*x^6*y^4*z + 2772*x^5*y^5*z + 2310*x^4*y^6*z + 1320*x^3*y^7*z + 495*x^2*y^8*z + 110*x*y^9*z + 11*y^10*z + 55*x^9*z^2 + 495*x^8*y*z^2 + 1980*x^7*y^2*z^2 + 4620*x^6*y^3*z^2 + 6930*x^5*y^4*z^2 + 6930*x^4*y^5*z^2 + 4620*x^3*y^6*z^2 + 1980*x^2*y^7*z^2 + 495*x*y^8*z^2 + 55*y^9*z^2 + 165*x^8*z^3 + 1320*x^7*y*z^3 + 4620*x^6*y^2*z^3 + 9240*x^5*y^3*z^3 + 11550*x^4*y^4*z^3 + 9240*x^3*y^5*z^3 + 4620*x^2*y^6*z^3 + 1320*x*y^7*z^3 + 165*y^8*z^3 + 330*x^7*z^4 + 2310*x^6*y*z^4 + 6930*x^5*y^2*z^4 + 11550*x^4*y^3*z^4 + 11550*x^3*y^4*z^4 + 6930*x^2*y^5*z^4 + 2310*x*y^6*z^4 + 330*y^7*z^4 + 462*x^6*z^5 + 2772*x^5*y*z^5 + 6930*x^4*y^2*z^5 + 9240*x^3*y^3*z^5 + 6930*x^2*y^4*z^5 + 2772*x*y^5*z^5 + 462*y^6*z^5 + 462*x^5*z^6 + 2310*x^4*y*z^6 + 4620*x^3*y^2*z^6 + 4620*x^2*y^3*z^6 + 2310*x*y^4*z^6 + 462*y^5*z^6 + 330*x^4*z^7 + 1320*x^3*y*z^7 + 1980*x^2*y^2*z^7 + 1320*x*y^3*z^7 + 330*y^4*z^7 + 165*x^3*z^8 + 495*x^2*y*z^8 + 495*x*y^2*z^8 + 165*y^3*z^8 + 55*x^2*z^9 + 110*x*y*z^9 + 55*y^2*z^9 + 11*x*z^10 + 11*y*z^10 + z^11"
      ]
     },
     "metadata": {},
     "output_type": "display_data"
    }
   ],
   "source": [
    "show(expand((x+y+z)^11))"
   ]
  },
  {
   "cell_type": "code",
   "execution_count": 54,
   "metadata": {
    "collapsed": false,
    "deletable": true,
    "editable": true
   },
   "outputs": [
    {
     "data": {
      "text/plain": [
       "x^8 + 8*x^7*y + 28*x^6*y^2 + 56*x^5*y^3 + 70*x^4*y^4 + 56*x^3*y^5 + 28*x^2*y^6 + 8*x*y^7 + y^8 + 8*x^7*z + 56*x^6*y*z + 168*x^5*y^2*z + 280*x^4*y^3*z + 280*x^3*y^4*z + 168*x^2*y^5*z + 56*x*y^6*z + 8*y^7*z + 28*x^6*z^2 + 168*x^5*y*z^2 + 420*x^4*y^2*z^2 + 560*x^3*y^3*z^2 + 420*x^2*y^4*z^2 + 168*x*y^5*z^2 + 28*y^6*z^2 + 56*x^5*z^3 + 280*x^4*y*z^3 + 560*x^3*y^2*z^3 + 560*x^2*y^3*z^3 + 280*x*y^4*z^3 + 56*y^5*z^3 + 70*x^4*z^4 + 280*x^3*y*z^4 + 420*x^2*y^2*z^4 + 280*x*y^3*z^4 + 70*y^4*z^4 + 56*x^3*z^5 + 168*x^2*y*z^5 + 168*x*y^2*z^5 + 56*y^3*z^5 + 28*x^2*z^6 + 56*x*y*z^6 + 28*y^2*z^6 + 8*x*z^7 + 8*y*z^7 + z^8"
      ]
     },
     "execution_count": 54,
     "metadata": {},
     "output_type": "execute_result"
    }
   ],
   "source": [
    "expand((x+y+z)^8)"
   ]
  },
  {
   "cell_type": "code",
   "execution_count": 33,
   "metadata": {
    "collapsed": false,
    "deletable": true,
    "editable": true
   },
   "outputs": [
    {
     "name": "stdout",
     "output_type": "stream",
     "text": [
      "Object `binom` not found.\n"
     ]
    }
   ],
   "source": [
    "binom?"
   ]
  },
  {
   "cell_type": "code",
   "execution_count": 46,
   "metadata": {
    "collapsed": false,
    "deletable": true,
    "editable": true
   },
   "outputs": [
    {
     "data": {
      "text/plain": [
       "20"
      ]
     },
     "execution_count": 46,
     "metadata": {},
     "output_type": "execute_result"
    }
   ],
   "source": [
    "binomial(6,3)"
   ]
  },
  {
   "cell_type": "code",
   "execution_count": 63,
   "metadata": {
    "collapsed": false,
    "deletable": true,
    "editable": true
   },
   "outputs": [
    {
     "data": {
      "text/plain": [
       "x^3 + 3*x^2*y + 3*x*y^2 + y^3 + 3*x^2*z + 6*x*y*z + 3*y^2*z + 3*x*z^2 + 3*y*z^2 + z^3"
      ]
     },
     "execution_count": 63,
     "metadata": {},
     "output_type": "execute_result"
    }
   ],
   "source": [
    "P=expand((x+y+z)^3)\n",
    "P"
   ]
  },
  {
   "cell_type": "code",
   "execution_count": 42,
   "metadata": {
    "collapsed": false,
    "deletable": true,
    "editable": true
   },
   "outputs": [],
   "source": [
    "##Question 2\n",
    "A=RR['x,y,z']\n",
    "x,y,z=A.gens()\n",
    "def enigme1():\n",
    "    p=(x+y+z);\n",
    "    i=1;\n",
    "    while floor(log(max(p.coefficients()),10))+1 < 10:\n",
    "        i=i+1;\n",
    "        p=p*(x+y+z)\n",
    "    return(i)"
   ]
  },
  {
   "cell_type": "code",
   "execution_count": 43,
   "metadata": {
    "collapsed": false,
    "deletable": true,
    "editable": true
   },
   "outputs": [
    {
     "data": {
      "text/plain": [
       "22"
      ]
     },
     "execution_count": 43,
     "metadata": {},
     "output_type": "execute_result"
    }
   ],
   "source": [
    "enigme1()"
   ]
  },
  {
   "cell_type": "code",
   "execution_count": 79,
   "metadata": {
    "collapsed": false,
    "deletable": true,
    "editable": true
   },
   "outputs": [
    {
     "data": {
      "text/html": [
       "<html><script type=\"math/tex; mode=display\">\\newcommand{\\Bold}[1]{\\mathbf{#1}}x^{3} + 3.00000000000000 x^{2} y + 3.00000000000000 x y^{2} + y^{3} + 3.00000000000000 x^{2} z + 6.00000000000000 x y z + 3.00000000000000 y^{2} z + 3.00000000000000 x z^{2} + 3.00000000000000 y z^{2} + z^{3}</script></html>"
      ],
      "text/plain": [
       "x^3 + 3.00000000000000*x^2*y + 3.00000000000000*x*y^2 + y^3 + 3.00000000000000*x^2*z + 6.00000000000000*x*y*z + 3.00000000000000*y^2*z + 3.00000000000000*x*z^2 + 3.00000000000000*y*z^2 + z^3"
      ]
     },
     "metadata": {},
     "output_type": "display_data"
    }
   ],
   "source": [
    "show(p)"
   ]
  },
  {
   "cell_type": "code",
   "execution_count": 83,
   "metadata": {
    "collapsed": false,
    "deletable": true,
    "editable": true
   },
   "outputs": [
    {
     "data": {
      "text/plain": [
       "6.00000000000000"
      ]
     },
     "execution_count": 83,
     "metadata": {},
     "output_type": "execute_result"
    }
   ],
   "source": [
    "max(p.coefficients())"
   ]
  },
  {
   "cell_type": "code",
   "execution_count": 29,
   "metadata": {
    "collapsed": false,
    "deletable": true,
    "editable": true
   },
   "outputs": [
    {
     "data": {
      "text/plain": [
       "4"
      ]
     },
     "execution_count": 29,
     "metadata": {},
     "output_type": "execute_result"
    }
   ],
   "source": [
    "floor(log(1000,10))+1"
   ]
  },
  {
   "cell_type": "code",
   "execution_count": 67,
   "metadata": {
    "collapsed": false,
    "deletable": true,
    "editable": true
   },
   "outputs": [
    {
     "data": {
      "text/plain": [
       "1.234567890123456789012345678901234567890123456789012345678901234567890123456789012345678901234567890"
      ]
     },
     "execution_count": 67,
     "metadata": {},
     "output_type": "execute_result"
    }
   ],
   "source": [
    "a=sum(sum(10^((100-10*l)-k)*k,k,1,9),l,0,9)/10^99\n",
    "a.n(digits=100)"
   ]
  },
  {
   "cell_type": "code",
   "execution_count": 102,
   "metadata": {
    "collapsed": false,
    "deletable": true,
    "editable": true
   },
   "outputs": [],
   "source": [
    "##Question 1\n",
    "def champ():\n",
    "    a=1;\n",
    "    for i in range(2,100):\n",
    "        a=10^(floor(log(i,10))+1)*a+i\n",
    "    return(a/10^189)"
   ]
  },
  {
   "cell_type": "code",
   "execution_count": 103,
   "metadata": {
    "collapsed": false,
    "deletable": true,
    "editable": true
   },
   "outputs": [
    {
     "data": {
      "text/plain": [
       "123456789101112131415161718192021222324252627282930313233343536373839404142434445464748495051525354555657585960616263646566676869707172737475767778798081828384858687888990919293949596979899/1000000000000000000000000000000000000000000000000000000000000000000000000000000000000000000000000000000000000000000000000000000000000000000000000000000000000000000000000000000000000000000000"
      ]
     },
     "execution_count": 103,
     "metadata": {},
     "output_type": "execute_result"
    }
   ],
   "source": [
    "champ()"
   ]
  },
  {
   "cell_type": "code",
   "execution_count": 99,
   "metadata": {
    "collapsed": false,
    "deletable": true,
    "editable": true
   },
   "outputs": [
    {
     "data": {
      "text/plain": [
       "189"
      ]
     },
     "execution_count": 99,
     "metadata": {},
     "output_type": "execute_result"
    }
   ],
   "source": [
    "floor(log(champ(),10))+1"
   ]
  },
  {
   "cell_type": "code",
   "execution_count": 6,
   "metadata": {
    "collapsed": false,
    "deletable": true,
    "editable": true
   },
   "outputs": [
    {
     "data": {
      "text/plain": [
       "156"
      ]
     },
     "execution_count": 6,
     "metadata": {},
     "output_type": "execute_result"
    }
   ],
   "source": [
    "156"
   ]
  },
  {
   "cell_type": "code",
   "execution_count": 10,
   "metadata": {
    "collapsed": false
   },
   "outputs": [],
   "source": [
    "g(l)=sum(k*9*10^(k-1),k,1,l)"
   ]
  },
  {
   "cell_type": "code",
   "execution_count": 44,
   "metadata": {
    "collapsed": false
   },
   "outputs": [],
   "source": [
    "range?"
   ]
  },
  {
   "cell_type": "code",
   "execution_count": null,
   "metadata": {
    "collapsed": false
   },
   "outputs": [],
   "source": []
  },
  {
   "cell_type": "code",
   "execution_count": 30,
   "metadata": {
    "collapsed": false
   },
   "outputs": [],
   "source": [
    "def test_euler(n,p):\n",
    "    if mod(n^((p-1)/2),p)==1 or  mod(n^((p-1)/2),p)==-1:\n",
    "        return True\n",
    "    return False"
   ]
  },
  {
   "cell_type": "code",
   "execution_count": 46,
   "metadata": {
    "collapsed": false
   },
   "outputs": [
    {
     "data": {
      "text/plain": [
       "True"
      ]
     },
     "execution_count": 46,
     "metadata": {},
     "output_type": "execute_result"
    }
   ],
   "source": [
    "is_prime(257)"
   ]
  },
  {
   "cell_type": "code",
   "execution_count": 57,
   "metadata": {
    "collapsed": false
   },
   "outputs": [],
   "source": [
    "def enigme2():\n",
    "    for i in range(3,1000000):\n",
    "        if mod(i,2)==1:\n",
    "            if test_euler(2,i)==True:\n",
    "                if test_euler(3,i)==True:\n",
    "                    if test_euler(5,i)==True:\n",
    "                        if is_prime(i)==False:\n",
    "                            return(i)\n",
    "            \n",
    "            \n",
    "    \n",
    "    \n",
    "    \n"
   ]
  },
  {
   "cell_type": "code",
   "execution_count": 58,
   "metadata": {
    "collapsed": false
   },
   "outputs": [
    {
     "data": {
      "text/plain": [
       "1729"
      ]
     },
     "execution_count": 58,
     "metadata": {},
     "output_type": "execute_result"
    }
   ],
   "source": [
    "enigme2()"
   ]
  },
  {
   "cell_type": "code",
   "execution_count": 62,
   "metadata": {
    "collapsed": false
   },
   "outputs": [
    {
     "data": {
      "text/plain": [
       "True"
      ]
     },
     "execution_count": 62,
     "metadata": {},
     "output_type": "execute_result"
    }
   ],
   "source": [
    "test_euler(5,1729)"
   ]
  },
  {
   "cell_type": "code",
   "execution_count": 66,
   "metadata": {
    "collapsed": false
   },
   "outputs": [
    {
     "data": {
      "image/png": "[encoded data removed]",
      "text/plain": [
       "Graphics object consisting of 1 graphics primitive"
      ]
     },
     "execution_count": 66,
     "metadata": {},
     "output_type": "execute_result"
    }
   ],
   "source": [
    "polar_plot(((1+sqrt(5))/2)^(2*t/pi),(t,0,2*pi))"
   ]
  },
  {
   "cell_type": "code",
   "execution_count": 67,
   "metadata": {
    "collapsed": false
   },
   "outputs": [
    {
     "data": {
      "text/plain": [
       "x^9 + 9*x^8 + 36*x^7 + 84*x^6 + 126*x^5 + 126*x^4 + 84*x^3 + 36*x^2 + 9*x + 1"
      ]
     },
     "execution_count": 67,
     "metadata": {},
     "output_type": "execute_result"
    }
   ],
   "source": [
    "expand((x+1)^9)"
   ]
  },
  {
   "cell_type": "code",
   "execution_count": 88,
   "metadata": {
    "collapsed": false
   },
   "outputs": [],
   "source": [
    "A=RR['x']"
   ]
  },
  {
   "cell_type": "code",
   "execution_count": 120,
   "metadata": {
    "collapsed": false
   },
   "outputs": [
    {
     "data": {
      "text/html": [
       "<html><script type=\"math/tex; mode=display\">\\newcommand{\\Bold}[1]{\\mathbf{#1}}\\verb|Univariate|\\phantom{\\verb!x!}\\verb|Quotient|\\phantom{\\verb!x!}\\verb|Polynomial|\\phantom{\\verb!x!}\\verb|Ring|\\phantom{\\verb!x!}\\verb|in|\\phantom{\\verb!x!}\\verb|xbar|\\phantom{\\verb!x!}\\verb|over|\\phantom{\\verb!x!}\\verb|Real|\\phantom{\\verb!x!}\\verb|Field|\\phantom{\\verb!x!}\\verb|with|\\phantom{\\verb!x!}\\verb|53|\\phantom{\\verb!x!}\\verb|bits|\\phantom{\\verb!x!}\\verb|of|\\phantom{\\verb!x!}\\verb|precision|\\phantom{\\verb!x!}\\verb|with|\\phantom{\\verb!x!}\\verb|modulus|\\phantom{\\verb!x!}\\verb|x^2|\\phantom{\\verb!x!}\\verb|-|\\phantom{\\verb!x!}\\verb|x|\\phantom{\\verb!x!}\\verb|-|\\phantom{\\verb!x!}\\verb|1.00000000000000|</script></html>"
      ],
      "text/plain": [
       "Univariate Quotient Polynomial Ring in xbar over Real Field with 53 bits of precision with modulus x^2 - x - 1.00000000000000"
      ]
     },
     "metadata": {},
     "output_type": "display_data"
    }
   ],
   "source": [
    "S=A.quo(x^2-x-1)\n",
    "show(S)"
   ]
  },
  {
   "cell_type": "code",
   "execution_count": 118,
   "metadata": {
    "collapsed": false
   },
   "outputs": [
    {
     "data": {
      "text/plain": [
       "2584.00000000000*xbar + 1597.00000000000"
      ]
     },
     "execution_count": 118,
     "metadata": {},
     "output_type": "execute_result"
    }
   ],
   "source": [
    "S(x^18)"
   ]
  },
  {
   "cell_type": "code",
   "execution_count": 119,
   "metadata": {
    "collapsed": false
   },
   "outputs": [
    {
     "data": {
      "text/plain": [
       "4181"
      ]
     },
     "execution_count": 119,
     "metadata": {},
     "output_type": "execute_result"
    }
   ],
   "source": [
    "2584+1597"
   ]
  },
  {
   "cell_type": "code",
   "execution_count": 114,
   "metadata": {
    "collapsed": false
   },
   "outputs": [
    {
     "data": {
      "text/plain": [
       "x"
      ]
     },
     "execution_count": 114,
     "metadata": {},
     "output_type": "execute_result"
    }
   ],
   "source": [
    "var('x')"
   ]
  },
  {
   "cell_type": "code",
   "execution_count": null,
   "metadata": {
    "collapsed": true
   },
   "outputs": [],
   "source": []
  }
 ],
 "metadata": {
  "kernelspec": {
   "display_name": "SageMath 8.0",
   "language": "",
   "name": "sagemath"
  },
  "language_info": {
   "codemirror_mode": {
    "name": "ipython",
    "version": 2
   },
   "file_extension": ".py",
   "mimetype": "text/x-python",
   "name": "python",
   "nbconvert_exporter": "python",
   "pygments_lexer": "ipython2",
   "version": "2.7.13"
  }
 },
 "nbformat": 4,
 "nbformat_minor": 2
}
